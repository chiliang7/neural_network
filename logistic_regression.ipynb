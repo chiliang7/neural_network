{
 "cells": [
  {
   "cell_type": "code",
   "execution_count": 1,
   "id": "90dab1bb-d48b-4f3b-8ec5-f499f9efc173",
   "metadata": {},
   "outputs": [],
   "source": [
    "import pandas as pd\n",
    "import numpy as np\n",
    "import pdb"
   ]
  },
  {
   "cell_type": "code",
   "execution_count": 2,
   "id": "17f3b018-49b7-4fd1-9650-c1f487a2acd5",
   "metadata": {},
   "outputs": [],
   "source": [
    "def gradient_descent(Y, X, W, A, b, learning_rate = 0.1):\n",
    "    \"\"\"\n",
    "    Y: shape(m,)\n",
    "    X, shape(n, m)\n",
    "    W, shape(n, 1)\n",
    "    A, shape(m,)\n",
    "    \"\"\"\n",
    "\n",
    "    m, _ = Y.shape\n",
    "    dw = np.dot(X, A - Y) / m\n",
    "    db = np.sum(A - Y) / m\n",
    "\n",
    "    assert W.shape == dw.shape, f'W.shape: {W.shape}, dw.shape: {dw.shape}'\n",
    "    \n",
    "    W -= learning_rate * dw\n",
    "    b -= learning_rate * db\n",
    "\n",
    "    return W, b"
   ]
  },
  {
   "cell_type": "code",
   "execution_count": 3,
   "id": "90936972-de56-4813-9b04-84589bf0e672",
   "metadata": {},
   "outputs": [],
   "source": [
    "def cost_function(Y, A):\n",
    "    \"\"\"\n",
    "    Y: shape(m,)\n",
    "    A: shape(m,)\n",
    "    \"\"\"\n",
    "\n",
    "    m, _ = Y.shape\n",
    "\n",
    "    J = - 1 / m * np.sum(Y * np.log(A) + (1 - Y) * np.log(1 - A))\n",
    "    return J"
   ]
  },
  {
   "cell_type": "code",
   "execution_count": 4,
   "id": "8ccc3a89-0471-4a89-a47d-4c8f5cf328ce",
   "metadata": {},
   "outputs": [],
   "source": [
    "def feed_forward(X, W, b):\n",
    "    Z = np.dot(W.transpose(), X) + b\n",
    "    A = 1 / (1 + np.exp(-Z))\n",
    "    # print(f'A: {A.reshape(-1).shape}')\n",
    "    return A.reshape(-1)"
   ]
  },
  {
   "cell_type": "code",
   "execution_count": 31,
   "id": "9d998731-a201-426f-b57d-2ade62cf1ec3",
   "metadata": {},
   "outputs": [],
   "source": [
    "def logistic_regression(Y, X, num_iteration):\n",
    "    \"\"\"\n",
    "    Y: np.array shape(m,)\n",
    "    X: np.array shape(n, m)\n",
    "    num_iteration: int\n",
    "    \"\"\"\n",
    "\n",
    "    m, _ = Y.shape\n",
    "    assert Y.shape[0] == X.shape[1]\n",
    "\n",
    "    n, _ = X.shape\n",
    "    W = np.random.rand(n, 1)\n",
    "    b = np.random.rand()\n",
    "\n",
    "    print(f'W.shape: {W.shape}, W: {W}, b: {b}')\n",
    "    costs = []\n",
    "    count = 0\n",
    "    for i in range(num_iteration):\n",
    "        A = feed_forward(X, W, b)\n",
    "        J = cost_function(Y, A)\n",
    "        # print(f'cost: {J}')\n",
    "        # pdb.set_trace()\n",
    "        if count % 40 == 39:\n",
    "            print(f'{count}: {J}')\n",
    "\n",
    "        costs.append(J)\n",
    "        W, b = gradient_descent(Y.reshape(-1, 1), X, W, A.reshape(-1, 1), b, learning_rate=.01)\n",
    "        count += 1\n",
    "    return W, b, costs"
   ]
  },
  {
   "cell_type": "code",
   "execution_count": 6,
   "id": "dd1a0221-6526-476a-85c7-d77d896c7513",
   "metadata": {},
   "outputs": [],
   "source": [
    "df = pd.read_csv('/Users/danielkuo/Desktop/heart_disease_prediction/framingham.csv')"
   ]
  },
  {
   "cell_type": "code",
   "execution_count": 7,
   "id": "5fe5b0cd-f34c-492f-89fe-2c91bb1784fc",
   "metadata": {},
   "outputs": [],
   "source": [
    "columns_with_na = df.isna().sum(axis=0) > 0"
   ]
  },
  {
   "cell_type": "code",
   "execution_count": 8,
   "id": "9e67b042-29b9-4e83-85b1-7b5333dbc9f3",
   "metadata": {},
   "outputs": [],
   "source": [
    "X = df.loc[:, (~df.columns.isin(['TenYearCHD'])) & (~columns_with_na)].to_numpy()"
   ]
  },
  {
   "cell_type": "code",
   "execution_count": 9,
   "id": "1424e6e7-5a6a-486b-aee4-a9726390c166",
   "metadata": {},
   "outputs": [
    {
     "data": {
      "text/plain": [
       "(4238, 8)"
      ]
     },
     "execution_count": 9,
     "metadata": {},
     "output_type": "execute_result"
    }
   ],
   "source": [
    "X.shape"
   ]
  },
  {
   "cell_type": "code",
   "execution_count": 10,
   "id": "a79b2e32-e640-4df9-870a-d7c841e11e59",
   "metadata": {},
   "outputs": [],
   "source": [
    "Y = df['TenYearCHD'].to_numpy().reshape(-1, 1)"
   ]
  },
  {
   "cell_type": "code",
   "execution_count": 11,
   "id": "660cb4c0-e9d7-4556-9182-84236e078526",
   "metadata": {},
   "outputs": [
    {
     "data": {
      "text/plain": [
       "TenYearCHD\n",
       "0    3594\n",
       "1     644\n",
       "Name: count, dtype: int64"
      ]
     },
     "execution_count": 11,
     "metadata": {},
     "output_type": "execute_result"
    }
   ],
   "source": [
    "df['TenYearCHD'].value_counts()"
   ]
  },
  {
   "cell_type": "code",
   "execution_count": 76,
   "id": "e50644f0-18b3-4c0e-9c0d-367b72dc3264",
   "metadata": {},
   "outputs": [],
   "source": [
    "from sklearn.preprocessing import MinMaxScaler\n",
    "from sklearn.metrics import roc_curve, confusion_matrix, ConfusionMatrixDisplay, f1_score"
   ]
  },
  {
   "cell_type": "code",
   "execution_count": 13,
   "id": "2ab36f7b-a194-425f-86c8-faa4d68c2c07",
   "metadata": {},
   "outputs": [],
   "source": [
    "min_max_scaler = MinMaxScaler()"
   ]
  },
  {
   "cell_type": "code",
   "execution_count": 14,
   "id": "cbb5dc61-d03f-4a7a-a05b-c71d63ab9339",
   "metadata": {},
   "outputs": [
    {
     "data": {
      "text/html": [
       "<style>#sk-container-id-1 {\n",
       "  /* Definition of color scheme common for light and dark mode */\n",
       "  --sklearn-color-text: black;\n",
       "  --sklearn-color-line: gray;\n",
       "  /* Definition of color scheme for unfitted estimators */\n",
       "  --sklearn-color-unfitted-level-0: #fff5e6;\n",
       "  --sklearn-color-unfitted-level-1: #f6e4d2;\n",
       "  --sklearn-color-unfitted-level-2: #ffe0b3;\n",
       "  --sklearn-color-unfitted-level-3: chocolate;\n",
       "  /* Definition of color scheme for fitted estimators */\n",
       "  --sklearn-color-fitted-level-0: #f0f8ff;\n",
       "  --sklearn-color-fitted-level-1: #d4ebff;\n",
       "  --sklearn-color-fitted-level-2: #b3dbfd;\n",
       "  --sklearn-color-fitted-level-3: cornflowerblue;\n",
       "\n",
       "  /* Specific color for light theme */\n",
       "  --sklearn-color-text-on-default-background: var(--sg-text-color, var(--theme-code-foreground, var(--jp-content-font-color1, black)));\n",
       "  --sklearn-color-background: var(--sg-background-color, var(--theme-background, var(--jp-layout-color0, white)));\n",
       "  --sklearn-color-border-box: var(--sg-text-color, var(--theme-code-foreground, var(--jp-content-font-color1, black)));\n",
       "  --sklearn-color-icon: #696969;\n",
       "\n",
       "  @media (prefers-color-scheme: dark) {\n",
       "    /* Redefinition of color scheme for dark theme */\n",
       "    --sklearn-color-text-on-default-background: var(--sg-text-color, var(--theme-code-foreground, var(--jp-content-font-color1, white)));\n",
       "    --sklearn-color-background: var(--sg-background-color, var(--theme-background, var(--jp-layout-color0, #111)));\n",
       "    --sklearn-color-border-box: var(--sg-text-color, var(--theme-code-foreground, var(--jp-content-font-color1, white)));\n",
       "    --sklearn-color-icon: #878787;\n",
       "  }\n",
       "}\n",
       "\n",
       "#sk-container-id-1 {\n",
       "  color: var(--sklearn-color-text);\n",
       "}\n",
       "\n",
       "#sk-container-id-1 pre {\n",
       "  padding: 0;\n",
       "}\n",
       "\n",
       "#sk-container-id-1 input.sk-hidden--visually {\n",
       "  border: 0;\n",
       "  clip: rect(1px 1px 1px 1px);\n",
       "  clip: rect(1px, 1px, 1px, 1px);\n",
       "  height: 1px;\n",
       "  margin: -1px;\n",
       "  overflow: hidden;\n",
       "  padding: 0;\n",
       "  position: absolute;\n",
       "  width: 1px;\n",
       "}\n",
       "\n",
       "#sk-container-id-1 div.sk-dashed-wrapped {\n",
       "  border: 1px dashed var(--sklearn-color-line);\n",
       "  margin: 0 0.4em 0.5em 0.4em;\n",
       "  box-sizing: border-box;\n",
       "  padding-bottom: 0.4em;\n",
       "  background-color: var(--sklearn-color-background);\n",
       "}\n",
       "\n",
       "#sk-container-id-1 div.sk-container {\n",
       "  /* jupyter's `normalize.less` sets `[hidden] { display: none; }`\n",
       "     but bootstrap.min.css set `[hidden] { display: none !important; }`\n",
       "     so we also need the `!important` here to be able to override the\n",
       "     default hidden behavior on the sphinx rendered scikit-learn.org.\n",
       "     See: https://github.com/scikit-learn/scikit-learn/issues/21755 */\n",
       "  display: inline-block !important;\n",
       "  position: relative;\n",
       "}\n",
       "\n",
       "#sk-container-id-1 div.sk-text-repr-fallback {\n",
       "  display: none;\n",
       "}\n",
       "\n",
       "div.sk-parallel-item,\n",
       "div.sk-serial,\n",
       "div.sk-item {\n",
       "  /* draw centered vertical line to link estimators */\n",
       "  background-image: linear-gradient(var(--sklearn-color-text-on-default-background), var(--sklearn-color-text-on-default-background));\n",
       "  background-size: 2px 100%;\n",
       "  background-repeat: no-repeat;\n",
       "  background-position: center center;\n",
       "}\n",
       "\n",
       "/* Parallel-specific style estimator block */\n",
       "\n",
       "#sk-container-id-1 div.sk-parallel-item::after {\n",
       "  content: \"\";\n",
       "  width: 100%;\n",
       "  border-bottom: 2px solid var(--sklearn-color-text-on-default-background);\n",
       "  flex-grow: 1;\n",
       "}\n",
       "\n",
       "#sk-container-id-1 div.sk-parallel {\n",
       "  display: flex;\n",
       "  align-items: stretch;\n",
       "  justify-content: center;\n",
       "  background-color: var(--sklearn-color-background);\n",
       "  position: relative;\n",
       "}\n",
       "\n",
       "#sk-container-id-1 div.sk-parallel-item {\n",
       "  display: flex;\n",
       "  flex-direction: column;\n",
       "}\n",
       "\n",
       "#sk-container-id-1 div.sk-parallel-item:first-child::after {\n",
       "  align-self: flex-end;\n",
       "  width: 50%;\n",
       "}\n",
       "\n",
       "#sk-container-id-1 div.sk-parallel-item:last-child::after {\n",
       "  align-self: flex-start;\n",
       "  width: 50%;\n",
       "}\n",
       "\n",
       "#sk-container-id-1 div.sk-parallel-item:only-child::after {\n",
       "  width: 0;\n",
       "}\n",
       "\n",
       "/* Serial-specific style estimator block */\n",
       "\n",
       "#sk-container-id-1 div.sk-serial {\n",
       "  display: flex;\n",
       "  flex-direction: column;\n",
       "  align-items: center;\n",
       "  background-color: var(--sklearn-color-background);\n",
       "  padding-right: 1em;\n",
       "  padding-left: 1em;\n",
       "}\n",
       "\n",
       "\n",
       "/* Toggleable style: style used for estimator/Pipeline/ColumnTransformer box that is\n",
       "clickable and can be expanded/collapsed.\n",
       "- Pipeline and ColumnTransformer use this feature and define the default style\n",
       "- Estimators will overwrite some part of the style using the `sk-estimator` class\n",
       "*/\n",
       "\n",
       "/* Pipeline and ColumnTransformer style (default) */\n",
       "\n",
       "#sk-container-id-1 div.sk-toggleable {\n",
       "  /* Default theme specific background. It is overwritten whether we have a\n",
       "  specific estimator or a Pipeline/ColumnTransformer */\n",
       "  background-color: var(--sklearn-color-background);\n",
       "}\n",
       "\n",
       "/* Toggleable label */\n",
       "#sk-container-id-1 label.sk-toggleable__label {\n",
       "  cursor: pointer;\n",
       "  display: block;\n",
       "  width: 100%;\n",
       "  margin-bottom: 0;\n",
       "  padding: 0.5em;\n",
       "  box-sizing: border-box;\n",
       "  text-align: center;\n",
       "}\n",
       "\n",
       "#sk-container-id-1 label.sk-toggleable__label-arrow:before {\n",
       "  /* Arrow on the left of the label */\n",
       "  content: \"▸\";\n",
       "  float: left;\n",
       "  margin-right: 0.25em;\n",
       "  color: var(--sklearn-color-icon);\n",
       "}\n",
       "\n",
       "#sk-container-id-1 label.sk-toggleable__label-arrow:hover:before {\n",
       "  color: var(--sklearn-color-text);\n",
       "}\n",
       "\n",
       "/* Toggleable content - dropdown */\n",
       "\n",
       "#sk-container-id-1 div.sk-toggleable__content {\n",
       "  max-height: 0;\n",
       "  max-width: 0;\n",
       "  overflow: hidden;\n",
       "  text-align: left;\n",
       "  /* unfitted */\n",
       "  background-color: var(--sklearn-color-unfitted-level-0);\n",
       "}\n",
       "\n",
       "#sk-container-id-1 div.sk-toggleable__content.fitted {\n",
       "  /* fitted */\n",
       "  background-color: var(--sklearn-color-fitted-level-0);\n",
       "}\n",
       "\n",
       "#sk-container-id-1 div.sk-toggleable__content pre {\n",
       "  margin: 0.2em;\n",
       "  border-radius: 0.25em;\n",
       "  color: var(--sklearn-color-text);\n",
       "  /* unfitted */\n",
       "  background-color: var(--sklearn-color-unfitted-level-0);\n",
       "}\n",
       "\n",
       "#sk-container-id-1 div.sk-toggleable__content.fitted pre {\n",
       "  /* unfitted */\n",
       "  background-color: var(--sklearn-color-fitted-level-0);\n",
       "}\n",
       "\n",
       "#sk-container-id-1 input.sk-toggleable__control:checked~div.sk-toggleable__content {\n",
       "  /* Expand drop-down */\n",
       "  max-height: 200px;\n",
       "  max-width: 100%;\n",
       "  overflow: auto;\n",
       "}\n",
       "\n",
       "#sk-container-id-1 input.sk-toggleable__control:checked~label.sk-toggleable__label-arrow:before {\n",
       "  content: \"▾\";\n",
       "}\n",
       "\n",
       "/* Pipeline/ColumnTransformer-specific style */\n",
       "\n",
       "#sk-container-id-1 div.sk-label input.sk-toggleable__control:checked~label.sk-toggleable__label {\n",
       "  color: var(--sklearn-color-text);\n",
       "  background-color: var(--sklearn-color-unfitted-level-2);\n",
       "}\n",
       "\n",
       "#sk-container-id-1 div.sk-label.fitted input.sk-toggleable__control:checked~label.sk-toggleable__label {\n",
       "  background-color: var(--sklearn-color-fitted-level-2);\n",
       "}\n",
       "\n",
       "/* Estimator-specific style */\n",
       "\n",
       "/* Colorize estimator box */\n",
       "#sk-container-id-1 div.sk-estimator input.sk-toggleable__control:checked~label.sk-toggleable__label {\n",
       "  /* unfitted */\n",
       "  background-color: var(--sklearn-color-unfitted-level-2);\n",
       "}\n",
       "\n",
       "#sk-container-id-1 div.sk-estimator.fitted input.sk-toggleable__control:checked~label.sk-toggleable__label {\n",
       "  /* fitted */\n",
       "  background-color: var(--sklearn-color-fitted-level-2);\n",
       "}\n",
       "\n",
       "#sk-container-id-1 div.sk-label label.sk-toggleable__label,\n",
       "#sk-container-id-1 div.sk-label label {\n",
       "  /* The background is the default theme color */\n",
       "  color: var(--sklearn-color-text-on-default-background);\n",
       "}\n",
       "\n",
       "/* On hover, darken the color of the background */\n",
       "#sk-container-id-1 div.sk-label:hover label.sk-toggleable__label {\n",
       "  color: var(--sklearn-color-text);\n",
       "  background-color: var(--sklearn-color-unfitted-level-2);\n",
       "}\n",
       "\n",
       "/* Label box, darken color on hover, fitted */\n",
       "#sk-container-id-1 div.sk-label.fitted:hover label.sk-toggleable__label.fitted {\n",
       "  color: var(--sklearn-color-text);\n",
       "  background-color: var(--sklearn-color-fitted-level-2);\n",
       "}\n",
       "\n",
       "/* Estimator label */\n",
       "\n",
       "#sk-container-id-1 div.sk-label label {\n",
       "  font-family: monospace;\n",
       "  font-weight: bold;\n",
       "  display: inline-block;\n",
       "  line-height: 1.2em;\n",
       "}\n",
       "\n",
       "#sk-container-id-1 div.sk-label-container {\n",
       "  text-align: center;\n",
       "}\n",
       "\n",
       "/* Estimator-specific */\n",
       "#sk-container-id-1 div.sk-estimator {\n",
       "  font-family: monospace;\n",
       "  border: 1px dotted var(--sklearn-color-border-box);\n",
       "  border-radius: 0.25em;\n",
       "  box-sizing: border-box;\n",
       "  margin-bottom: 0.5em;\n",
       "  /* unfitted */\n",
       "  background-color: var(--sklearn-color-unfitted-level-0);\n",
       "}\n",
       "\n",
       "#sk-container-id-1 div.sk-estimator.fitted {\n",
       "  /* fitted */\n",
       "  background-color: var(--sklearn-color-fitted-level-0);\n",
       "}\n",
       "\n",
       "/* on hover */\n",
       "#sk-container-id-1 div.sk-estimator:hover {\n",
       "  /* unfitted */\n",
       "  background-color: var(--sklearn-color-unfitted-level-2);\n",
       "}\n",
       "\n",
       "#sk-container-id-1 div.sk-estimator.fitted:hover {\n",
       "  /* fitted */\n",
       "  background-color: var(--sklearn-color-fitted-level-2);\n",
       "}\n",
       "\n",
       "/* Specification for estimator info (e.g. \"i\" and \"?\") */\n",
       "\n",
       "/* Common style for \"i\" and \"?\" */\n",
       "\n",
       ".sk-estimator-doc-link,\n",
       "a:link.sk-estimator-doc-link,\n",
       "a:visited.sk-estimator-doc-link {\n",
       "  float: right;\n",
       "  font-size: smaller;\n",
       "  line-height: 1em;\n",
       "  font-family: monospace;\n",
       "  background-color: var(--sklearn-color-background);\n",
       "  border-radius: 1em;\n",
       "  height: 1em;\n",
       "  width: 1em;\n",
       "  text-decoration: none !important;\n",
       "  margin-left: 1ex;\n",
       "  /* unfitted */\n",
       "  border: var(--sklearn-color-unfitted-level-1) 1pt solid;\n",
       "  color: var(--sklearn-color-unfitted-level-1);\n",
       "}\n",
       "\n",
       ".sk-estimator-doc-link.fitted,\n",
       "a:link.sk-estimator-doc-link.fitted,\n",
       "a:visited.sk-estimator-doc-link.fitted {\n",
       "  /* fitted */\n",
       "  border: var(--sklearn-color-fitted-level-1) 1pt solid;\n",
       "  color: var(--sklearn-color-fitted-level-1);\n",
       "}\n",
       "\n",
       "/* On hover */\n",
       "div.sk-estimator:hover .sk-estimator-doc-link:hover,\n",
       ".sk-estimator-doc-link:hover,\n",
       "div.sk-label-container:hover .sk-estimator-doc-link:hover,\n",
       ".sk-estimator-doc-link:hover {\n",
       "  /* unfitted */\n",
       "  background-color: var(--sklearn-color-unfitted-level-3);\n",
       "  color: var(--sklearn-color-background);\n",
       "  text-decoration: none;\n",
       "}\n",
       "\n",
       "div.sk-estimator.fitted:hover .sk-estimator-doc-link.fitted:hover,\n",
       ".sk-estimator-doc-link.fitted:hover,\n",
       "div.sk-label-container:hover .sk-estimator-doc-link.fitted:hover,\n",
       ".sk-estimator-doc-link.fitted:hover {\n",
       "  /* fitted */\n",
       "  background-color: var(--sklearn-color-fitted-level-3);\n",
       "  color: var(--sklearn-color-background);\n",
       "  text-decoration: none;\n",
       "}\n",
       "\n",
       "/* Span, style for the box shown on hovering the info icon */\n",
       ".sk-estimator-doc-link span {\n",
       "  display: none;\n",
       "  z-index: 9999;\n",
       "  position: relative;\n",
       "  font-weight: normal;\n",
       "  right: .2ex;\n",
       "  padding: .5ex;\n",
       "  margin: .5ex;\n",
       "  width: min-content;\n",
       "  min-width: 20ex;\n",
       "  max-width: 50ex;\n",
       "  color: var(--sklearn-color-text);\n",
       "  box-shadow: 2pt 2pt 4pt #999;\n",
       "  /* unfitted */\n",
       "  background: var(--sklearn-color-unfitted-level-0);\n",
       "  border: .5pt solid var(--sklearn-color-unfitted-level-3);\n",
       "}\n",
       "\n",
       ".sk-estimator-doc-link.fitted span {\n",
       "  /* fitted */\n",
       "  background: var(--sklearn-color-fitted-level-0);\n",
       "  border: var(--sklearn-color-fitted-level-3);\n",
       "}\n",
       "\n",
       ".sk-estimator-doc-link:hover span {\n",
       "  display: block;\n",
       "}\n",
       "\n",
       "/* \"?\"-specific style due to the `<a>` HTML tag */\n",
       "\n",
       "#sk-container-id-1 a.estimator_doc_link {\n",
       "  float: right;\n",
       "  font-size: 1rem;\n",
       "  line-height: 1em;\n",
       "  font-family: monospace;\n",
       "  background-color: var(--sklearn-color-background);\n",
       "  border-radius: 1rem;\n",
       "  height: 1rem;\n",
       "  width: 1rem;\n",
       "  text-decoration: none;\n",
       "  /* unfitted */\n",
       "  color: var(--sklearn-color-unfitted-level-1);\n",
       "  border: var(--sklearn-color-unfitted-level-1) 1pt solid;\n",
       "}\n",
       "\n",
       "#sk-container-id-1 a.estimator_doc_link.fitted {\n",
       "  /* fitted */\n",
       "  border: var(--sklearn-color-fitted-level-1) 1pt solid;\n",
       "  color: var(--sklearn-color-fitted-level-1);\n",
       "}\n",
       "\n",
       "/* On hover */\n",
       "#sk-container-id-1 a.estimator_doc_link:hover {\n",
       "  /* unfitted */\n",
       "  background-color: var(--sklearn-color-unfitted-level-3);\n",
       "  color: var(--sklearn-color-background);\n",
       "  text-decoration: none;\n",
       "}\n",
       "\n",
       "#sk-container-id-1 a.estimator_doc_link.fitted:hover {\n",
       "  /* fitted */\n",
       "  background-color: var(--sklearn-color-fitted-level-3);\n",
       "}\n",
       "</style><div id=\"sk-container-id-1\" class=\"sk-top-container\"><div class=\"sk-text-repr-fallback\"><pre>MinMaxScaler()</pre><b>In a Jupyter environment, please rerun this cell to show the HTML representation or trust the notebook. <br />On GitHub, the HTML representation is unable to render, please try loading this page with nbviewer.org.</b></div><div class=\"sk-container\" hidden><div class=\"sk-item\"><div class=\"sk-estimator fitted sk-toggleable\"><input class=\"sk-toggleable__control sk-hidden--visually\" id=\"sk-estimator-id-1\" type=\"checkbox\" checked><label for=\"sk-estimator-id-1\" class=\"sk-toggleable__label fitted sk-toggleable__label-arrow fitted\">&nbsp;&nbsp;MinMaxScaler<a class=\"sk-estimator-doc-link fitted\" rel=\"noreferrer\" target=\"_blank\" href=\"https://scikit-learn.org/1.5/modules/generated/sklearn.preprocessing.MinMaxScaler.html\">?<span>Documentation for MinMaxScaler</span></a><span class=\"sk-estimator-doc-link fitted\">i<span>Fitted</span></span></label><div class=\"sk-toggleable__content fitted\"><pre>MinMaxScaler()</pre></div> </div></div></div></div>"
      ],
      "text/plain": [
       "MinMaxScaler()"
      ]
     },
     "execution_count": 14,
     "metadata": {},
     "output_type": "execute_result"
    }
   ],
   "source": [
    "min_max_scaler.fit(X)"
   ]
  },
  {
   "cell_type": "code",
   "execution_count": 15,
   "id": "0360550e-0a13-470b-bce6-2efd1ac5f7e3",
   "metadata": {},
   "outputs": [],
   "source": [
    "scaled_X = min_max_scaler.transform(X)"
   ]
  },
  {
   "cell_type": "code",
   "execution_count": 34,
   "id": "afc1e591-0fb8-47ca-9f32-ef8c7a971898",
   "metadata": {},
   "outputs": [
    {
     "name": "stdout",
     "output_type": "stream",
     "text": [
      "W.shape: (8, 1), W: [[0.62699268]\n",
      " [0.75514092]\n",
      " [0.01853012]\n",
      " [0.84245136]\n",
      " [0.24792609]\n",
      " [0.92492079]\n",
      " [0.94045813]\n",
      " [0.59003474]], b: 0.48649007267230293\n",
      "39: 5436.754555966785\n",
      "79: 4392.868867595109\n",
      "119: 3640.1018901478797\n",
      "159: 3117.9262164896722\n",
      "199: 2761.0219595903386\n",
      "239: 2516.335144632835\n",
      "279: 2346.3673559762165\n",
      "319: 2226.2208873787627\n",
      "359: 2139.7019911956354\n",
      "399: 2076.2651253423746\n",
      "439: 2028.9610883717762\n",
      "479: 1993.1347585942244\n",
      "519: 1965.611616622684\n",
      "559: 1944.1881699837954\n",
      "599: 1927.3090124956218\n",
      "639: 1913.858944417506\n",
      "679: 1903.0268545623403\n",
      "719: 1894.2150425690695\n",
      "759: 1886.9777941039206\n",
      "799: 1880.9791068424545\n",
      "839: 1875.963161067751\n",
      "879: 1871.7334058797728\n",
      "919: 1868.137556841792\n",
      "959: 1865.0567065449834\n",
      "999: 1862.397334227611\n",
      "1039: 1860.0853837320158\n",
      "1079: 1858.0618338147747\n",
      "1119: 1856.279356519202\n",
      "1159: 1854.6997765556955\n",
      "1199: 1853.2921256752777\n",
      "1239: 1852.031142691674\n",
      "1279: 1850.896109870375\n",
      "1319: 1849.8699450171698\n",
      "1359: 1848.9384892338314\n",
      "1399: 1848.0899453247744\n",
      "1439: 1847.3144328593949\n",
      "1479: 1846.6036340478743\n"
     ]
    }
   ],
   "source": [
    "W, b, costs = logistic_regression(Y, scaled_X.transpose(), 1500)"
   ]
  },
  {
   "cell_type": "code",
   "execution_count": 35,
   "id": "0f7adae1-0a32-4169-ad31-638f64eba77d",
   "metadata": {},
   "outputs": [
    {
     "data": {
      "text/plain": [
       "array([[ 0.03043936],\n",
       "       [ 0.04370097],\n",
       "       [-0.54079519],\n",
       "       [ 0.83859596],\n",
       "       [-0.01472045],\n",
       "       [ 0.88053833],\n",
       "       [ 0.57508109],\n",
       "       [-0.06662722]])"
      ]
     },
     "execution_count": 35,
     "metadata": {},
     "output_type": "execute_result"
    }
   ],
   "source": [
    "W"
   ]
  },
  {
   "cell_type": "code",
   "execution_count": 19,
   "id": "2ab851b5-3012-41f5-a93d-da8d68aad768",
   "metadata": {},
   "outputs": [
    {
     "data": {
      "text/plain": [
       "array([[-0.16956514],\n",
       "       [-0.12771211],\n",
       "       [-0.39626497],\n",
       "       [ 0.84110375],\n",
       "       [-0.06323481],\n",
       "       [ 0.60521904],\n",
       "       [ 0.63221448],\n",
       "       [-0.32161285]])"
      ]
     },
     "execution_count": 19,
     "metadata": {},
     "output_type": "execute_result"
    }
   ],
   "source": [
    "W"
   ]
  },
  {
   "cell_type": "code",
   "execution_count": 50,
   "id": "7be28410-b0d9-4411-8efa-2383f04babe1",
   "metadata": {},
   "outputs": [],
   "source": [
    "Z = np.dot(scaled_X, W) + b\n",
    "A = 1 / (1 + np.exp(-Z))"
   ]
  },
  {
   "cell_type": "code",
   "execution_count": 51,
   "id": "832f01e9-badd-4515-adf1-c8d54468b304",
   "metadata": {},
   "outputs": [
    {
     "data": {
      "text/plain": [
       "array([[0.19916419],\n",
       "       [0.20086686],\n",
       "       [0.1334767 ],\n",
       "       ...,\n",
       "       [0.13171902],\n",
       "       [0.1286155 ],\n",
       "       [0.20727878]])"
      ]
     },
     "execution_count": 51,
     "metadata": {},
     "output_type": "execute_result"
    }
   ],
   "source": [
    "A"
   ]
  },
  {
   "cell_type": "code",
   "execution_count": 53,
   "id": "2fb5d5d9-99b9-4e55-804c-faa34c775691",
   "metadata": {},
   "outputs": [],
   "source": [
    "fpr, tpr, thresholds = roc_curve(Y.reshape(-1), A.reshape(-1))"
   ]
  },
  {
   "cell_type": "code",
   "execution_count": 54,
   "id": "4eaa1dc3-a1ef-4e19-bb08-5bb249dee392",
   "metadata": {},
   "outputs": [
    {
     "data": {
      "text/plain": [
       "(1079,)"
      ]
     },
     "execution_count": 54,
     "metadata": {},
     "output_type": "execute_result"
    }
   ],
   "source": [
    "fpr.shape"
   ]
  },
  {
   "cell_type": "code",
   "execution_count": 55,
   "id": "33b7a1ce-c57b-4eda-92ab-cab51f6b5c95",
   "metadata": {},
   "outputs": [
    {
     "data": {
      "text/plain": [
       "(1079,)"
      ]
     },
     "execution_count": 55,
     "metadata": {},
     "output_type": "execute_result"
    }
   ],
   "source": [
    "tpr.shape"
   ]
  },
  {
   "cell_type": "code",
   "execution_count": 43,
   "id": "58bb19f0-2266-4153-9522-4d2003499825",
   "metadata": {},
   "outputs": [],
   "source": [
    "import plotly.express as exp"
   ]
  },
  {
   "cell_type": "code",
   "execution_count": 56,
   "id": "94678c4f-9703-48c4-8d3a-7e19f6eb25da",
   "metadata": {},
   "outputs": [],
   "source": [
    "df_roc = pd.DataFrame({'fpr': fpr, 'tpr': tpr, 'thresholds': thresholds})"
   ]
  },
  {
   "cell_type": "code",
   "execution_count": 57,
   "id": "784ce0bf-3327-4f5d-8eb6-5a6ecfa3109a",
   "metadata": {},
   "outputs": [
    {
     "data": {
      "application/vnd.plotly.v1+json": {
       "config": {
        "plotlyServerURL": "https://plot.ly"
       },
       "data": [
        {
         "customdata": [
          [
           null
          ],
          [
           0.6049299060559115
          ],
          [
           0.45854520770049867
          ],
          [
           0.43577385392668827
          ],
          [
           0.4295585003292597
          ],
          [
           0.4225621867514101
          ],
          [
           0.422130517596317
          ],
          [
           0.4202510834406018
          ],
          [
           0.4197934233526888
          ],
          [
           0.41935620582410044
          ],
          [
           0.4173140183192226
          ],
          [
           0.4149441024011992
          ],
          [
           0.4142042371702781
          ],
          [
           0.4103739966995345
          ],
          [
           0.40788342848837755
          ],
          [
           0.4061528766288961
          ],
          [
           0.40534186047578574
          ],
          [
           0.4030842389628429
          ],
          [
           0.4014138894587359
          ],
          [
           0.40040594253497686
          ],
          [
           0.40010025370560953
          ],
          [
           0.39877174672680454
          ],
          [
           0.3978529017185175
          ],
          [
           0.39661176869707765
          ],
          [
           0.39610780414858876
          ],
          [
           0.39359114782179533
          ],
          [
           0.3922764385343642
          ],
          [
           0.39104816775268497
          ],
          [
           0.39045193838239234
          ],
          [
           0.3902573418538166
          ],
          [
           0.3886866420506238
          ],
          [
           0.38776886933905264
          ],
          [
           0.38683518521698307
          ],
          [
           0.3865813630788522
          ],
          [
           0.3864934130236724
          ],
          [
           0.38599109820488503
          ],
          [
           0.3854559444903729
          ],
          [
           0.38473730435839953
          ],
          [
           0.38271259550166475
          ],
          [
           0.38215236022481536
          ],
          [
           0.37951989334963004
          ],
          [
           0.3662645616251195
          ],
          [
           0.3631029252219165
          ],
          [
           0.35502112247061207
          ],
          [
           0.3095301059301158
          ],
          [
           0.30164102177542773
          ],
          [
           0.2866862495432754
          ],
          [
           0.2838810481974598
          ],
          [
           0.280186188114673
          ],
          [
           0.27913787439027793
          ],
          [
           0.27745669965143516
          ],
          [
           0.27479361310475375
          ],
          [
           0.27424554349481817
          ],
          [
           0.27387516796237177
          ],
          [
           0.27321878848906134
          ],
          [
           0.2729310718639659
          ],
          [
           0.2727900217756357
          ],
          [
           0.2709037344980567
          ],
          [
           0.27045157068801656
          ],
          [
           0.26750124788091206
          ],
          [
           0.2673661537668237
          ],
          [
           0.2630068392395815
          ],
          [
           0.2615209674842749
          ],
          [
           0.25835813704095795
          ],
          [
           0.25811387773362143
          ],
          [
           0.257532385417039
          ],
          [
           0.2560821757562094
          ],
          [
           0.25595079347471217
          ],
          [
           0.2534528495612177
          ],
          [
           0.25258399174223767
          ],
          [
           0.2502444603952867
          ],
          [
           0.24440571604388384
          ],
          [
           0.24206581014555123
          ],
          [
           0.24134836219034803
          ],
          [
           0.23994648878977487
          ],
          [
           0.23866704219357956
          ],
          [
           0.23796734083394655
          ],
          [
           0.2375679367338662
          ],
          [
           0.23729050099539312
          ],
          [
           0.2370667480559911
          ],
          [
           0.23686195172824884
          ],
          [
           0.23631185376517191
          ],
          [
           0.23629147501830242
          ],
          [
           0.23555709288108861
          ],
          [
           0.23493266533219684
          ],
          [
           0.23422942992224438
          ],
          [
           0.23393444722444082
          ],
          [
           0.23385953918309363
          ],
          [
           0.233541906060659
          ],
          [
           0.2330935196452679
          ],
          [
           0.2329432248661759
          ],
          [
           0.23268567955394717
          ],
          [
           0.23265577098610904
          ],
          [
           0.2318725716874999
          ],
          [
           0.23181648355550677
          ],
          [
           0.22983596356065528
          ],
          [
           0.22969942178334865
          ],
          [
           0.22967107815043528
          ],
          [
           0.22934293318455864
          ],
          [
           0.22925568835219245
          ],
          [
           0.2291607403156244
          ],
          [
           0.2289173647660776
          ],
          [
           0.22878856252137386
          ],
          [
           0.2286379776020925
          ],
          [
           0.22848054477429836
          ],
          [
           0.22844611120266303
          ],
          [
           0.22808080312695092
          ],
          [
           0.22745193911617018
          ],
          [
           0.2273473119520373
          ],
          [
           0.22677816526856842
          ],
          [
           0.2267457445250641
          ],
          [
           0.22670446152410656
          ],
          [
           0.22667930277039242
          ],
          [
           0.22652484071898646
          ],
          [
           0.2263968706867899
          ],
          [
           0.2263624536650399
          ],
          [
           0.22630730556909395
          ],
          [
           0.22605013551457898
          ],
          [
           0.22595940397746733
          ],
          [
           0.2258189434415197
          ],
          [
           0.22579873623069663
          ],
          [
           0.22547409700880147
          ],
          [
           0.22531769494853932
          ],
          [
           0.2252674860562368
          ],
          [
           0.22523400416587835
          ],
          [
           0.2251649130337865
          ],
          [
           0.22502177210186794
          ],
          [
           0.22479181914779958
          ],
          [
           0.2247059011691865
          ],
          [
           0.224355314961403
          ],
          [
           0.22431508798983213
          ],
          [
           0.22418289239693567
          ],
          [
           0.22408441000056586
          ],
          [
           0.2240720355662857
          ],
          [
           0.224036936922252
          ],
          [
           0.22390224332553224
          ],
          [
           0.22390098798107533
          ],
          [
           0.22376452411087594
          ],
          [
           0.22374406095216204
          ],
          [
           0.2234945495808436
          ],
          [
           0.22329628511452654
          ],
          [
           0.22328358776762217
          ],
          [
           0.22318337228374954
          ],
          [
           0.22316108218056366
          ],
          [
           0.22308621845978804
          ],
          [
           0.2230448841792155
          ],
          [
           0.22293615244128379
          ],
          [
           0.22267174206592788
          ],
          [
           0.22246749681630287
          ],
          [
           0.22239600536791018
          ],
          [
           0.22238787005924185
          ],
          [
           0.22234114241745467
          ],
          [
           0.22230193307786716
          ],
          [
           0.22190860960437614
          ],
          [
           0.2218655411433976
          ],
          [
           0.22182671266621456
          ],
          [
           0.22181176589538515
          ],
          [
           0.22176210800213111
          ],
          [
           0.22175506959167682
          ],
          [
           0.22122677227928872
          ],
          [
           0.22120648599028928
          ],
          [
           0.22116451161991407
          ],
          [
           0.22115084110201638
          ],
          [
           0.22101821308197853
          ],
          [
           0.22101226389972883
          ],
          [
           0.22093357857566168
          ],
          [
           0.22088989367334672
          ],
          [
           0.2208264599312741
          ],
          [
           0.22075118157395543
          ],
          [
           0.2203165706148493
          ],
          [
           0.2202217683426919
          ],
          [
           0.2200487593116729
          ],
          [
           0.22002350544416155
          ],
          [
           0.21999498090040426
          ],
          [
           0.21992517791106558
          ],
          [
           0.2198923397448612
          ],
          [
           0.21989164876245867
          ],
          [
           0.21949126790093512
          ],
          [
           0.2194656785320247
          ],
          [
           0.21933155349725078
          ],
          [
           0.21933138743510408
          ],
          [
           0.219201903397828
          ],
          [
           0.21916273785836082
          ],
          [
           0.21890339224681696
          ],
          [
           0.21885595565850327
          ],
          [
           0.21880033802430707
          ],
          [
           0.2187797272780097
          ],
          [
           0.21872050024052622
          ],
          [
           0.21856392483380513
          ],
          [
           0.2185116738973919
          ],
          [
           0.21846036533803626
          ],
          [
           0.21844606469610464
          ],
          [
           0.21827544017327716
          ],
          [
           0.21789075115758266
          ],
          [
           0.21784077865423457
          ],
          [
           0.21775323084461168
          ],
          [
           0.21774784404391434
          ],
          [
           0.21767225902897303
          ],
          [
           0.21766713841519347
          ],
          [
           0.2176419736486362
          ],
          [
           0.21763611795110288
          ],
          [
           0.21699868087348412
          ],
          [
           0.21696822715153627
          ],
          [
           0.21695266833800528
          ],
          [
           0.2169368153850075
          ],
          [
           0.2169348586915705
          ],
          [
           0.21692699773803772
          ],
          [
           0.21674519740185555
          ],
          [
           0.21674055764006014
          ],
          [
           0.21646025097956026
          ],
          [
           0.21639384493211158
          ],
          [
           0.2160581510686934
          ],
          [
           0.21605309239748421
          ],
          [
           0.2159348771174616
          ],
          [
           0.2159343593301081
          ],
          [
           0.2158944500936091
          ],
          [
           0.2158934579930133
          ],
          [
           0.2158156104843639
          ],
          [
           0.21578638786151547
          ],
          [
           0.21574661010381277
          ],
          [
           0.2157411861522048
          ],
          [
           0.21564617431695565
          ],
          [
           0.21564246356473027
          ],
          [
           0.21554492415481769
          ],
          [
           0.21554294228623658
          ],
          [
           0.21534756451013856
          ],
          [
           0.21533829406890465
          ],
          [
           0.21507184661786236
          ],
          [
           0.21506075188449136
          ],
          [
           0.21496518360928174
          ],
          [
           0.2147620514616502
          ],
          [
           0.21473169619047106
          ],
          [
           0.2147251113072582
          ],
          [
           0.21467289913840779
          ],
          [
           0.21461859119215318
          ],
          [
           0.2146151572941291
          ],
          [
           0.2146025315587665
          ],
          [
           0.2144537914329843
          ],
          [
           0.21443267102229657
          ],
          [
           0.2143908214320402
          ],
          [
           0.21434301345668552
          ],
          [
           0.2143353659748294
          ],
          [
           0.2143076165287196
          ],
          [
           0.21430169772922827
          ],
          [
           0.21427250561046943
          ],
          [
           0.2141702768769699
          ],
          [
           0.21416913994617673
          ],
          [
           0.21415051002970767
          ],
          [
           0.2141433786548313
          ],
          [
           0.2140680164525208
          ],
          [
           0.21406467851489086
          ],
          [
           0.21400731283749588
          ],
          [
           0.21396061447331663
          ],
          [
           0.21382314481092868
          ],
          [
           0.21378441471313525
          ],
          [
           0.2137398987519926
          ],
          [
           0.21369827649056644
          ],
          [
           0.213674496085539
          ],
          [
           0.2136558760572225
          ],
          [
           0.21357526089331094
          ],
          [
           0.21355382946888124
          ],
          [
           0.21353618870560906
          ],
          [
           0.21352895405342617
          ],
          [
           0.213485400045614
          ],
          [
           0.2134471885311016
          ],
          [
           0.21340691007983983
          ],
          [
           0.21338802705630452
          ],
          [
           0.21333097319748523
          ],
          [
           0.2133070554849212
          ],
          [
           0.2131911119069648
          ],
          [
           0.21318825845663247
          ],
          [
           0.21284866818807543
          ],
          [
           0.21283571115515243
          ],
          [
           0.21283464535939522
          ],
          [
           0.21279979340472707
          ],
          [
           0.21279392200973093
          ],
          [
           0.21278865652430837
          ],
          [
           0.21275474707629383
          ],
          [
           0.2127298120089338
          ],
          [
           0.21265353270763826
          ],
          [
           0.21264408456923298
          ],
          [
           0.21244314232953249
          ],
          [
           0.21243892525180547
          ],
          [
           0.21238961843781395
          ],
          [
           0.21234902312746082
          ],
          [
           0.21233715775773487
          ],
          [
           0.2123367959098709
          ],
          [
           0.21231315567023193
          ],
          [
           0.21229960418930152
          ],
          [
           0.2122841442328832
          ],
          [
           0.2122770234030403
          ],
          [
           0.21220199200138778
          ],
          [
           0.21219632579922915
          ],
          [
           0.21211568448831367
          ],
          [
           0.21211447716597287
          ],
          [
           0.21208188086646076
          ],
          [
           0.2120741481417224
          ],
          [
           0.21197457742264966
          ],
          [
           0.211973253140266
          ],
          [
           0.2119687884385572
          ],
          [
           0.21193044787166215
          ],
          [
           0.21175682578974192
          ],
          [
           0.21173976122358376
          ],
          [
           0.21163800475343295
          ],
          [
           0.2116203356250064
          ],
          [
           0.21156232184306967
          ],
          [
           0.21155989484385454
          ],
          [
           0.2114940702022452
          ],
          [
           0.21148169598542543
          ],
          [
           0.2114243646430279
          ],
          [
           0.21141340739016942
          ],
          [
           0.21131116731370447
          ],
          [
           0.21128964010217044
          ],
          [
           0.2112847314653832
          ],
          [
           0.2112813301799854
          ],
          [
           0.2112757157464088
          ],
          [
           0.2112707228411278
          ],
          [
           0.21115742419787417
          ],
          [
           0.21115719706181946
          ],
          [
           0.21104449302384898
          ],
          [
           0.21103085184926498
          ],
          [
           0.21099207595275246
          ],
          [
           0.21098100832323502
          ],
          [
           0.21084119504047985
          ],
          [
           0.21083387313934362
          ],
          [
           0.2107491411229858
          ],
          [
           0.21074084677841762
          ],
          [
           0.2104616383969565
          ],
          [
           0.21044902076212005
          ],
          [
           0.21038065092377864
          ],
          [
           0.21037664615986365
          ],
          [
           0.2103386230547725
          ],
          [
           0.21032396410025378
          ],
          [
           0.21031188253109895
          ],
          [
           0.21027145185389493
          ],
          [
           0.2102699752393872
          ],
          [
           0.2102239565398575
          ],
          [
           0.2101868856676742
          ],
          [
           0.2101271705305804
          ],
          [
           0.21010256113458567
          ],
          [
           0.2100041377866841
          ],
          [
           0.2099849620279985
          ],
          [
           0.20973993268943103
          ],
          [
           0.2097158254580877
          ],
          [
           0.20967290191367943
          ],
          [
           0.20967036461739683
          ],
          [
           0.20961638240845473
          ],
          [
           0.2096055664412642
          ],
          [
           0.20941601959518183
          ],
          [
           0.20940168844520396
          ],
          [
           0.20922650992555109
          ],
          [
           0.20920761196410478
          ],
          [
           0.20909041561721392
          ],
          [
           0.20908915377981757
          ],
          [
           0.209011802325974
          ],
          [
           0.20900269847064729
          ],
          [
           0.2088565777343567
          ],
          [
           0.20882841428404317
          ],
          [
           0.20876929017193968
          ],
          [
           0.20875996885197146
          ],
          [
           0.20838308777615597
          ],
          [
           0.2083764042016885
          ],
          [
           0.20837022086006138
          ],
          [
           0.20836316946957736
          ],
          [
           0.20828070050390649
          ],
          [
           0.20827426097634935
          ],
          [
           0.20819112242280355
          ],
          [
           0.20818642381440566
          ],
          [
           0.20802567275145997
          ],
          [
           0.20802042920417982
          ],
          [
           0.20797686174392055
          ],
          [
           0.20797322682658534
          ],
          [
           0.20791884907056613
          ],
          [
           0.20790595315821256
          ],
          [
           0.20760794639565702
          ],
          [
           0.20760158698893885
          ],
          [
           0.20741458550240957
          ],
          [
           0.20740723564126626
          ],
          [
           0.20739250317539643
          ],
          [
           0.20737903600576932
          ],
          [
           0.20737492720836442
          ],
          [
           0.20734895136041864
          ],
          [
           0.20731982776940555
          ],
          [
           0.20716333778558604
          ],
          [
           0.2071451566409154
          ],
          [
           0.20703961236678003
          ],
          [
           0.20703696210830783
          ],
          [
           0.20700948185911627
          ],
          [
           0.20699710867456209
          ],
          [
           0.20699095556002625
          ],
          [
           0.20697939827618952
          ],
          [
           0.20682928089029498
          ],
          [
           0.2068274016911449
          ],
          [
           0.20675910446908996
          ],
          [
           0.20674504996756932
          ],
          [
           0.20672500704609376
          ],
          [
           0.2066960740302766
          ],
          [
           0.2066823607582315
          ],
          [
           0.20668159208783995
          ],
          [
           0.2065502052674665
          ],
          [
           0.20654687691012874
          ],
          [
           0.2064739947139076
          ],
          [
           0.20646797878864817
          ],
          [
           0.2063401771196275
          ],
          [
           0.20633887882048418
          ],
          [
           0.20627832541573637
          ],
          [
           0.20627022550860805
          ],
          [
           0.20611644198473114
          ],
          [
           0.20608821353354245
          ],
          [
           0.20604964584240792
          ],
          [
           0.20604834979942205
          ],
          [
           0.20599876676568568
          ],
          [
           0.20596058592303348
          ],
          [
           0.20591066912707479
          ],
          [
           0.20589532985741163
          ],
          [
           0.20586486015624364
          ],
          [
           0.20581185949649033
          ],
          [
           0.20575766058523826
          ],
          [
           0.20573264618204226
          ],
          [
           0.2056259431056381
          ],
          [
           0.2056207443419628
          ],
          [
           0.20551737947404308
          ],
          [
           0.2055150411915908
          ],
          [
           0.20550808908613527
          ],
          [
           0.20549379316545235
          ],
          [
           0.20522033823552138
          ],
          [
           0.20516910004614217
          ],
          [
           0.20466851448742351
          ],
          [
           0.20465551502899415
          ],
          [
           0.20449004765331116
          ],
          [
           0.20448072246997287
          ],
          [
           0.20445002957436956
          ],
          [
           0.20444169001531132
          ],
          [
           0.20441505216130307
          ],
          [
           0.20441040023102197
          ],
          [
           0.20433071184503274
          ],
          [
           0.20431132932231452
          ],
          [
           0.2040431849043679
          ],
          [
           0.2040195417867448
          ],
          [
           0.20396488305775656
          ],
          [
           0.20392307583666652
          ],
          [
           0.20379869254135666
          ],
          [
           0.2037914378661285
          ],
          [
           0.20375380509771215
          ],
          [
           0.20375095268398344
          ],
          [
           0.20365644497961816
          ],
          [
           0.20364669361628265
          ],
          [
           0.20359270867864385
          ],
          [
           0.20356326892208093
          ],
          [
           0.20342513045751592
          ],
          [
           0.20342253527722828
          ],
          [
           0.20319615765374144
          ],
          [
           0.20319084758564643
          ],
          [
           0.20288272252820067
          ],
          [
           0.20287737552537344
          ],
          [
           0.20281656714462223
          ],
          [
           0.20281265293958925
          ],
          [
           0.20267814336595005
          ],
          [
           0.20267394716702714
          ],
          [
           0.20263706559243624
          ],
          [
           0.20263594134699214
          ],
          [
           0.20256019360684543
          ],
          [
           0.2025096431333591
          ],
          [
           0.20240323957606446
          ],
          [
           0.2023971245982435
          ],
          [
           0.20227167333117188
          ],
          [
           0.20226377654672298
          ],
          [
           0.20222558579480032
          ],
          [
           0.20221950564631389
          ],
          [
           0.20214073778897035
          ],
          [
           0.20212348128790136
          ],
          [
           0.20210503011235867
          ],
          [
           0.20209665549523387
          ],
          [
           0.2018713295062143
          ],
          [
           0.2018710669220356
          ],
          [
           0.2017281559950941
          ],
          [
           0.2017209992085894
          ],
          [
           0.20170856852720706
          ],
          [
           0.20165650935973004
          ],
          [
           0.20128603713207832
          ],
          [
           0.20128459118062378
          ],
          [
           0.20116724779278616
          ],
          [
           0.20116386090736255
          ],
          [
           0.20075465197345074
          ],
          [
           0.20074214681897676
          ],
          [
           0.2005605777822071
          ],
          [
           0.20053544295561937
          ],
          [
           0.20052733564007977
          ],
          [
           0.2004846422568125
          ],
          [
           0.20048080439772573
          ],
          [
           0.20045112590549338
          ],
          [
           0.20044805892325251
          ],
          [
           0.20025855671584133
          ],
          [
           0.20024790922005356
          ],
          [
           0.20019839918351387
          ],
          [
           0.20015668025601083
          ],
          [
           0.20002472545764152
          ],
          [
           0.1999835655462233
          ],
          [
           0.19991214898012127
          ],
          [
           0.19991054101525157
          ],
          [
           0.19979227025208565
          ],
          [
           0.19978601067793225
          ],
          [
           0.1989624624283517
          ],
          [
           0.19895145826876717
          ],
          [
           0.1985457736322826
          ],
          [
           0.19851448789697343
          ],
          [
           0.19796067511961107
          ],
          [
           0.19795922687334855
          ],
          [
           0.19718461222958109
          ],
          [
           0.19717364006600313
          ],
          [
           0.19698640851574556
          ],
          [
           0.19697019470274485
          ],
          [
           0.19695009060480728
          ],
          [
           0.19692495464617618
          ],
          [
           0.1969182531566062
          ],
          [
           0.1968929669068954
          ],
          [
           0.19625588493830326
          ],
          [
           0.19624359724657867
          ],
          [
           0.1962066736073681
          ],
          [
           0.19620099297753835
          ],
          [
           0.19548721256047713
          ],
          [
           0.19547878265664553
          ],
          [
           0.19332005091965052
          ],
          [
           0.19331616666737853
          ],
          [
           0.1931632721451893
          ],
          [
           0.19308628081163853
          ],
          [
           0.19276997970728318
          ],
          [
           0.19276232282420916
          ],
          [
           0.19265937929185525
          ],
          [
           0.19252594044792973
          ],
          [
           0.16093742578478146
          ],
          [
           0.15882964919269912
          ],
          [
           0.15746652507593978
          ],
          [
           0.15512900122071188
          ],
          [
           0.15431413064830862
          ],
          [
           0.1540184697429738
          ],
          [
           0.15361340941798285
          ],
          [
           0.15353341074892787
          ],
          [
           0.15321299683832304
          ],
          [
           0.15256300732110234
          ],
          [
           0.15179892203128073
          ],
          [
           0.15171831522503695
          ],
          [
           0.1515064765200128
          ],
          [
           0.1514825071709153
          ],
          [
           0.15005206289779793
          ],
          [
           0.14995723774444156
          ],
          [
           0.1499242418962961
          ],
          [
           0.14918605992631012
          ],
          [
           0.1491451725491015
          ],
          [
           0.14898721128366865
          ],
          [
           0.14885025583292896
          ],
          [
           0.14872105966633756
          ],
          [
           0.1486170715346679
          ],
          [
           0.14849245343038853
          ],
          [
           0.14833503733987002
          ],
          [
           0.14831214697095826
          ],
          [
           0.14830302183189817
          ],
          [
           0.14824354731686226
          ],
          [
           0.14796998877694106
          ],
          [
           0.14781644902960234
          ],
          [
           0.14751532728160693
          ],
          [
           0.14750152903532146
          ],
          [
           0.1472819153345889
          ],
          [
           0.14721454179871457
          ],
          [
           0.146680759683946
          ],
          [
           0.1461404765822547
          ],
          [
           0.14610259353815913
          ],
          [
           0.14603062701161673
          ],
          [
           0.14594992904202903
          ],
          [
           0.1458932068450235
          ],
          [
           0.14574546514390538
          ],
          [
           0.1455747267983256
          ],
          [
           0.145571522215972
          ],
          [
           0.14553944200269647
          ],
          [
           0.1450342300638091
          ],
          [
           0.14485015432363513
          ],
          [
           0.14483571700961448
          ],
          [
           0.14472206714650274
          ],
          [
           0.14428233691140424
          ],
          [
           0.14406143551622588
          ],
          [
           0.14400203601736516
          ],
          [
           0.14392667209017607
          ],
          [
           0.1438247482217194
          ],
          [
           0.1438021005562584
          ],
          [
           0.1437493422142521
          ],
          [
           0.14354969876224774
          ],
          [
           0.1435244871149868
          ],
          [
           0.14341369371931714
          ],
          [
           0.1433927306191
          ],
          [
           0.14332710278737432
          ],
          [
           0.14299641620095468
          ],
          [
           0.1429731498799679
          ],
          [
           0.14270484116000007
          ],
          [
           0.1426599638188169
          ],
          [
           0.14241153472777132
          ],
          [
           0.14222106297713763
          ],
          [
           0.14203923026720092
          ],
          [
           0.14202887698042246
          ],
          [
           0.1419046423248969
          ],
          [
           0.1418907015907166
          ],
          [
           0.1418205454788825
          ],
          [
           0.14171226630558262
          ],
          [
           0.1416929362426804
          ],
          [
           0.14168346255957215
          ],
          [
           0.14167293598124628
          ],
          [
           0.14156320542266843
          ],
          [
           0.14142361382054397
          ],
          [
           0.1414150323130678
          ],
          [
           0.1412599203214164
          ],
          [
           0.14124220430100054
          ],
          [
           0.14118239178728406
          ],
          [
           0.14115964339621317
          ],
          [
           0.14103467183572774
          ],
          [
           0.14095588875165554
          ],
          [
           0.1405890749115616
          ],
          [
           0.14056460428173018
          ],
          [
           0.14053065065643772
          ],
          [
           0.1404845405434243
          ],
          [
           0.14018231825571023
          ],
          [
           0.1401421041503654
          ],
          [
           0.1400136096880816
          ],
          [
           0.139928956850032
          ],
          [
           0.13988307164393646
          ],
          [
           0.13985561538747363
          ],
          [
           0.13983959310826877
          ],
          [
           0.13979685502045922
          ],
          [
           0.13979171441652233
          ],
          [
           0.13972700989493386
          ],
          [
           0.13967507888941164
          ],
          [
           0.1396579376793473
          ],
          [
           0.13954205459834054
          ],
          [
           0.1395371379264739
          ],
          [
           0.13947469717971167
          ],
          [
           0.1394745807773088
          ],
          [
           0.1392368464176305
          ],
          [
           0.13923525531867986
          ],
          [
           0.13916151335413632
          ],
          [
           0.13905885288065017
          ],
          [
           0.13905664086186495
          ],
          [
           0.13905574412297156
          ],
          [
           0.13902256279214173
          ],
          [
           0.13900267559623497
          ],
          [
           0.138873047036589
          ],
          [
           0.13881593348816762
          ],
          [
           0.13878346881653175
          ],
          [
           0.13877199770973972
          ],
          [
           0.13868438722061707
          ],
          [
           0.13867069647744512
          ],
          [
           0.13866983670794858
          ],
          [
           0.1386341096288079
          ],
          [
           0.13843938848792525
          ],
          [
           0.13842518105968568
          ],
          [
           0.13840849844026748
          ],
          [
           0.1383733187841426
          ],
          [
           0.13832718727597246
          ],
          [
           0.1383155974287014
          ],
          [
           0.1383143312555058
          ],
          [
           0.13825910469173341
          ],
          [
           0.13819544736189543
          ],
          [
           0.13819234586585677
          ],
          [
           0.13818181234042642
          ],
          [
           0.1381798334255086
          ],
          [
           0.1379968872671663
          ],
          [
           0.1379835341511283
          ],
          [
           0.13796998455067172
          ],
          [
           0.1379533434538688
          ],
          [
           0.13792499462654592
          ],
          [
           0.1379127831171839
          ],
          [
           0.13790077389729932
          ],
          [
           0.13789986824661582
          ],
          [
           0.13788603606965602
          ],
          [
           0.13788602089917995
          ],
          [
           0.13772939432972872
          ],
          [
           0.13770950061118759
          ],
          [
           0.13769571607997957
          ],
          [
           0.13768896914180204
          ],
          [
           0.13764937838673852
          ],
          [
           0.13762224051525107
          ],
          [
           0.13727722855588015
          ],
          [
           0.13726029119097558
          ],
          [
           0.1372256565978346
          ],
          [
           0.1372184672471329
          ],
          [
           0.13716034257710802
          ],
          [
           0.13714449286813712
          ],
          [
           0.13710231733871253
          ],
          [
           0.1370867171671419
          ],
          [
           0.13706381817413865
          ],
          [
           0.13704710022725647
          ],
          [
           0.13701106639514343
          ],
          [
           0.13700425697146373
          ],
          [
           0.13698602082424038
          ],
          [
           0.1369772172084115
          ],
          [
           0.13688724803151125
          ],
          [
           0.13686332661646
          ],
          [
           0.13681555422899433
          ],
          [
           0.1367559333800354
          ],
          [
           0.13674322414421872
          ],
          [
           0.13670580772059615
          ],
          [
           0.13666907996770758
          ],
          [
           0.13663514103377727
          ],
          [
           0.1365692431042561
          ],
          [
           0.13655574310817215
          ],
          [
           0.13654025804245654
          ],
          [
           0.13654004200178188
          ],
          [
           0.136369336793019
          ],
          [
           0.13635935811059857
          ],
          [
           0.1363303567278263
          ],
          [
           0.13631980462785886
          ],
          [
           0.13619073095159057
          ],
          [
           0.1361851504634899
          ],
          [
           0.13616507601389344
          ],
          [
           0.1361479678070326
          ],
          [
           0.13613556492452009
          ],
          [
           0.1360995293828144
          ],
          [
           0.1360887179927343
          ],
          [
           0.1360831760084428
          ],
          [
           0.1360740179345111
          ],
          [
           0.136071341161141
          ],
          [
           0.13585982295926427
          ],
          [
           0.1358531154191305
          ],
          [
           0.13583777265275876
          ],
          [
           0.1358372567135303
          ],
          [
           0.13583218055946633
          ],
          [
           0.13582758473916412
          ],
          [
           0.1357827302486404
          ],
          [
           0.13578270646232038
          ],
          [
           0.1357770699883288
          ],
          [
           0.1357629795823155
          ],
          [
           0.1357340025529091
          ],
          [
           0.13569993497427768
          ],
          [
           0.13568107670393545
          ],
          [
           0.13566995032143722
          ],
          [
           0.13566150288473247
          ],
          [
           0.13565322321478068
          ],
          [
           0.13563455781785735
          ],
          [
           0.13561304171705119
          ],
          [
           0.1355554902476888
          ],
          [
           0.13555383141452057
          ],
          [
           0.13549065094182353
          ],
          [
           0.13547088933789092
          ],
          [
           0.13542549474016372
          ],
          [
           0.13542212321144695
          ],
          [
           0.13540873807542134
          ],
          [
           0.13540641534758432
          ],
          [
           0.1353622512072744
          ],
          [
           0.13535540479589075
          ],
          [
           0.13518331409939965
          ],
          [
           0.13516926825763817
          ],
          [
           0.1351604571606265
          ],
          [
           0.13514916074205818
          ],
          [
           0.13514172069540234
          ],
          [
           0.1351077666469627
          ],
          [
           0.13493319423428288
          ],
          [
           0.13492792082782068
          ],
          [
           0.13487027279354902
          ],
          [
           0.13485356233149012
          ],
          [
           0.13482761904347254
          ],
          [
           0.13482341740316295
          ],
          [
           0.1347941548248853
          ],
          [
           0.13479171666983397
          ],
          [
           0.13471445241405797
          ],
          [
           0.13468727868818484
          ],
          [
           0.13464023611054726
          ],
          [
           0.1346107476849531
          ],
          [
           0.13456922982723363
          ],
          [
           0.1345664465059324
          ],
          [
           0.13454077372226958
          ],
          [
           0.13453818511968882
          ],
          [
           0.13449065567682778
          ],
          [
           0.13448779920088652
          ],
          [
           0.13446654220637055
          ],
          [
           0.13445821125180663
          ],
          [
           0.1344411260878239
          ],
          [
           0.13443659359850682
          ],
          [
           0.1343485327950227
          ],
          [
           0.13433879176667438
          ],
          [
           0.13430708326035296
          ],
          [
           0.13429968237199277
          ],
          [
           0.13423465026987702
          ],
          [
           0.13423163254567935
          ],
          [
           0.13414368519213404
          ],
          [
           0.1341281292466824
          ],
          [
           0.13403327985905172
          ],
          [
           0.13402635550715344
          ],
          [
           0.13399664071988127
          ],
          [
           0.1339957331163387
          ],
          [
           0.1339508106266287
          ],
          [
           0.13394544235809283
          ],
          [
           0.13383653372765175
          ],
          [
           0.13382381411001953
          ],
          [
           0.13371927324692157
          ],
          [
           0.13371867588387323
          ],
          [
           0.1336884399355118
          ],
          [
           0.1336779335766595
          ],
          [
           0.13366011919387055
          ],
          [
           0.13365407039726646
          ],
          [
           0.13364235975458988
          ],
          [
           0.13364058330463333
          ],
          [
           0.13361851308304445
          ],
          [
           0.13358638229187253
          ],
          [
           0.133585403105271
          ],
          [
           0.1335612690949597
          ],
          [
           0.13354940754143585
          ],
          [
           0.13354926877886272
          ],
          [
           0.13353055163890926
          ],
          [
           0.1334915562410164
          ],
          [
           0.13348738981251912
          ],
          [
           0.1334551545228582
          ],
          [
           0.13343176359319983
          ],
          [
           0.13341137820032897
          ],
          [
           0.13339505896946463
          ],
          [
           0.1333289703966306
          ],
          [
           0.13331739591529382
          ],
          [
           0.13323895156630164
          ],
          [
           0.13322761012887638
          ],
          [
           0.13320205819542164
          ],
          [
           0.13319692688585424
          ],
          [
           0.13315857846793241
          ],
          [
           0.13313884759920902
          ],
          [
           0.13312221539494531
          ],
          [
           0.1331118074977779
          ],
          [
           0.1330372286832886
          ],
          [
           0.13303365793277755
          ],
          [
           0.13293836200546255
          ],
          [
           0.1329273799258954
          ],
          [
           0.132901243771735
          ],
          [
           0.13288362372123264
          ],
          [
           0.13285199486891955
          ],
          [
           0.13284845474820223
          ],
          [
           0.1328056446628519
          ],
          [
           0.13279987840248686
          ],
          [
           0.13273185134433715
          ],
          [
           0.13270832983300626
          ],
          [
           0.13269749745540854
          ],
          [
           0.13268378187752772
          ],
          [
           0.13260832638092834
          ],
          [
           0.1326046655291122
          ],
          [
           0.1325704437593957
          ],
          [
           0.13256512234322693
          ],
          [
           0.13255666568564484
          ],
          [
           0.132548508554979
          ],
          [
           0.13254388061352518
          ],
          [
           0.13253820425325274
          ],
          [
           0.1323293954120035
          ],
          [
           0.13232581685311795
          ],
          [
           0.1322026928913992
          ],
          [
           0.1322022687459465
          ],
          [
           0.13208988997047907
          ],
          [
           0.13207430390694483
          ],
          [
           0.13204272720271576
          ],
          [
           0.13203073202394236
          ],
          [
           0.1320256084656548
          ],
          [
           0.13202426528743857
          ],
          [
           0.13200359345097512
          ],
          [
           0.1319919821653097
          ],
          [
           0.1319820734267753
          ],
          [
           0.13197618063780805
          ],
          [
           0.1319376999563564
          ],
          [
           0.13192536943343489
          ],
          [
           0.13179471732976392
          ],
          [
           0.13179216913611208
          ],
          [
           0.13177300193839575
          ],
          [
           0.1317592063937543
          ],
          [
           0.13171902037618965
          ],
          [
           0.1317089498937087
          ],
          [
           0.13168863178553425
          ],
          [
           0.1316796895684872
          ],
          [
           0.13167947699990465
          ],
          [
           0.13167541518607545
          ],
          [
           0.13165877050945676
          ],
          [
           0.13165734342533988
          ],
          [
           0.1316020625274393
          ],
          [
           0.13158334124729706
          ],
          [
           0.13150863757756462
          ],
          [
           0.13147475796227098
          ],
          [
           0.1314433028908577
          ],
          [
           0.131423829642508
          ],
          [
           0.13135637033113715
          ],
          [
           0.13132790159088284
          ],
          [
           0.1313048270123292
          ],
          [
           0.13129620778606993
          ],
          [
           0.13123326356797463
          ],
          [
           0.13121156959302901
          ],
          [
           0.13120937959363965
          ],
          [
           0.1312051065756528
          ],
          [
           0.13118928233004715
          ],
          [
           0.13118912690791643
          ],
          [
           0.13118834838809593
          ],
          [
           0.13116809845851066
          ],
          [
           0.13109036039230854
          ],
          [
           0.13108263238748374
          ],
          [
           0.13097569943228438
          ],
          [
           0.13096712029897684
          ],
          [
           0.130938746270195
          ],
          [
           0.13091088536894988
          ],
          [
           0.13090980651172593
          ],
          [
           0.13079117619208985
          ],
          [
           0.13078651377441552
          ],
          [
           0.13075648603201664
          ],
          [
           0.13074639808097624
          ],
          [
           0.13065405980779649
          ],
          [
           0.13065288336502587
          ],
          [
           0.1306255092661586
          ],
          [
           0.1306157964824053
          ],
          [
           0.1305358199282404
          ],
          [
           0.13052872007094998
          ],
          [
           0.13040388250990892
          ],
          [
           0.13039027409615067
          ],
          [
           0.13034475507699791
          ],
          [
           0.13033897818412293
          ],
          [
           0.13030950139698913
          ],
          [
           0.13028688794268073
          ],
          [
           0.13020341348852965
          ],
          [
           0.13020031833513998
          ],
          [
           0.13010889165650955
          ],
          [
           0.13009090443900956
          ],
          [
           0.13007953379538553
          ],
          [
           0.1300762868453132
          ],
          [
           0.13004349372221566
          ],
          [
           0.13003644674567655
          ],
          [
           0.1300263614943284
          ],
          [
           0.13001280102184148
          ],
          [
           0.12980372742821492
          ],
          [
           0.1297742440994989
          ],
          [
           0.1297732183022741
          ],
          [
           0.129771631093492
          ],
          [
           0.1296692113388275
          ],
          [
           0.1296579070357809
          ],
          [
           0.1295968438183358
          ],
          [
           0.1295871517068567
          ],
          [
           0.12950983853337894
          ],
          [
           0.12950780057520944
          ],
          [
           0.12948695707626776
          ],
          [
           0.12948550501623424
          ],
          [
           0.12939923504834322
          ],
          [
           0.12939503372357142
          ],
          [
           0.1293744685088461
          ],
          [
           0.1293659265293241
          ],
          [
           0.12935819495928033
          ],
          [
           0.12933869187679692
          ],
          [
           0.12932915061374206
          ],
          [
           0.12931321188422226
          ],
          [
           0.12929281125219402
          ],
          [
           0.12928845936418232
          ],
          [
           0.12924598936562964
          ],
          [
           0.12924564818078113
          ],
          [
           0.12923866082751762
          ],
          [
           0.1292378478485184
          ],
          [
           0.1290870367904889
          ],
          [
           0.12907925604712156
          ],
          [
           0.12905893111322533
          ],
          [
           0.12905753883455118
          ],
          [
           0.12903410101743512
          ],
          [
           0.1290243699747779
          ],
          [
           0.12890459368658527
          ],
          [
           0.12889927723232533
          ],
          [
           0.12883279838151554
          ],
          [
           0.12882820684500526
          ],
          [
           0.12876106762850986
          ],
          [
           0.12874654749261888
          ],
          [
           0.12866824790342574
          ],
          [
           0.1286633656347623
          ],
          [
           0.12863573392700822
          ],
          [
           0.12861771189940732
          ],
          [
           0.12858841402981408
          ],
          [
           0.12858833517741292
          ],
          [
           0.1285874958631555
          ],
          [
           0.12858554850756376
          ],
          [
           0.12856304862194673
          ],
          [
           0.12856299311073874
          ],
          [
           0.12853385860860708
          ],
          [
           0.12852254143323794
          ],
          [
           0.12838510361485314
          ],
          [
           0.1283844151239204
          ],
          [
           0.1283485768014476
          ],
          [
           0.1283477685962531
          ],
          [
           0.12833645401367036
          ],
          [
           0.12832642871594988
          ],
          [
           0.1282912899806396
          ],
          [
           0.12828033003037467
          ],
          [
           0.12820591755661545
          ],
          [
           0.1281911650158055
          ],
          [
           0.12816683740830934
          ],
          [
           0.12815778295252858
          ],
          [
           0.12802221423733937
          ],
          [
           0.12800107273845165
          ],
          [
           0.12797808398195268
          ],
          [
           0.12797163430272607
          ],
          [
           0.12796259161317713
          ],
          [
           0.1279379414613431
          ],
          [
           0.12793083967429408
          ],
          [
           0.12785504197333933
          ],
          [
           0.1278492510612779
          ],
          [
           0.12784086919056928
          ],
          [
           0.1278286352976459
          ],
          [
           0.12778730418468012
          ],
          [
           0.12777441017831326
          ],
          [
           0.12773512709385992
          ],
          [
           0.12773029762593424
          ],
          [
           0.12772290183816973
          ],
          [
           0.12763995813263831
          ],
          [
           0.12762763267103402
          ],
          [
           0.12759483262424395
          ],
          [
           0.12757231762751295
          ],
          [
           0.12748389874954946
          ],
          [
           0.12746782819061966
          ],
          [
           0.12745314816444853
          ],
          [
           0.12744767607439045
          ],
          [
           0.12743323859982852
          ],
          [
           0.12743065451704533
          ],
          [
           0.12743040636618685
          ],
          [
           0.1274080126602938
          ],
          [
           0.12732050502042844
          ],
          [
           0.1273158954976697
          ],
          [
           0.12731059124245678
          ],
          [
           0.127299950771972
          ],
          [
           0.12729118895725847
          ],
          [
           0.12727561613910304
          ],
          [
           0.1272505245602688
          ],
          [
           0.12722346608980709
          ],
          [
           0.12705575606826036
          ],
          [
           0.1270310265169844
          ],
          [
           0.12702884053390945
          ],
          [
           0.1268886558444795
          ],
          [
           0.12688103192596636
          ],
          [
           0.12687943131170482
          ],
          [
           0.1268741313284707
          ],
          [
           0.1267397230989756
          ],
          [
           0.12672410062235423
          ],
          [
           0.12654355142911278
          ],
          [
           0.1265333078477424
          ],
          [
           0.12647914467417634
          ],
          [
           0.12646445486779215
          ],
          [
           0.12624850727753
          ],
          [
           0.1262398073632154
          ],
          [
           0.12621941356449187
          ],
          [
           0.12619581365960925
          ],
          [
           0.12589978895193749
          ],
          [
           0.12589703808448888
          ],
          [
           0.1255778562647526
          ],
          [
           0.12557579818647974
          ],
          [
           0.12546812454734257
          ],
          [
           0.12544892929330934
          ],
          [
           0.12532823575897495
          ],
          [
           0.1253072965805628
          ],
          [
           0.1252677108906712
          ],
          [
           0.12526741205433584
          ],
          [
           0.1252446067103798
          ],
          [
           0.12521422366201587
          ],
          [
           0.1252050379899557
          ],
          [
           0.12520219390421322
          ],
          [
           0.1251987079985582
          ],
          [
           0.12511930758654977
          ],
          [
           0.12511107901809176
          ],
          [
           0.12499268482332208
          ],
          [
           0.12497133104047092
          ],
          [
           0.12452870916908158
          ],
          [
           0.12451357474114651
          ],
          [
           0.12442195414812825
          ],
          [
           0.12442100750560854
          ],
          [
           0.12441312649927705
          ],
          [
           0.12440493776940093
          ],
          [
           0.12362160249649226
          ],
          [
           0.12360626731383949
          ],
          [
           0.12268100068357832
          ],
          [
           0.1226794456084517
          ],
          [
           0.12247247561666835
          ],
          [
           0.1224637669364598
          ],
          [
           0.12239485520837654
          ],
          [
           0.12233807264967003
          ],
          [
           0.1223138712433844
          ],
          [
           0.12225153719936271
          ],
          [
           0.12143902320235898
          ],
          [
           0.12140063537317018
          ],
          [
           0.12079586259753476
          ],
          [
           0.12077162390217053
          ],
          [
           0.11842649143877304
          ],
          [
           0.11732966515365084
          ],
          [
           0.1171333419735745
          ]
         ],
         "hovertemplate": "fpr=%{x}<br>tpr=%{y}<br>thresholds=%{customdata[0]}<extra></extra>",
         "legendgroup": "",
         "line": {
          "color": "#636efa",
          "dash": "solid"
         },
         "marker": {
          "symbol": "circle"
         },
         "mode": "lines",
         "name": "",
         "showlegend": false,
         "type": "scattergl",
         "x": [
          0,
          0,
          0,
          0.0002782415136338342,
          0.0002782415136338342,
          0.0008347245409015025,
          0.0008347245409015025,
          0.0011129660545353367,
          0.0011129660545353367,
          0.0013912075681691708,
          0.0013912075681691708,
          0.0019476905954368391,
          0.0019476905954368391,
          0.003060656649972176,
          0.003060656649972176,
          0.0038953811908736783,
          0.0038953811908736783,
          0.005008347245409015,
          0.005008347245409015,
          0.005843071786310518,
          0.005843071786310518,
          0.006399554813578186,
          0.006399554813578186,
          0.0077907623817473565,
          0.0077907623817473565,
          0.00862548692264886,
          0.00862548692264886,
          0.009738452977184196,
          0.009738452977184196,
          0.010294936004451864,
          0.010294936004451864,
          0.010851419031719533,
          0.010851419031719533,
          0.011129660545353366,
          0.011129660545353366,
          0.011686143572621035,
          0.011686143572621035,
          0.012520868113522538,
          0.012520868113522538,
          0.01335559265442404,
          0.01335559265442404,
          0.015025041736227046,
          0.015025041736227046,
          0.01530328324986088,
          0.01530328324986088,
          0.015581524763494713,
          0.015581524763494713,
          0.016138007790762382,
          0.016138007790762382,
          0.016416249304396217,
          0.016416249304396217,
          0.01725097384529772,
          0.01725097384529772,
          0.017529215358931552,
          0.017529215358931552,
          0.017807456872565387,
          0.017807456872565387,
          0.018920422927100722,
          0.018920422927100722,
          0.020311630495269895,
          0.020311630495269895,
          0.02142459654980523,
          0.02142459654980523,
          0.022259321090706732,
          0.022259321090706732,
          0.022537562604340568,
          0.022537562604340568,
          0.022815804117974403,
          0.022815804117974403,
          0.023094045631608235,
          0.023094045631608235,
          0.024207011686143573,
          0.024207011686143573,
          0.02448525319977741,
          0.02448525319977741,
          0.025598219254312743,
          0.025598219254312743,
          0.02615470228158041,
          0.02615470228158041,
          0.026989426822481913,
          0.026989426822481913,
          0.027545909849749584,
          0.027545909849749584,
          0.02810239287701725,
          0.02810239287701725,
          0.028658875904284918,
          0.028658875904284918,
          0.028937117417918753,
          0.028937117417918753,
          0.02949360044518642,
          0.02949360044518642,
          0.029771841958820256,
          0.029771841958820256,
          0.03060656649972176,
          0.03060656649972176,
          0.032832498608792435,
          0.032832498608792435,
          0.03311074012242626,
          0.03311074012242626,
          0.033667223149693934,
          0.033667223149693934,
          0.034223706176961605,
          0.034223706176961605,
          0.03478018920422927,
          0.03478018920422927,
          0.035058430717863104,
          0.035058430717863104,
          0.03589315525876461,
          0.03589315525876461,
          0.03728436282693378,
          0.03728436282693378,
          0.037562604340567615,
          0.037562604340567615,
          0.037840845854201444,
          0.037840845854201444,
          0.03811908736783528,
          0.03811908736783528,
          0.038953811908736785,
          0.038953811908736785,
          0.039788536449638284,
          0.039788536449638284,
          0.041736227045075125,
          0.041736227045075125,
          0.04201446855870896,
          0.04201446855870896,
          0.04257095158597663,
          0.04257095158597663,
          0.04340567612687813,
          0.04340567612687813,
          0.045075125208681135,
          0.045075125208681135,
          0.046466332776850305,
          0.046466332776850305,
          0.04674457429048414,
          0.04674457429048414,
          0.047857540345019475,
          0.047857540345019475,
          0.04897050639955482,
          0.04897050639955482,
          0.04952698942682248,
          0.04952698942682248,
          0.049805230940456316,
          0.049805230940456316,
          0.05036171396772399,
          0.05036171396772399,
          0.05091819699499165,
          0.05091819699499165,
          0.05203116304952699,
          0.05203116304952699,
          0.052587646076794656,
          0.052587646076794656,
          0.05286588759042849,
          0.05286588759042849,
          0.05370061213133,
          0.05370061213133,
          0.053978853644963826,
          0.053978853644963826,
          0.05481357818586533,
          0.05481357818586533,
          0.057317751808569836,
          0.057317751808569836,
          0.05787423483583751,
          0.05787423483583751,
          0.058708959376739006,
          0.058708959376739006,
          0.05954368391764051,
          0.05954368391764051,
          0.06037840845854201,
          0.06037840845854201,
          0.06176961602671119,
          0.06176961602671119,
          0.06399554813578186,
          0.06399554813578186,
          0.0642737896494157,
          0.0642737896494157,
          0.06455203116304953,
          0.06455203116304953,
          0.06622148024485253,
          0.06622148024485253,
          0.06733444629938787,
          0.06789092932665554,
          0.06844741235392321,
          0.06844741235392321,
          0.07067334446299388,
          0.07067334446299388,
          0.0709515859766277,
          0.0709515859766277,
          0.07150806900389538,
          0.07150806900389538,
          0.07262103505843072,
          0.07262103505843072,
          0.07289927657206455,
          0.07289927657206455,
          0.07623817473567056,
          0.07623817473567056,
          0.07762938230383973,
          0.07762938230383973,
          0.0790205898720089,
          0.0790205898720089,
          0.07985531441291041,
          0.07985531441291041,
          0.08319421257651642,
          0.08319421257651642,
          0.08375069560378408,
          0.08375069560378408,
          0.08402893711741792,
          0.08402893711741792,
          0.08597662771285476,
          0.08597662771285476,
          0.0895937673900946,
          0.0895937673900946,
          0.09237618252643294,
          0.09237618252643294,
          0.09321090706733445,
          0.09321090706733445,
          0.09404563160823595,
          0.09404563160823595,
          0.09599332220367279,
          0.09599332220367279,
          0.09682804674457429,
          0.09682804674457429,
          0.09821925431274346,
          0.09821925431274346,
          0.1001669449081803,
          0.1001669449081803,
          0.10267111853088481,
          0.10267111853088481,
          0.10656649972175848,
          0.10656649972175848,
          0.10795770728992765,
          0.10795770728992765,
          0.10851419031719532,
          0.10851419031719532,
          0.10962715637173066,
          0.10962715637173066,
          0.10990539788536449,
          0.10990539788536449,
          0.112409571508069,
          0.112409571508069,
          0.1132442960489705,
          0.1132442960489705,
          0.11380077907623817,
          0.11380077907623817,
          0.11407902058987202,
          0.11407902058987202,
          0.11630495269894268,
          0.11630495269894268,
          0.11713967723984418,
          0.11713967723984418,
          0.11908736783528102,
          0.11908736783528102,
          0.1196438508625487,
          0.1196438508625487,
          0.12020033388981637,
          0.12020033388981637,
          0.1213132999443517,
          0.1213132999443517,
          0.12186978297161936,
          0.12186978297161936,
          0.12326099053978853,
          0.12326099053978853,
          0.12353923205342238,
          0.12353923205342238,
          0.1238174735670562,
          0.1238174735670562,
          0.12437395659432388,
          0.12437395659432388,
          0.12520868113522537,
          0.12520868113522537,
          0.1285475792988314,
          0.1285475792988314,
          0.1343906510851419,
          0.1343906510851419,
          0.13466889259877574,
          0.13466889259877574,
          0.13494713411240958,
          0.13494713411240958,
          0.13606010016694492,
          0.13606010016694492,
          0.13717306622148023,
          0.13717306622148023,
          0.1407902058987201,
          0.1407902058987201,
          0.1416249304396216,
          0.1416249304396216,
          0.14273789649415694,
          0.14273789649415694,
          0.1432943795214246,
          0.1432943795214246,
          0.14357262103505844,
          0.14357262103505844,
          0.14552031163049528,
          0.14552031163049528,
          0.14718976071229828,
          0.14718976071229828,
          0.14774624373956594,
          0.14774624373956594,
          0.14997217584863662,
          0.14997217584863662,
          0.15025041736227046,
          0.15025041736227046,
          0.15275459098497496,
          0.15275459098497496,
          0.15498052309404564,
          0.15498052309404564,
          0.15581524763494714,
          0.15581524763494714,
          0.15748469671675014,
          0.15748469671675014,
          0.15859766277128548,
          0.15859766277128548,
          0.15998887033945464,
          0.15998887033945464,
          0.16054535336672232,
          0.16054535336672232,
          0.16082359488035614,
          0.16082359488035614,
          0.16416249304396216,
          0.16416249304396216,
          0.16722314969393434,
          0.16722314969393434,
          0.16805787423483584,
          0.16805787423483584,
          0.17139677239844184,
          0.17139677239844184,
          0.17390094602114636,
          0.17390094602114636,
          0.18030050083472454,
          0.18030050083472454,
          0.18196994991652754,
          0.18196994991652754,
          0.18363939899833054,
          0.18363939899833054,
          0.18391764051196438,
          0.18475236505286588,
          0.18475236505286588,
          0.18586533110740122,
          0.18586533110740122,
          0.1872565386755704,
          0.1872565386755704,
          0.18864774624373956,
          0.18864774624373956,
          0.19588202559821927,
          0.19588202559821927,
          0.19782971619365608,
          0.19782971619365608,
          0.19922092376182526,
          0.19922092376182526,
          0.2042292710072343,
          0.2042292710072343,
          0.20840289371174178,
          0.20895937673900947,
          0.2100723427935448,
          0.2100723427935448,
          0.21202003338898165,
          0.21202003338898165,
          0.21675013912075683,
          0.21675013912075683,
          0.21786310517529214,
          0.21786310517529214,
          0.223149693934335,
          0.223149693934335,
          0.22342793544796885,
          0.22342793544796885,
          0.22593210907067335,
          0.22593210907067335,
          0.22760155815247635,
          0.22760155815247635,
          0.23094045631608237,
          0.23094045631608237,
          0.23260990539788537,
          0.23260990539788537,
          0.2345575959933222,
          0.2345575959933222,
          0.2434613244296049,
          0.2434613244296049,
          0.24707846410684475,
          0.2476349471341124,
          0.2476349471341124,
          0.2490261547022816,
          0.2490261547022816,
          0.2498608792431831,
          0.2498608792431831,
          0.2540345019476906,
          0.2540345019476906,
          0.25626043405676124,
          0.25626043405676124,
          0.2573734001112966,
          0.2573734001112966,
          0.2579298831385643,
          0.2579298831385643,
          0.2607122982749026,
          0.2607122982749026,
          0.2629382303839733,
          0.2629382303839733,
          0.2640511964385086,
          0.2640511964385086,
          0.2646076794657763,
          0.2646076794657763,
          0.2679465776293823,
          0.2679465776293823,
          0.26905954368391766,
          0.26905954368391766,
          0.27462437395659434,
          0.27462437395659434,
          0.2760155815247635,
          0.2760155815247635,
          0.2793544796883695,
          0.2793544796883695,
          0.28046744574290483,
          0.28046744574290483,
          0.281858653311074,
          0.281858653311074,
          0.2826933778519755,
          0.2826933778519755,
          0.2832498608792432,
          0.2832498608792432,
          0.2846410684474123,
          0.2846410684474123,
          0.2879799666110184,
          0.2879799666110184,
          0.29354479688369506,
          0.29410127991096274,
          0.29465776293823037,
          0.29465776293823037,
          0.3038397328881469,
          0.3038397328881469,
          0.31775180856983865,
          0.31775180856983865,
          0.32164718976071227,
          0.32164718976071227,
          0.3233166388425153,
          0.3233166388425153,
          0.32470784641068445,
          0.32526432943795214,
          0.32776850306065664,
          0.32776850306065664,
          0.3352810239287702,
          0.3352810239287702,
          0.3361157484696717,
          0.3361157484696717,
          0.34140233722871455,
          0.34140233722871455,
          0.34251530328324986,
          0.34251530328324986,
          0.34474123539232054,
          0.34474123539232054,
          0.34641068447412354,
          0.34641068447412354,
          0.3500278241513634,
          0.3500278241513634,
          0.3553144129104062,
          0.3553144129104062,
          0.36533110740122426,
          0.36533110740122426,
          0.36616583194212576,
          0.36616583194212576,
          0.36867000556483026,
          0.36867000556483026,
          0.37089593767390094,
          0.37089593767390094,
          0.3722871452420701,
          0.3722871452420701,
          0.3745130773511408,
          0.3745130773511408,
          0.3770172509738453,
          0.3770172509738453,
          0.377573734001113,
          0.377573734001113,
          0.3797996661101836,
          0.3797996661101836,
          0.3803561491374513,
          0.3803561491374513,
          0.3845297718419588,
          0.3850862548692265,
          0.38981636060100167,
          0.38981636060100167,
          0.3900946021146355,
          0.3900946021146355,
          0.3973288814691152,
          0.3973288814691152,
          0.3998330550918197,
          0.3998330550918197,
          0.4076238174735671,
          0.4076238174735671,
          0.4120756816917084,
          0.41263216471897607,
          0.41263216471897607,
          0.4137451307735114,
          0.4137451307735114,
          0.41485809682804675,
          0.41541457985531444,
          0.41875347801892043,
          0.41875347801892043,
          0.4193099610461881,
          0.4193099610461881,
          0.42070116861435725,
          0.42070116861435725,
          0.4218141346688926,
          0.4218141346688926,
          0.4240400667779633,
          0.4245965498052309,
          0.44184752365052865,
          0.44184752365052865,
          0.4485253199777407,
          0.4485253199777407,
          0.46048970506399556,
          0.46048970506399556,
          0.47022815804117973,
          0.47022815804117973,
          0.47189760712298273,
          0.47189760712298273,
          0.4721758486366166,
          0.47273233166388423,
          0.4732888146911519,
          0.4732888146911519,
          0.48080133555926546,
          0.4813578185865331,
          0.4821925431274346,
          0.4827490261547023,
          0.49220923761825264,
          0.49220923761825264,
          0.5077907623817474,
          0.5077907623817474,
          0.5086254869226489,
          0.5089037284362827,
          0.5102949360044519,
          0.5102949360044519,
          0.5108514190317195,
          0.5114079020589872,
          0.5180856983861992,
          0.5180856983861992,
          0.5183639398998331,
          0.5183639398998331,
          0.5186421814134669,
          0.5186421814134669,
          0.5189204229271007,
          0.5189204229271007,
          0.5191986644407346,
          0.5191986644407346,
          0.5194769059543684,
          0.5194769059543684,
          0.5197551474680022,
          0.5197551474680022,
          0.5211463550361713,
          0.5211463550361713,
          0.5214245965498052,
          0.5214245965498052,
          0.5217028380634391,
          0.5217028380634391,
          0.5219810795770728,
          0.5219810795770728,
          0.5222593210907067,
          0.5222593210907067,
          0.523650528658876,
          0.523650528658876,
          0.5239287701725097,
          0.5239287701725097,
          0.5244852531997775,
          0.5244852531997775,
          0.5250417362270451,
          0.5250417362270451,
          0.525319977740679,
          0.525319977740679,
          0.5267111853088481,
          0.5267111853088481,
          0.526989426822482,
          0.526989426822482,
          0.5275459098497496,
          0.5275459098497496,
          0.5281023928770172,
          0.5281023928770172,
          0.5283806343906511,
          0.5283806343906511,
          0.5294936004451865,
          0.5294936004451865,
          0.5297718419588202,
          0.5297718419588202,
          0.5311630495269895,
          0.5311630495269895,
          0.5322760155815247,
          0.5322760155815247,
          0.5331107401224263,
          0.5331107401224263,
          0.5333889816360601,
          0.5333889816360601,
          0.533667223149694,
          0.533667223149694,
          0.5339454646633278,
          0.5339454646633278,
          0.535336672231497,
          0.535336672231497,
          0.5367278797996661,
          0.5367278797996661,
          0.5378408458542014,
          0.5378408458542014,
          0.5383973288814691,
          0.5383973288814691,
          0.5389538119087368,
          0.5389538119087368,
          0.5392320534223706,
          0.5392320534223706,
          0.5395102949360044,
          0.5395102949360044,
          0.5400667779632721,
          0.5400667779632721,
          0.5409015025041736,
          0.5409015025041736,
          0.5422927100723428,
          0.5422927100723428,
          0.5431274346132443,
          0.5431274346132443,
          0.5453533667223149,
          0.5453533667223149,
          0.5481357818586533,
          0.5481357818586533,
          0.5484140233722872,
          0.5484140233722872,
          0.5500834724540902,
          0.5500834724540902,
          0.5506399554813578,
          0.5506399554813578,
          0.5511964385086255,
          0.5511964385086255,
          0.5514746800222593,
          0.5514746800222593,
          0.5517529215358932,
          0.5517529215358932,
          0.5525876460767947,
          0.5525876460767947,
          0.5534223706176962,
          0.5534223706176962,
          0.5542570951585977,
          0.5542570951585977,
          0.5575959933222037,
          0.5575959933222037,
          0.558708959376739,
          0.558708959376739,
          0.5589872008903728,
          0.5589872008903728,
          0.5598219254312743,
          0.5598219254312743,
          0.5606566499721759,
          0.5606566499721759,
          0.5609348914858097,
          0.5609348914858097,
          0.5617696160267112,
          0.5617696160267112,
          0.562047857540345,
          0.562047857540345,
          0.5648302726766834,
          0.5648302726766834,
          0.565386755703951,
          0.565386755703951,
          0.5667779632721202,
          0.5667779632721202,
          0.567056204785754,
          0.567056204785754,
          0.5673344462993879,
          0.5673344462993879,
          0.5676126878130217,
          0.5676126878130217,
          0.5695603784084585,
          0.5695603784084585,
          0.5698386199220924,
          0.5698386199220924,
          0.57039510294936,
          0.57039510294936,
          0.5709515859766278,
          0.5709515859766278,
          0.5712298274902615,
          0.5712298274902615,
          0.5726210350584308,
          0.5726210350584308,
          0.5728992765720645,
          0.5728992765720645,
          0.5740122426265999,
          0.5740122426265999,
          0.5773511407902059,
          0.5773511407902059,
          0.5781858653311074,
          0.5781858653311074,
          0.5787423483583751,
          0.5787423483583751,
          0.5795770728992766,
          0.5795770728992766,
          0.5804117974401781,
          0.5804117974401781,
          0.5815247634947134,
          0.5815247634947134,
          0.5820812465219811,
          0.5820812465219811,
          0.5829159710628826,
          0.5829159710628826,
          0.5837506956037841,
          0.5837506956037841,
          0.5843071786310517,
          0.5843071786310517,
          0.5848636616583194,
          0.5848636616583194,
          0.5862548692264886,
          0.5862548692264886,
          0.5868113522537562,
          0.5868113522537562,
          0.5887590428491931,
          0.5887590428491931,
          0.5904284919309961,
          0.5904284919309961,
          0.594045631608236,
          0.594045631608236,
          0.5943238731218697,
          0.5943238731218697,
          0.5946021146355036,
          0.5946021146355036,
          0.5954368391764051,
          0.5954368391764051,
          0.5959933222036727,
          0.5959933222036727,
          0.5993322203672788,
          0.5993322203672788,
          0.5996104618809126,
          0.5996104618809126,
          0.5998887033945465,
          0.5998887033945465,
          0.6015581524763495,
          0.6015581524763495,
          0.6018363939899833,
          0.6018363939899833,
          0.602392877017251,
          0.602392877017251,
          0.6032276015581525,
          0.6032276015581525,
          0.6035058430717863,
          0.6035058430717863,
          0.6043405676126878,
          0.6043405676126878,
          0.6060100166944908,
          0.6060100166944908,
          0.6079577072899277,
          0.6079577072899277,
          0.6101836393989983,
          0.6101836393989983,
          0.6110183639398998,
          0.6110183639398998,
          0.6118530884808013,
          0.6118530884808013,
          0.6154702281580412,
          0.6154702281580412,
          0.6157484696716751,
          0.6157484696716751,
          0.6160267111853088,
          0.6160267111853088,
          0.6215915414579856,
          0.6215915414579856,
          0.6227045075125208,
          0.6227045075125208,
          0.6235392320534223,
          0.6235392320534223,
          0.6246521981079577,
          0.6252086811352254,
          0.6268781302170284,
          0.6268781302170284,
          0.6279910962715637,
          0.6279910962715637,
          0.6293823038397329,
          0.6293823038397329,
          0.6299387868670006,
          0.6299387868670006,
          0.6313299944351697,
          0.6313299944351697,
          0.6321647189760712,
          0.6321647189760712,
          0.6332776850306066,
          0.6332776850306066,
          0.6346688925987758,
          0.6352253756260434,
          0.635781858653311,
          0.635781858653311,
          0.6368948247078464,
          0.637451307735114,
          0.64079020589872,
          0.64079020589872,
          0.6430161380077908,
          0.6430161380077908,
          0.6432943795214245,
          0.6432943795214245,
          0.6449638286032277,
          0.6449638286032277,
          0.6483027267668336,
          0.6483027267668336,
          0.6499721758486366,
          0.6499721758486366,
          0.6513633834168058,
          0.6513633834168058,
          0.6516416249304396,
          0.6521981079577073,
          0.6521981079577073,
          0.6524763494713411,
          0.6524763494713411,
          0.6535893155258765,
          0.6535893155258765,
          0.6549805230940456,
          0.6549805230940456,
          0.6555370061213133,
          0.6555370061213133,
          0.6574846967167501,
          0.6574846967167501,
          0.6588759042849193,
          0.659432387312187,
          0.6599888703394546,
          0.6599888703394546,
          0.6622148024485254,
          0.6622148024485254,
          0.6655537006121314,
          0.6655537006121314,
          0.6669449081803005,
          0.6669449081803005,
          0.6683361157484696,
          0.6683361157484696,
          0.669449081803005,
          0.669449081803005,
          0.672787979966611,
          0.6730662214802449,
          0.6772398441847524,
          0.6772398441847524,
          0.6780745687256539,
          0.6780745687256539,
          0.6803005008347245,
          0.6803005008347245,
          0.6808569838619922,
          0.6808569838619922,
          0.6825264329437952,
          0.6825264329437952,
          0.6830829159710629,
          0.6830829159710629,
          0.6855870895937674,
          0.6855870895937674,
          0.6872565386755703,
          0.6872565386755703,
          0.6878130217028381,
          0.6878130217028381,
          0.6880912632164718,
          0.6880912632164718,
          0.6933778519755147,
          0.6933778519755147,
          0.69810795770729,
          0.69810795770729,
          0.7006121313299944,
          0.7006121313299944,
          0.7022815804117974,
          0.7022815804117974,
          0.7028380634390651,
          0.7028380634390651,
          0.7042292710072343,
          0.7042292710072343,
          0.7047857540345019,
          0.7047857540345019,
          0.7070116861435726,
          0.7070116861435726,
          0.7145242070116862,
          0.7148024485253199,
          0.7159154145798553,
          0.7159154145798553,
          0.7173066221480244,
          0.7173066221480244,
          0.718141346688926,
          0.718141346688926,
          0.7184195882025598,
          0.7184195882025598,
          0.719810795770729,
          0.719810795770729,
          0.7228714524207012,
          0.7228714524207012,
          0.7253756260434057,
          0.7253756260434057,
          0.726488592097941,
          0.726488592097941,
          0.7289927657206455,
          0.7289927657206455,
          0.7301057317751809,
          0.7301057317751809,
          0.73149693934335,
          0.73149693934335,
          0.7317751808569839,
          0.7317751808569839,
          0.7340011129660545,
          0.7340011129660545,
          0.7342793544796884,
          0.7342793544796884,
          0.7378964941569283,
          0.7378964941569283,
          0.7462437395659433,
          0.7462437395659433,
          0.7468002225932109,
          0.7476349471341124,
          0.7476349471341124,
          0.7548692264885921,
          0.7548692264885921,
          0.7557039510294936,
          0.7557039510294936,
          0.7595993322203672,
          0.7595993322203672,
          0.7615470228158041,
          0.7615470228158041,
          0.7657206455203116,
          0.7657206455203116,
          0.7712854757929883,
          0.7712854757929883,
          0.773511407902059,
          0.7740678909293267,
          0.7757373400111297,
          0.7757373400111297,
          0.778519755147468,
          0.778519755147468,
          0.7829716193656093,
          0.7840845854201447,
          0.7843628269337786,
          0.7843628269337786,
          0.7851975514746801,
          0.7851975514746801,
          0.7860322760155816,
          0.7860322760155816,
          0.7921535893155259,
          0.7921535893155259,
          0.7924318308291597,
          0.7924318308291597,
          0.7971619365609349,
          0.7971619365609349,
          0.8005008347245409,
          0.8005008347245409,
          0.8030050083472454,
          0.8030050083472454,
          0.8038397328881469,
          0.8038397328881469,
          0.8077351140790205,
          0.8077351140790205,
          0.8091263216471898,
          0.8091263216471898,
          0.8094045631608235,
          0.8094045631608235,
          0.8099610461880913,
          0.8099610461880913,
          0.8113522537562604,
          0.8113522537562604,
          0.8138564273789649,
          0.8138564273789649,
          0.8146911519198664,
          0.8146911519198664,
          0.8194212576516416,
          0.8194212576516416,
          0.820534223706177,
          0.820534223706177,
          0.8213689482470785,
          0.8213689482470785,
          0.8269337785197551,
          0.8269337785197551,
          0.8299944351697274,
          0.8299944351697274,
          0.8327768503060656,
          0.8327768503060656,
          0.8369504730105731,
          0.8369504730105731,
          0.8380634390651085,
          0.8386199220923762,
          0.8394546466332777,
          0.8394546466332777,
          0.8397328881469115,
          0.8397328881469115,
          0.8414023372287145,
          0.8414023372287145,
          0.8436282693377852,
          0.8436282693377852,
          0.8472454090150251,
          0.8472454090150251,
          0.8478018920422927,
          0.8478018920422927,
          0.8486366165831942,
          0.8486366165831942,
          0.8500278241513634,
          0.8500278241513634,
          0.8522537562604341,
          0.8522537562604341,
          0.8533667223149694,
          0.8533667223149694,
          0.8586533110740122,
          0.8586533110740122,
          0.8597662771285476,
          0.8603227601558152,
          0.8603227601558152,
          0.8617139677239845,
          0.8617139677239845,
          0.864218141346689,
          0.8647746243739566,
          0.8650528658875904,
          0.8661658319421258,
          0.8672787979966611,
          0.8678352810239288,
          0.8697829716193656,
          0.8697829716193656,
          0.8706176961602671,
          0.8734001112966054,
          0.8739565943238731,
          0.8753478018920423,
          0.8759042849193099,
          0.8781302170283807,
          0.8781302170283807,
          0.8786867000556483,
          0.8786867000556483,
          0.8789649415692822,
          0.8789649415692822,
          0.8792431830829159,
          0.8792431830829159,
          0.8814691151919867,
          0.8814691151919867,
          0.8817473567056204,
          0.8817473567056204,
          0.8825820812465219,
          0.8825820812465219,
          0.8834168057874234,
          0.8834168057874234,
          0.8898163606010017,
          0.8898163606010017,
          0.8903728436282693,
          0.8934335002782415,
          0.8934335002782415,
          0.8937117417918754,
          0.8937117417918754,
          0.899276572064552,
          0.899276572064552,
          0.9045631608235949,
          0.9045631608235949,
          0.9070673344462994,
          0.9070673344462994,
          0.9148580968280468,
          0.9148580968280468,
          0.9154145798553144,
          0.9154145798553144,
          0.9226488592097941,
          0.9226488592097941,
          0.9309961046188091,
          0.9309961046188091,
          0.9326655537006121,
          0.932943795214246,
          0.9365609348914858,
          0.9365609348914858,
          0.9371174179187535,
          0.9373956594323873,
          0.937952142459655,
          0.9382303839732888,
          0.9382303839732888,
          0.9385086254869226,
          0.9385086254869226,
          0.9404563160823595,
          0.9410127991096272,
          0.9460211463550362,
          0.9460211463550362,
          0.9582637729549248,
          0.9582637729549248,
          0.9596549805230941,
          0.9596549805230941,
          0.9599332220367279,
          0.9604897050639956,
          0.9721758486366165,
          0.9721758486366165,
          0.9830272676683361,
          0.9830272676683361,
          0.9841402337228714,
          0.9841402337228714,
          0.9852531997774068,
          0.9852531997774068,
          0.9860879243183083,
          0.9860879243183083,
          0.9930439621591541,
          0.9930439621591541,
          0.9963828603227601,
          0.9963828603227601,
          0.9997217584863661,
          0.9997217584863661,
          1
         ],
         "xaxis": "x",
         "y": [
          0,
          0.0015527950310559005,
          0.003105590062111801,
          0.003105590062111801,
          0.007763975155279503,
          0.007763975155279503,
          0.009316770186335404,
          0.009316770186335404,
          0.010869565217391304,
          0.010869565217391304,
          0.012422360248447204,
          0.012422360248447204,
          0.013975155279503106,
          0.013975155279503106,
          0.015527950310559006,
          0.015527950310559006,
          0.017080745341614908,
          0.017080745341614908,
          0.020186335403726708,
          0.020186335403726708,
          0.021739130434782608,
          0.021739130434782608,
          0.024844720496894408,
          0.024844720496894408,
          0.026397515527950312,
          0.026397515527950312,
          0.029503105590062112,
          0.029503105590062112,
          0.03260869565217391,
          0.03260869565217391,
          0.03571428571428571,
          0.03571428571428571,
          0.037267080745341616,
          0.037267080745341616,
          0.03881987577639751,
          0.03881987577639751,
          0.040372670807453416,
          0.040372670807453416,
          0.046583850931677016,
          0.046583850931677016,
          0.04813664596273292,
          0.04813664596273292,
          0.049689440993788817,
          0.049689440993788817,
          0.05124223602484472,
          0.05124223602484472,
          0.05745341614906832,
          0.05745341614906832,
          0.06366459627329192,
          0.06366459627329192,
          0.06677018633540373,
          0.06677018633540373,
          0.06832298136645963,
          0.06832298136645963,
          0.06987577639751552,
          0.06987577639751552,
          0.07142857142857142,
          0.07142857142857142,
          0.07298136645962733,
          0.07298136645962733,
          0.07453416149068323,
          0.07453416149068323,
          0.07608695652173914,
          0.07608695652173914,
          0.07763975155279502,
          0.07763975155279502,
          0.07919254658385093,
          0.07919254658385093,
          0.08229813664596274,
          0.08229813664596274,
          0.08385093167701864,
          0.08385093167701864,
          0.08695652173913043,
          0.08695652173913043,
          0.08850931677018634,
          0.08850931677018634,
          0.09161490683229814,
          0.09161490683229814,
          0.09316770186335403,
          0.09316770186335403,
          0.09627329192546584,
          0.09627329192546584,
          0.09782608695652174,
          0.09782608695652174,
          0.10093167701863354,
          0.10093167701863354,
          0.10248447204968944,
          0.10248447204968944,
          0.10559006211180125,
          0.10559006211180125,
          0.10714285714285714,
          0.10714285714285714,
          0.10869565217391304,
          0.10869565217391304,
          0.11024844720496894,
          0.11024844720496894,
          0.11180124223602485,
          0.11180124223602485,
          0.11490683229813664,
          0.11490683229813664,
          0.11645962732919254,
          0.11645962732919254,
          0.11801242236024845,
          0.11801242236024845,
          0.12111801242236025,
          0.12111801242236025,
          0.12422360248447205,
          0.12422360248447205,
          0.12732919254658384,
          0.12732919254658384,
          0.12888198757763975,
          0.12888198757763975,
          0.13198757763975155,
          0.13198757763975155,
          0.13354037267080746,
          0.13354037267080746,
          0.13509316770186336,
          0.13509316770186336,
          0.13664596273291926,
          0.13664596273291926,
          0.13819875776397517,
          0.13819875776397517,
          0.14285714285714285,
          0.14285714285714285,
          0.14440993788819875,
          0.14440993788819875,
          0.14906832298136646,
          0.14906832298136646,
          0.15062111801242237,
          0.15062111801242237,
          0.15217391304347827,
          0.15217391304347827,
          0.15372670807453417,
          0.15372670807453417,
          0.15527950310559005,
          0.15527950310559005,
          0.15683229813664595,
          0.15683229813664595,
          0.15838509316770186,
          0.15838509316770186,
          0.15993788819875776,
          0.15993788819875776,
          0.16304347826086957,
          0.16304347826086957,
          0.16459627329192547,
          0.16459627329192547,
          0.16614906832298137,
          0.16614906832298137,
          0.16770186335403728,
          0.16770186335403728,
          0.16925465838509315,
          0.16925465838509315,
          0.17391304347826086,
          0.17391304347826086,
          0.17546583850931677,
          0.17546583850931677,
          0.17701863354037267,
          0.17701863354037267,
          0.17857142857142858,
          0.17857142857142858,
          0.18012422360248448,
          0.18012422360248448,
          0.18167701863354038,
          0.18167701863354038,
          0.18322981366459629,
          0.18322981366459629,
          0.18478260869565216,
          0.18478260869565216,
          0.18633540372670807,
          0.18633540372670807,
          0.18788819875776397,
          0.18788819875776397,
          0.18944099378881987,
          0.18944099378881987,
          0.19099378881987578,
          0.19099378881987578,
          0.19254658385093168,
          0.19254658385093168,
          0.19409937888198758,
          0.19409937888198758,
          0.19409937888198758,
          0.19409937888198758,
          0.1956521739130435,
          0.1956521739130435,
          0.1972049689440994,
          0.1972049689440994,
          0.19875776397515527,
          0.19875776397515527,
          0.20186335403726707,
          0.20186335403726707,
          0.20341614906832298,
          0.20341614906832298,
          0.2096273291925466,
          0.2096273291925466,
          0.2111801242236025,
          0.2111801242236025,
          0.2127329192546584,
          0.2127329192546584,
          0.21428571428571427,
          0.21428571428571427,
          0.21583850931677018,
          0.21583850931677018,
          0.21739130434782608,
          0.21739130434782608,
          0.2204968944099379,
          0.2204968944099379,
          0.2220496894409938,
          0.2220496894409938,
          0.2236024844720497,
          0.2236024844720497,
          0.2267080745341615,
          0.2267080745341615,
          0.22826086956521738,
          0.22826086956521738,
          0.22981366459627328,
          0.22981366459627328,
          0.23136645962732919,
          0.23136645962732919,
          0.2329192546583851,
          0.2329192546583851,
          0.234472049689441,
          0.234472049689441,
          0.2360248447204969,
          0.2360248447204969,
          0.2375776397515528,
          0.2375776397515528,
          0.2391304347826087,
          0.2391304347826087,
          0.2406832298136646,
          0.2406832298136646,
          0.2453416149068323,
          0.2453416149068323,
          0.2468944099378882,
          0.2468944099378882,
          0.2484472049689441,
          0.2484472049689441,
          0.25,
          0.25,
          0.2515527950310559,
          0.2515527950310559,
          0.2562111801242236,
          0.2562111801242236,
          0.2593167701863354,
          0.2593167701863354,
          0.26242236024844723,
          0.26242236024844723,
          0.2639751552795031,
          0.2639751552795031,
          0.265527950310559,
          0.265527950310559,
          0.2670807453416149,
          0.2670807453416149,
          0.2686335403726708,
          0.2686335403726708,
          0.2701863354037267,
          0.2701863354037267,
          0.2732919254658385,
          0.2732919254658385,
          0.27639751552795033,
          0.27639751552795033,
          0.2779503105590062,
          0.2779503105590062,
          0.2795031055900621,
          0.2795031055900621,
          0.281055900621118,
          0.281055900621118,
          0.2826086956521739,
          0.2826086956521739,
          0.2841614906832298,
          0.2841614906832298,
          0.2857142857142857,
          0.2857142857142857,
          0.28726708074534163,
          0.28726708074534163,
          0.2919254658385093,
          0.2919254658385093,
          0.29347826086956524,
          0.29347826086956524,
          0.296583850931677,
          0.296583850931677,
          0.2981366459627329,
          0.2981366459627329,
          0.2996894409937888,
          0.2996894409937888,
          0.30124223602484473,
          0.30124223602484473,
          0.3027950310559006,
          0.3027950310559006,
          0.30434782608695654,
          0.30434782608695654,
          0.3059006211180124,
          0.3059006211180124,
          0.30745341614906835,
          0.30745341614906835,
          0.3090062111801242,
          0.3090062111801242,
          0.3105590062111801,
          0.3105590062111801,
          0.31211180124223603,
          0.31211180124223603,
          0.3136645962732919,
          0.3136645962732919,
          0.31521739130434784,
          0.31521739130434784,
          0.3167701863354037,
          0.3167701863354037,
          0.31832298136645965,
          0.31832298136645965,
          0.3198757763975155,
          0.3198757763975155,
          0.32142857142857145,
          0.32142857142857145,
          0.3245341614906832,
          0.3245341614906832,
          0.32608695652173914,
          0.32608695652173914,
          0.327639751552795,
          0.327639751552795,
          0.32919254658385094,
          0.32919254658385094,
          0.33229813664596275,
          0.33229813664596275,
          0.33540372670807456,
          0.33540372670807456,
          0.33695652173913043,
          0.33695652173913043,
          0.3385093167701863,
          0.3385093167701863,
          0.34006211180124224,
          0.34006211180124224,
          0.3416149068322981,
          0.3416149068322981,
          0.34316770186335405,
          0.3447204968944099,
          0.3447204968944099,
          0.34627329192546585,
          0.34627329192546585,
          0.34782608695652173,
          0.34782608695652173,
          0.34937888198757766,
          0.34937888198757766,
          0.35093167701863354,
          0.35093167701863354,
          0.3555900621118012,
          0.3555900621118012,
          0.35714285714285715,
          0.35714285714285715,
          0.358695652173913,
          0.358695652173913,
          0.36024844720496896,
          0.36024844720496896,
          0.36024844720496896,
          0.36024844720496896,
          0.36180124223602483,
          0.36180124223602483,
          0.36335403726708076,
          0.36335403726708076,
          0.36490683229813664,
          0.36490683229813664,
          0.36645962732919257,
          0.36645962732919257,
          0.36801242236024845,
          0.36801242236024845,
          0.3695652173913043,
          0.3695652173913043,
          0.37111801242236025,
          0.37111801242236025,
          0.37267080745341613,
          0.37267080745341613,
          0.37422360248447206,
          0.37422360248447206,
          0.37577639751552794,
          0.37577639751552794,
          0.37888198757763975,
          0.37888198757763975,
          0.3804347826086957,
          0.3804347826086957,
          0.3804347826086957,
          0.38198757763975155,
          0.38198757763975155,
          0.38354037267080743,
          0.38354037267080743,
          0.38664596273291924,
          0.38664596273291924,
          0.38819875776397517,
          0.38819875776397517,
          0.38975155279503104,
          0.38975155279503104,
          0.39285714285714285,
          0.39285714285714285,
          0.3944099378881988,
          0.3944099378881988,
          0.39596273291925466,
          0.39596273291925466,
          0.39751552795031053,
          0.39751552795031053,
          0.39906832298136646,
          0.39906832298136646,
          0.40062111801242234,
          0.40062111801242234,
          0.40217391304347827,
          0.40217391304347827,
          0.40372670807453415,
          0.40372670807453415,
          0.4052795031055901,
          0.4052795031055901,
          0.4083850931677019,
          0.4083850931677019,
          0.4114906832298137,
          0.4114906832298137,
          0.41304347826086957,
          0.41304347826086957,
          0.41459627329192544,
          0.41459627329192544,
          0.4161490683229814,
          0.4161490683229814,
          0.41770186335403725,
          0.41770186335403725,
          0.422360248447205,
          0.422360248447205,
          0.42391304347826086,
          0.42391304347826086,
          0.42391304347826086,
          0.42391304347826086,
          0.42701863354037267,
          0.42701863354037267,
          0.43167701863354035,
          0.43167701863354035,
          0.4332298136645963,
          0.4332298136645963,
          0.43478260869565216,
          0.43478260869565216,
          0.43788819875776397,
          0.43788819875776397,
          0.43788819875776397,
          0.43788819875776397,
          0.4394409937888199,
          0.4394409937888199,
          0.4440993788819876,
          0.4440993788819876,
          0.44875776397515527,
          0.44875776397515527,
          0.4503105590062112,
          0.4503105590062112,
          0.4518633540372671,
          0.4518633540372671,
          0.453416149068323,
          0.453416149068323,
          0.4549689440993789,
          0.4549689440993789,
          0.45652173913043476,
          0.45652173913043476,
          0.4580745341614907,
          0.4580745341614907,
          0.45962732919254656,
          0.45962732919254656,
          0.4611801242236025,
          0.4611801242236025,
          0.46273291925465837,
          0.46273291925465837,
          0.4642857142857143,
          0.4642857142857143,
          0.4658385093167702,
          0.4658385093167702,
          0.4673913043478261,
          0.4673913043478261,
          0.468944099378882,
          0.468944099378882,
          0.4704968944099379,
          0.4704968944099379,
          0.4720496894409938,
          0.4720496894409938,
          0.47360248447204967,
          0.47360248447204967,
          0.47360248447204967,
          0.47360248447204967,
          0.4751552795031056,
          0.4751552795031056,
          0.4767080745341615,
          0.4767080745341615,
          0.4782608695652174,
          0.4782608695652174,
          0.4798136645962733,
          0.4798136645962733,
          0.4829192546583851,
          0.4829192546583851,
          0.4829192546583851,
          0.484472049689441,
          0.484472049689441,
          0.4860248447204969,
          0.4860248447204969,
          0.4860248447204969,
          0.4860248447204969,
          0.4891304347826087,
          0.4891304347826087,
          0.4922360248447205,
          0.4922360248447205,
          0.4937888198757764,
          0.4937888198757764,
          0.4953416149068323,
          0.4953416149068323,
          0.4953416149068323,
          0.4953416149068323,
          0.4968944099378882,
          0.4968944099378882,
          0.4984472049689441,
          0.4984472049689441,
          0.5,
          0.5,
          0.5015527950310559,
          0.5015527950310559,
          0.5031055900621118,
          0.5031055900621118,
          0.5031055900621118,
          0.5031055900621118,
          0.5046583850931677,
          0.5046583850931677,
          0.5046583850931677,
          0.5046583850931677,
          0.5046583850931677,
          0.5046583850931677,
          0.5062111801242236,
          0.5062111801242236,
          0.5077639751552795,
          0.5077639751552795,
          0.5093167701863354,
          0.5093167701863354,
          0.5108695652173914,
          0.5108695652173914,
          0.5108695652173914,
          0.5108695652173914,
          0.5139751552795031,
          0.5139751552795031,
          0.5170807453416149,
          0.5170807453416149,
          0.5186335403726708,
          0.5186335403726708,
          0.5201863354037267,
          0.5201863354037267,
          0.5217391304347826,
          0.5217391304347826,
          0.5232919254658385,
          0.5232919254658385,
          0.5248447204968945,
          0.5248447204968945,
          0.5263975155279503,
          0.5263975155279503,
          0.531055900621118,
          0.531055900621118,
          0.532608695652174,
          0.532608695652174,
          0.5341614906832298,
          0.5341614906832298,
          0.5357142857142857,
          0.5357142857142857,
          0.5372670807453416,
          0.5372670807453416,
          0.5388198757763976,
          0.5388198757763976,
          0.5419254658385093,
          0.5419254658385093,
          0.5434782608695652,
          0.5434782608695652,
          0.5450310559006211,
          0.5450310559006211,
          0.5481366459627329,
          0.5481366459627329,
          0.5496894409937888,
          0.5496894409937888,
          0.5512422360248447,
          0.5512422360248447,
          0.5527950310559007,
          0.5527950310559007,
          0.5543478260869565,
          0.5543478260869565,
          0.5590062111801242,
          0.5590062111801242,
          0.5605590062111802,
          0.5605590062111802,
          0.5652173913043478,
          0.5652173913043478,
          0.5683229813664596,
          0.5683229813664596,
          0.5698757763975155,
          0.5698757763975155,
          0.5745341614906833,
          0.5745341614906833,
          0.577639751552795,
          0.577639751552795,
          0.5791925465838509,
          0.5791925465838509,
          0.5807453416149069,
          0.5807453416149069,
          0.5822981366459627,
          0.5822981366459627,
          0.5854037267080745,
          0.5854037267080745,
          0.5869565217391305,
          0.5869565217391305,
          0.5885093167701864,
          0.5885093167701864,
          0.593167701863354,
          0.593167701863354,
          0.5962732919254659,
          0.5962732919254659,
          0.5993788819875776,
          0.5993788819875776,
          0.6009316770186336,
          0.6009316770186336,
          0.6024844720496895,
          0.6024844720496895,
          0.6040372670807453,
          0.6040372670807453,
          0.6086956521739131,
          0.6086956521739131,
          0.610248447204969,
          0.610248447204969,
          0.6118012422360248,
          0.6118012422360248,
          0.6164596273291926,
          0.6164596273291926,
          0.6195652173913043,
          0.6195652173913043,
          0.6211180124223602,
          0.6211180124223602,
          0.6226708074534162,
          0.6226708074534162,
          0.6257763975155279,
          0.6257763975155279,
          0.6273291925465838,
          0.6273291925465838,
          0.6288819875776398,
          0.6288819875776398,
          0.6304347826086957,
          0.6304347826086957,
          0.6319875776397516,
          0.6319875776397516,
          0.6350931677018633,
          0.6350931677018633,
          0.6366459627329193,
          0.6366459627329193,
          0.639751552795031,
          0.639751552795031,
          0.6444099378881988,
          0.6444099378881988,
          0.6459627329192547,
          0.6459627329192547,
          0.6475155279503105,
          0.6475155279503105,
          0.6490683229813664,
          0.6490683229813664,
          0.6506211180124224,
          0.6506211180124224,
          0.6521739130434783,
          0.6521739130434783,
          0.6537267080745341,
          0.6537267080745341,
          0.65527950310559,
          0.65527950310559,
          0.656832298136646,
          0.656832298136646,
          0.6583850931677019,
          0.6583850931677019,
          0.6599378881987578,
          0.6599378881987578,
          0.6614906832298136,
          0.6614906832298136,
          0.6630434782608695,
          0.6630434782608695,
          0.6645962732919255,
          0.6645962732919255,
          0.6661490683229814,
          0.6661490683229814,
          0.6677018633540373,
          0.6677018633540373,
          0.6692546583850931,
          0.6692546583850931,
          0.6708074534161491,
          0.6708074534161491,
          0.672360248447205,
          0.672360248447205,
          0.6739130434782609,
          0.6739130434782609,
          0.6754658385093167,
          0.6754658385093167,
          0.6785714285714286,
          0.6785714285714286,
          0.6801242236024845,
          0.6801242236024845,
          0.6816770186335404,
          0.6816770186335404,
          0.6832298136645962,
          0.6832298136645962,
          0.6847826086956522,
          0.6847826086956522,
          0.6863354037267081,
          0.6863354037267081,
          0.6909937888198758,
          0.6909937888198758,
          0.6940993788819876,
          0.6940993788819876,
          0.6956521739130435,
          0.6956521739130435,
          0.6972049689440993,
          0.6972049689440993,
          0.6987577639751553,
          0.6987577639751553,
          0.7003105590062112,
          0.7003105590062112,
          0.7018633540372671,
          0.7018633540372671,
          0.7049689440993789,
          0.7049689440993789,
          0.7065217391304348,
          0.7065217391304348,
          0.7096273291925466,
          0.7096273291925466,
          0.7111801242236024,
          0.7111801242236024,
          0.7127329192546584,
          0.7127329192546584,
          0.7142857142857143,
          0.7142857142857143,
          0.7158385093167702,
          0.7158385093167702,
          0.717391304347826,
          0.717391304347826,
          0.718944099378882,
          0.718944099378882,
          0.7220496894409938,
          0.7220496894409938,
          0.7236024844720497,
          0.7236024844720497,
          0.7251552795031055,
          0.7251552795031055,
          0.7267080745341615,
          0.7267080745341615,
          0.7282608695652174,
          0.7282608695652174,
          0.7313664596273292,
          0.7313664596273292,
          0.7329192546583851,
          0.7329192546583851,
          0.734472049689441,
          0.734472049689441,
          0.7360248447204969,
          0.7360248447204969,
          0.7375776397515528,
          0.7375776397515528,
          0.7391304347826086,
          0.7391304347826086,
          0.7453416149068323,
          0.7453416149068323,
          0.7484472049689441,
          0.7484472049689441,
          0.75,
          0.75,
          0.7531055900621118,
          0.7531055900621118,
          0.7531055900621118,
          0.7531055900621118,
          0.7546583850931677,
          0.7546583850931677,
          0.7577639751552795,
          0.7577639751552795,
          0.7593167701863354,
          0.7593167701863354,
          0.7608695652173914,
          0.7608695652173914,
          0.7624223602484472,
          0.7624223602484472,
          0.7639751552795031,
          0.7639751552795031,
          0.765527950310559,
          0.765527950310559,
          0.765527950310559,
          0.765527950310559,
          0.7670807453416149,
          0.7670807453416149,
          0.7670807453416149,
          0.7670807453416149,
          0.7701863354037267,
          0.7701863354037267,
          0.7717391304347826,
          0.7717391304347826,
          0.7748447204968945,
          0.7748447204968945,
          0.7763975155279503,
          0.7763975155279503,
          0.781055900621118,
          0.781055900621118,
          0.782608695652174,
          0.782608695652174,
          0.7857142857142857,
          0.7857142857142857,
          0.7857142857142857,
          0.7872670807453416,
          0.7872670807453416,
          0.7888198757763976,
          0.7888198757763976,
          0.7903726708074534,
          0.7903726708074534,
          0.7934782608695652,
          0.7934782608695652,
          0.7950310559006211,
          0.7950310559006211,
          0.796583850931677,
          0.796583850931677,
          0.796583850931677,
          0.796583850931677,
          0.7981366459627329,
          0.7981366459627329,
          0.7996894409937888,
          0.7996894409937888,
          0.8012422360248447,
          0.8012422360248447,
          0.8027950310559007,
          0.8027950310559007,
          0.8043478260869565,
          0.8043478260869565,
          0.8059006211180124,
          0.8059006211180124,
          0.8074534161490683,
          0.8074534161490683,
          0.8105590062111802,
          0.8105590062111802,
          0.812111801242236,
          0.812111801242236,
          0.8136645962732919,
          0.8136645962732919,
          0.8152173913043478,
          0.8152173913043478,
          0.8167701863354038,
          0.8167701863354038,
          0.8198757763975155,
          0.8198757763975155,
          0.8214285714285714,
          0.8214285714285714,
          0.8229813664596274,
          0.8229813664596274,
          0.8245341614906833,
          0.8245341614906833,
          0.8260869565217391,
          0.8260869565217391,
          0.827639751552795,
          0.827639751552795,
          0.8291925465838509,
          0.8291925465838509,
          0.8307453416149069,
          0.8307453416149069,
          0.8322981366459627,
          0.8322981366459627,
          0.8338509316770186,
          0.8338509316770186,
          0.8354037267080745,
          0.8354037267080745,
          0.8369565217391305,
          0.8369565217391305,
          0.8385093167701864,
          0.8385093167701864,
          0.8400621118012422,
          0.8400621118012422,
          0.8416149068322981,
          0.8416149068322981,
          0.843167701863354,
          0.843167701863354,
          0.84472049689441,
          0.84472049689441,
          0.8462732919254659,
          0.8462732919254659,
          0.8478260869565217,
          0.8478260869565217,
          0.8493788819875776,
          0.8493788819875776,
          0.8509316770186336,
          0.8509316770186336,
          0.8540372670807453,
          0.8540372670807453,
          0.8555900621118012,
          0.8555900621118012,
          0.8571428571428571,
          0.8571428571428571,
          0.8586956521739131,
          0.8586956521739131,
          0.860248447204969,
          0.860248447204969,
          0.8618012422360248,
          0.8618012422360248,
          0.8633540372670807,
          0.8633540372670807,
          0.8649068322981367,
          0.8649068322981367,
          0.8664596273291926,
          0.8664596273291926,
          0.8664596273291926,
          0.8680124223602484,
          0.8680124223602484,
          0.8695652173913043,
          0.8695652173913043,
          0.8711180124223602,
          0.8711180124223602,
          0.8726708074534162,
          0.8726708074534162,
          0.8742236024844721,
          0.8742236024844721,
          0.8757763975155279,
          0.8757763975155279,
          0.8773291925465838,
          0.8773291925465838,
          0.8773291925465838,
          0.8773291925465838,
          0.8804347826086957,
          0.8804347826086957,
          0.8819875776397516,
          0.8819875776397516,
          0.8819875776397516,
          0.8819875776397516,
          0.8835403726708074,
          0.8835403726708074,
          0.8850931677018633,
          0.8850931677018633,
          0.8866459627329193,
          0.8866459627329193,
          0.8881987577639752,
          0.8881987577639752,
          0.889751552795031,
          0.889751552795031,
          0.8944099378881988,
          0.8944099378881988,
          0.8959627329192547,
          0.8959627329192547,
          0.8975155279503105,
          0.8975155279503105,
          0.8990683229813664,
          0.8990683229813664,
          0.9006211180124224,
          0.9006211180124224,
          0.9021739130434783,
          0.9021739130434783,
          0.9037267080745341,
          0.9037267080745341,
          0.90527950310559,
          0.90527950310559,
          0.906832298136646,
          0.906832298136646,
          0.9083850931677019,
          0.9083850931677019,
          0.9099378881987578,
          0.9099378881987578,
          0.9114906832298136,
          0.9114906832298136,
          0.9130434782608695,
          0.9130434782608695,
          0.9145962732919255,
          0.9145962732919255,
          0.9161490683229814,
          0.9161490683229814,
          0.9177018633540373,
          0.9177018633540373,
          0.9208074534161491,
          0.9208074534161491,
          0.922360248447205,
          0.922360248447205,
          0.922360248447205,
          0.922360248447205,
          0.9239130434782609,
          0.9239130434782609,
          0.9254658385093167,
          0.9254658385093167,
          0.9270186335403726,
          0.9270186335403726,
          0.9285714285714286,
          0.9285714285714286,
          0.9301242236024845,
          0.9301242236024845,
          0.9316770186335404,
          0.9316770186335404,
          0.9332298136645962,
          0.9332298136645962,
          0.9363354037267081,
          0.9363354037267081,
          0.937888198757764,
          0.937888198757764,
          0.9394409937888198,
          0.9394409937888198,
          0.9409937888198758,
          0.9409937888198758,
          0.9409937888198758,
          0.9440993788819876,
          0.9440993788819876,
          0.9456521739130435,
          0.9456521739130435,
          0.9456521739130435,
          0.9456521739130435,
          0.9456521739130435,
          0.9456521739130435,
          0.9456521739130435,
          0.9456521739130435,
          0.9472049689440993,
          0.9472049689440993,
          0.9472049689440993,
          0.9472049689440993,
          0.9472049689440993,
          0.9472049689440993,
          0.9472049689440993,
          0.9487577639751553,
          0.9487577639751553,
          0.9503105590062112,
          0.9503105590062112,
          0.9518633540372671,
          0.9518633540372671,
          0.953416149068323,
          0.953416149068323,
          0.9549689440993789,
          0.9549689440993789,
          0.9565217391304348,
          0.9565217391304348,
          0.9580745341614907,
          0.9580745341614907,
          0.9596273291925466,
          0.9596273291925466,
          0.9611801242236024,
          0.9611801242236024,
          0.9611801242236024,
          0.9627329192546584,
          0.9627329192546584,
          0.9642857142857143,
          0.9642857142857143,
          0.9658385093167702,
          0.9658385093167702,
          0.967391304347826,
          0.967391304347826,
          0.968944099378882,
          0.968944099378882,
          0.9704968944099379,
          0.9704968944099379,
          0.9720496894409938,
          0.9720496894409938,
          0.9736024844720497,
          0.9736024844720497,
          0.9751552795031055,
          0.9751552795031055,
          0.9767080745341615,
          0.9767080745341615,
          0.9782608695652174,
          0.9782608695652174,
          0.9798136645962733,
          0.9798136645962733,
          0.9798136645962733,
          0.9813664596273292,
          0.9813664596273292,
          0.9829192546583851,
          0.9829192546583851,
          0.9829192546583851,
          0.9829192546583851,
          0.984472049689441,
          0.984472049689441,
          0.9860248447204969,
          0.9860248447204969,
          0.9875776397515528,
          0.9875776397515528,
          0.9875776397515528,
          0.9875776397515528,
          0.9891304347826086,
          0.9891304347826086,
          0.9906832298136646,
          0.9906832298136646,
          0.9922360248447205,
          0.9922360248447205,
          0.9937888198757764,
          0.9937888198757764,
          0.9953416149068323,
          0.9953416149068323,
          0.9968944099378882,
          0.9968944099378882,
          0.9984472049689441,
          0.9984472049689441,
          1,
          1
         ],
         "yaxis": "y"
        }
       ],
       "layout": {
        "autosize": true,
        "dragmode": "pan",
        "legend": {
         "tracegroupgap": 0
        },
        "margin": {
         "t": 60
        },
        "template": {
         "data": {
          "bar": [
           {
            "error_x": {
             "color": "#2a3f5f"
            },
            "error_y": {
             "color": "#2a3f5f"
            },
            "marker": {
             "line": {
              "color": "#E5ECF6",
              "width": 0.5
             },
             "pattern": {
              "fillmode": "overlay",
              "size": 10,
              "solidity": 0.2
             }
            },
            "type": "bar"
           }
          ],
          "barpolar": [
           {
            "marker": {
             "line": {
              "color": "#E5ECF6",
              "width": 0.5
             },
             "pattern": {
              "fillmode": "overlay",
              "size": 10,
              "solidity": 0.2
             }
            },
            "type": "barpolar"
           }
          ],
          "carpet": [
           {
            "aaxis": {
             "endlinecolor": "#2a3f5f",
             "gridcolor": "white",
             "linecolor": "white",
             "minorgridcolor": "white",
             "startlinecolor": "#2a3f5f"
            },
            "baxis": {
             "endlinecolor": "#2a3f5f",
             "gridcolor": "white",
             "linecolor": "white",
             "minorgridcolor": "white",
             "startlinecolor": "#2a3f5f"
            },
            "type": "carpet"
           }
          ],
          "choropleth": [
           {
            "colorbar": {
             "outlinewidth": 0,
             "ticks": ""
            },
            "type": "choropleth"
           }
          ],
          "contour": [
           {
            "colorbar": {
             "outlinewidth": 0,
             "ticks": ""
            },
            "colorscale": [
             [
              0,
              "#0d0887"
             ],
             [
              0.1111111111111111,
              "#46039f"
             ],
             [
              0.2222222222222222,
              "#7201a8"
             ],
             [
              0.3333333333333333,
              "#9c179e"
             ],
             [
              0.4444444444444444,
              "#bd3786"
             ],
             [
              0.5555555555555556,
              "#d8576b"
             ],
             [
              0.6666666666666666,
              "#ed7953"
             ],
             [
              0.7777777777777778,
              "#fb9f3a"
             ],
             [
              0.8888888888888888,
              "#fdca26"
             ],
             [
              1,
              "#f0f921"
             ]
            ],
            "type": "contour"
           }
          ],
          "contourcarpet": [
           {
            "colorbar": {
             "outlinewidth": 0,
             "ticks": ""
            },
            "type": "contourcarpet"
           }
          ],
          "heatmap": [
           {
            "colorbar": {
             "outlinewidth": 0,
             "ticks": ""
            },
            "colorscale": [
             [
              0,
              "#0d0887"
             ],
             [
              0.1111111111111111,
              "#46039f"
             ],
             [
              0.2222222222222222,
              "#7201a8"
             ],
             [
              0.3333333333333333,
              "#9c179e"
             ],
             [
              0.4444444444444444,
              "#bd3786"
             ],
             [
              0.5555555555555556,
              "#d8576b"
             ],
             [
              0.6666666666666666,
              "#ed7953"
             ],
             [
              0.7777777777777778,
              "#fb9f3a"
             ],
             [
              0.8888888888888888,
              "#fdca26"
             ],
             [
              1,
              "#f0f921"
             ]
            ],
            "type": "heatmap"
           }
          ],
          "heatmapgl": [
           {
            "colorbar": {
             "outlinewidth": 0,
             "ticks": ""
            },
            "colorscale": [
             [
              0,
              "#0d0887"
             ],
             [
              0.1111111111111111,
              "#46039f"
             ],
             [
              0.2222222222222222,
              "#7201a8"
             ],
             [
              0.3333333333333333,
              "#9c179e"
             ],
             [
              0.4444444444444444,
              "#bd3786"
             ],
             [
              0.5555555555555556,
              "#d8576b"
             ],
             [
              0.6666666666666666,
              "#ed7953"
             ],
             [
              0.7777777777777778,
              "#fb9f3a"
             ],
             [
              0.8888888888888888,
              "#fdca26"
             ],
             [
              1,
              "#f0f921"
             ]
            ],
            "type": "heatmapgl"
           }
          ],
          "histogram": [
           {
            "marker": {
             "pattern": {
              "fillmode": "overlay",
              "size": 10,
              "solidity": 0.2
             }
            },
            "type": "histogram"
           }
          ],
          "histogram2d": [
           {
            "colorbar": {
             "outlinewidth": 0,
             "ticks": ""
            },
            "colorscale": [
             [
              0,
              "#0d0887"
             ],
             [
              0.1111111111111111,
              "#46039f"
             ],
             [
              0.2222222222222222,
              "#7201a8"
             ],
             [
              0.3333333333333333,
              "#9c179e"
             ],
             [
              0.4444444444444444,
              "#bd3786"
             ],
             [
              0.5555555555555556,
              "#d8576b"
             ],
             [
              0.6666666666666666,
              "#ed7953"
             ],
             [
              0.7777777777777778,
              "#fb9f3a"
             ],
             [
              0.8888888888888888,
              "#fdca26"
             ],
             [
              1,
              "#f0f921"
             ]
            ],
            "type": "histogram2d"
           }
          ],
          "histogram2dcontour": [
           {
            "colorbar": {
             "outlinewidth": 0,
             "ticks": ""
            },
            "colorscale": [
             [
              0,
              "#0d0887"
             ],
             [
              0.1111111111111111,
              "#46039f"
             ],
             [
              0.2222222222222222,
              "#7201a8"
             ],
             [
              0.3333333333333333,
              "#9c179e"
             ],
             [
              0.4444444444444444,
              "#bd3786"
             ],
             [
              0.5555555555555556,
              "#d8576b"
             ],
             [
              0.6666666666666666,
              "#ed7953"
             ],
             [
              0.7777777777777778,
              "#fb9f3a"
             ],
             [
              0.8888888888888888,
              "#fdca26"
             ],
             [
              1,
              "#f0f921"
             ]
            ],
            "type": "histogram2dcontour"
           }
          ],
          "mesh3d": [
           {
            "colorbar": {
             "outlinewidth": 0,
             "ticks": ""
            },
            "type": "mesh3d"
           }
          ],
          "parcoords": [
           {
            "line": {
             "colorbar": {
              "outlinewidth": 0,
              "ticks": ""
             }
            },
            "type": "parcoords"
           }
          ],
          "pie": [
           {
            "automargin": true,
            "type": "pie"
           }
          ],
          "scatter": [
           {
            "fillpattern": {
             "fillmode": "overlay",
             "size": 10,
             "solidity": 0.2
            },
            "type": "scatter"
           }
          ],
          "scatter3d": [
           {
            "line": {
             "colorbar": {
              "outlinewidth": 0,
              "ticks": ""
             }
            },
            "marker": {
             "colorbar": {
              "outlinewidth": 0,
              "ticks": ""
             }
            },
            "type": "scatter3d"
           }
          ],
          "scattercarpet": [
           {
            "marker": {
             "colorbar": {
              "outlinewidth": 0,
              "ticks": ""
             }
            },
            "type": "scattercarpet"
           }
          ],
          "scattergeo": [
           {
            "marker": {
             "colorbar": {
              "outlinewidth": 0,
              "ticks": ""
             }
            },
            "type": "scattergeo"
           }
          ],
          "scattergl": [
           {
            "marker": {
             "colorbar": {
              "outlinewidth": 0,
              "ticks": ""
             }
            },
            "type": "scattergl"
           }
          ],
          "scattermapbox": [
           {
            "marker": {
             "colorbar": {
              "outlinewidth": 0,
              "ticks": ""
             }
            },
            "type": "scattermapbox"
           }
          ],
          "scatterpolar": [
           {
            "marker": {
             "colorbar": {
              "outlinewidth": 0,
              "ticks": ""
             }
            },
            "type": "scatterpolar"
           }
          ],
          "scatterpolargl": [
           {
            "marker": {
             "colorbar": {
              "outlinewidth": 0,
              "ticks": ""
             }
            },
            "type": "scatterpolargl"
           }
          ],
          "scatterternary": [
           {
            "marker": {
             "colorbar": {
              "outlinewidth": 0,
              "ticks": ""
             }
            },
            "type": "scatterternary"
           }
          ],
          "surface": [
           {
            "colorbar": {
             "outlinewidth": 0,
             "ticks": ""
            },
            "colorscale": [
             [
              0,
              "#0d0887"
             ],
             [
              0.1111111111111111,
              "#46039f"
             ],
             [
              0.2222222222222222,
              "#7201a8"
             ],
             [
              0.3333333333333333,
              "#9c179e"
             ],
             [
              0.4444444444444444,
              "#bd3786"
             ],
             [
              0.5555555555555556,
              "#d8576b"
             ],
             [
              0.6666666666666666,
              "#ed7953"
             ],
             [
              0.7777777777777778,
              "#fb9f3a"
             ],
             [
              0.8888888888888888,
              "#fdca26"
             ],
             [
              1,
              "#f0f921"
             ]
            ],
            "type": "surface"
           }
          ],
          "table": [
           {
            "cells": {
             "fill": {
              "color": "#EBF0F8"
             },
             "line": {
              "color": "white"
             }
            },
            "header": {
             "fill": {
              "color": "#C8D4E3"
             },
             "line": {
              "color": "white"
             }
            },
            "type": "table"
           }
          ]
         },
         "layout": {
          "annotationdefaults": {
           "arrowcolor": "#2a3f5f",
           "arrowhead": 0,
           "arrowwidth": 1
          },
          "autotypenumbers": "strict",
          "coloraxis": {
           "colorbar": {
            "outlinewidth": 0,
            "ticks": ""
           }
          },
          "colorscale": {
           "diverging": [
            [
             0,
             "#8e0152"
            ],
            [
             0.1,
             "#c51b7d"
            ],
            [
             0.2,
             "#de77ae"
            ],
            [
             0.3,
             "#f1b6da"
            ],
            [
             0.4,
             "#fde0ef"
            ],
            [
             0.5,
             "#f7f7f7"
            ],
            [
             0.6,
             "#e6f5d0"
            ],
            [
             0.7,
             "#b8e186"
            ],
            [
             0.8,
             "#7fbc41"
            ],
            [
             0.9,
             "#4d9221"
            ],
            [
             1,
             "#276419"
            ]
           ],
           "sequential": [
            [
             0,
             "#0d0887"
            ],
            [
             0.1111111111111111,
             "#46039f"
            ],
            [
             0.2222222222222222,
             "#7201a8"
            ],
            [
             0.3333333333333333,
             "#9c179e"
            ],
            [
             0.4444444444444444,
             "#bd3786"
            ],
            [
             0.5555555555555556,
             "#d8576b"
            ],
            [
             0.6666666666666666,
             "#ed7953"
            ],
            [
             0.7777777777777778,
             "#fb9f3a"
            ],
            [
             0.8888888888888888,
             "#fdca26"
            ],
            [
             1,
             "#f0f921"
            ]
           ],
           "sequentialminus": [
            [
             0,
             "#0d0887"
            ],
            [
             0.1111111111111111,
             "#46039f"
            ],
            [
             0.2222222222222222,
             "#7201a8"
            ],
            [
             0.3333333333333333,
             "#9c179e"
            ],
            [
             0.4444444444444444,
             "#bd3786"
            ],
            [
             0.5555555555555556,
             "#d8576b"
            ],
            [
             0.6666666666666666,
             "#ed7953"
            ],
            [
             0.7777777777777778,
             "#fb9f3a"
            ],
            [
             0.8888888888888888,
             "#fdca26"
            ],
            [
             1,
             "#f0f921"
            ]
           ]
          },
          "colorway": [
           "#636efa",
           "#EF553B",
           "#00cc96",
           "#ab63fa",
           "#FFA15A",
           "#19d3f3",
           "#FF6692",
           "#B6E880",
           "#FF97FF",
           "#FECB52"
          ],
          "font": {
           "color": "#2a3f5f"
          },
          "geo": {
           "bgcolor": "white",
           "lakecolor": "white",
           "landcolor": "#E5ECF6",
           "showlakes": true,
           "showland": true,
           "subunitcolor": "white"
          },
          "hoverlabel": {
           "align": "left"
          },
          "hovermode": "closest",
          "mapbox": {
           "style": "light"
          },
          "paper_bgcolor": "white",
          "plot_bgcolor": "#E5ECF6",
          "polar": {
           "angularaxis": {
            "gridcolor": "white",
            "linecolor": "white",
            "ticks": ""
           },
           "bgcolor": "#E5ECF6",
           "radialaxis": {
            "gridcolor": "white",
            "linecolor": "white",
            "ticks": ""
           }
          },
          "scene": {
           "xaxis": {
            "backgroundcolor": "#E5ECF6",
            "gridcolor": "white",
            "gridwidth": 2,
            "linecolor": "white",
            "showbackground": true,
            "ticks": "",
            "zerolinecolor": "white"
           },
           "yaxis": {
            "backgroundcolor": "#E5ECF6",
            "gridcolor": "white",
            "gridwidth": 2,
            "linecolor": "white",
            "showbackground": true,
            "ticks": "",
            "zerolinecolor": "white"
           },
           "zaxis": {
            "backgroundcolor": "#E5ECF6",
            "gridcolor": "white",
            "gridwidth": 2,
            "linecolor": "white",
            "showbackground": true,
            "ticks": "",
            "zerolinecolor": "white"
           }
          },
          "shapedefaults": {
           "line": {
            "color": "#2a3f5f"
           }
          },
          "ternary": {
           "aaxis": {
            "gridcolor": "white",
            "linecolor": "white",
            "ticks": ""
           },
           "baxis": {
            "gridcolor": "white",
            "linecolor": "white",
            "ticks": ""
           },
           "bgcolor": "#E5ECF6",
           "caxis": {
            "gridcolor": "white",
            "linecolor": "white",
            "ticks": ""
           }
          },
          "title": {
           "x": 0.05
          },
          "xaxis": {
           "automargin": true,
           "gridcolor": "white",
           "linecolor": "white",
           "ticks": "",
           "title": {
            "standoff": 15
           },
           "zerolinecolor": "white",
           "zerolinewidth": 2
          },
          "yaxis": {
           "automargin": true,
           "gridcolor": "white",
           "linecolor": "white",
           "ticks": "",
           "title": {
            "standoff": 15
           },
           "zerolinecolor": "white",
           "zerolinewidth": 2
          }
         }
        },
        "xaxis": {
         "anchor": "y",
         "autorange": false,
         "domain": [
          0,
          1
         ],
         "range": [
          0.042011088709677416,
          0.042011088709677416
         ],
         "title": {
          "text": "fpr"
         },
         "type": "linear"
        },
        "yaxis": {
         "anchor": "x",
         "autorange": false,
         "domain": [
          0,
          1
         ],
         "range": [
          0.44554924242424243,
          0.44554924242424243
         ],
         "title": {
          "text": "tpr"
         },
         "type": "linear"
        }
       }
      },
      "image/png": "[encoded data removed]",
      "text/html": [
       "<div>                            <div id=\"b52f6ce7-ce65-4188-80c8-9b1c9ec5694e\" class=\"plotly-graph-div\" style=\"height:525px; width:100%;\"></div>            <script type=\"text/javascript\">                require([\"plotly\"], function(Plotly) {                    window.PLOTLYENV=window.PLOTLYENV || {};                                    if (document.getElementById(\"b52f6ce7-ce65-4188-80c8-9b1c9ec5694e\")) {                    Plotly.newPlot(                        \"b52f6ce7-ce65-4188-80c8-9b1c9ec5694e\",                        [{\"customdata\":[[null],[0.6049299060559115],[0.45854520770049867],[0.43577385392668827],[0.4295585003292597],[0.4225621867514101],[0.422130517596317],[0.4202510834406018],[0.4197934233526888],[0.41935620582410044],[0.4173140183192226],[0.4149441024011992],[0.4142042371702781],[0.4103739966995345],[0.40788342848837755],[0.4061528766288961],[0.40534186047578574],[0.4030842389628429],[0.4014138894587359],[0.40040594253497686],[0.40010025370560953],[0.39877174672680454],[0.3978529017185175],[0.39661176869707765],[0.39610780414858876],[0.39359114782179533],[0.3922764385343642],[0.39104816775268497],[0.39045193838239234],[0.3902573418538166],[0.3886866420506238],[0.38776886933905264],[0.38683518521698307],[0.3865813630788522],[0.3864934130236724],[0.38599109820488503],[0.3854559444903729],[0.38473730435839953],[0.38271259550166475],[0.38215236022481536],[0.37951989334963004],[0.3662645616251195],[0.3631029252219165],[0.35502112247061207],[0.3095301059301158],[0.30164102177542773],[0.2866862495432754],[0.2838810481974598],[0.280186188114673],[0.27913787439027793],[0.27745669965143516],[0.27479361310475375],[0.27424554349481817],[0.27387516796237177],[0.27321878848906134],[0.2729310718639659],[0.2727900217756357],[0.2709037344980567],[0.27045157068801656],[0.26750124788091206],[0.2673661537668237],[0.2630068392395815],[0.2615209674842749],[0.25835813704095795],[0.25811387773362143],[0.257532385417039],[0.2560821757562094],[0.25595079347471217],[0.2534528495612177],[0.25258399174223767],[0.2502444603952867],[0.24440571604388384],[0.24206581014555123],[0.24134836219034803],[0.23994648878977487],[0.23866704219357956],[0.23796734083394655],[0.2375679367338662],[0.23729050099539312],[0.2370667480559911],[0.23686195172824884],[0.23631185376517191],[0.23629147501830242],[0.23555709288108861],[0.23493266533219684],[0.23422942992224438],[0.23393444722444082],[0.23385953918309363],[0.233541906060659],[0.2330935196452679],[0.2329432248661759],[0.23268567955394717],[0.23265577098610904],[0.2318725716874999],[0.23181648355550677],[0.22983596356065528],[0.22969942178334865],[0.22967107815043528],[0.22934293318455864],[0.22925568835219245],[0.2291607403156244],[0.2289173647660776],[0.22878856252137386],[0.2286379776020925],[0.22848054477429836],[0.22844611120266303],[0.22808080312695092],[0.22745193911617018],[0.2273473119520373],[0.22677816526856842],[0.2267457445250641],[0.22670446152410656],[0.22667930277039242],[0.22652484071898646],[0.2263968706867899],[0.2263624536650399],[0.22630730556909395],[0.22605013551457898],[0.22595940397746733],[0.2258189434415197],[0.22579873623069663],[0.22547409700880147],[0.22531769494853932],[0.2252674860562368],[0.22523400416587835],[0.2251649130337865],[0.22502177210186794],[0.22479181914779958],[0.2247059011691865],[0.224355314961403],[0.22431508798983213],[0.22418289239693567],[0.22408441000056586],[0.2240720355662857],[0.224036936922252],[0.22390224332553224],[0.22390098798107533],[0.22376452411087594],[0.22374406095216204],[0.2234945495808436],[0.22329628511452654],[0.22328358776762217],[0.22318337228374954],[0.22316108218056366],[0.22308621845978804],[0.2230448841792155],[0.22293615244128379],[0.22267174206592788],[0.22246749681630287],[0.22239600536791018],[0.22238787005924185],[0.22234114241745467],[0.22230193307786716],[0.22190860960437614],[0.2218655411433976],[0.22182671266621456],[0.22181176589538515],[0.22176210800213111],[0.22175506959167682],[0.22122677227928872],[0.22120648599028928],[0.22116451161991407],[0.22115084110201638],[0.22101821308197853],[0.22101226389972883],[0.22093357857566168],[0.22088989367334672],[0.2208264599312741],[0.22075118157395543],[0.2203165706148493],[0.2202217683426919],[0.2200487593116729],[0.22002350544416155],[0.21999498090040426],[0.21992517791106558],[0.2198923397448612],[0.21989164876245867],[0.21949126790093512],[0.2194656785320247],[0.21933155349725078],[0.21933138743510408],[0.219201903397828],[0.21916273785836082],[0.21890339224681696],[0.21885595565850327],[0.21880033802430707],[0.2187797272780097],[0.21872050024052622],[0.21856392483380513],[0.2185116738973919],[0.21846036533803626],[0.21844606469610464],[0.21827544017327716],[0.21789075115758266],[0.21784077865423457],[0.21775323084461168],[0.21774784404391434],[0.21767225902897303],[0.21766713841519347],[0.2176419736486362],[0.21763611795110288],[0.21699868087348412],[0.21696822715153627],[0.21695266833800528],[0.2169368153850075],[0.2169348586915705],[0.21692699773803772],[0.21674519740185555],[0.21674055764006014],[0.21646025097956026],[0.21639384493211158],[0.2160581510686934],[0.21605309239748421],[0.2159348771174616],[0.2159343593301081],[0.2158944500936091],[0.2158934579930133],[0.2158156104843639],[0.21578638786151547],[0.21574661010381277],[0.2157411861522048],[0.21564617431695565],[0.21564246356473027],[0.21554492415481769],[0.21554294228623658],[0.21534756451013856],[0.21533829406890465],[0.21507184661786236],[0.21506075188449136],[0.21496518360928174],[0.2147620514616502],[0.21473169619047106],[0.2147251113072582],[0.21467289913840779],[0.21461859119215318],[0.2146151572941291],[0.2146025315587665],[0.2144537914329843],[0.21443267102229657],[0.2143908214320402],[0.21434301345668552],[0.2143353659748294],[0.2143076165287196],[0.21430169772922827],[0.21427250561046943],[0.2141702768769699],[0.21416913994617673],[0.21415051002970767],[0.2141433786548313],[0.2140680164525208],[0.21406467851489086],[0.21400731283749588],[0.21396061447331663],[0.21382314481092868],[0.21378441471313525],[0.2137398987519926],[0.21369827649056644],[0.213674496085539],[0.2136558760572225],[0.21357526089331094],[0.21355382946888124],[0.21353618870560906],[0.21352895405342617],[0.213485400045614],[0.2134471885311016],[0.21340691007983983],[0.21338802705630452],[0.21333097319748523],[0.2133070554849212],[0.2131911119069648],[0.21318825845663247],[0.21284866818807543],[0.21283571115515243],[0.21283464535939522],[0.21279979340472707],[0.21279392200973093],[0.21278865652430837],[0.21275474707629383],[0.2127298120089338],[0.21265353270763826],[0.21264408456923298],[0.21244314232953249],[0.21243892525180547],[0.21238961843781395],[0.21234902312746082],[0.21233715775773487],[0.2123367959098709],[0.21231315567023193],[0.21229960418930152],[0.2122841442328832],[0.2122770234030403],[0.21220199200138778],[0.21219632579922915],[0.21211568448831367],[0.21211447716597287],[0.21208188086646076],[0.2120741481417224],[0.21197457742264966],[0.211973253140266],[0.2119687884385572],[0.21193044787166215],[0.21175682578974192],[0.21173976122358376],[0.21163800475343295],[0.2116203356250064],[0.21156232184306967],[0.21155989484385454],[0.2114940702022452],[0.21148169598542543],[0.2114243646430279],[0.21141340739016942],[0.21131116731370447],[0.21128964010217044],[0.2112847314653832],[0.2112813301799854],[0.2112757157464088],[0.2112707228411278],[0.21115742419787417],[0.21115719706181946],[0.21104449302384898],[0.21103085184926498],[0.21099207595275246],[0.21098100832323502],[0.21084119504047985],[0.21083387313934362],[0.2107491411229858],[0.21074084677841762],[0.2104616383969565],[0.21044902076212005],[0.21038065092377864],[0.21037664615986365],[0.2103386230547725],[0.21032396410025378],[0.21031188253109895],[0.21027145185389493],[0.2102699752393872],[0.2102239565398575],[0.2101868856676742],[0.2101271705305804],[0.21010256113458567],[0.2100041377866841],[0.2099849620279985],[0.20973993268943103],[0.2097158254580877],[0.20967290191367943],[0.20967036461739683],[0.20961638240845473],[0.2096055664412642],[0.20941601959518183],[0.20940168844520396],[0.20922650992555109],[0.20920761196410478],[0.20909041561721392],[0.20908915377981757],[0.209011802325974],[0.20900269847064729],[0.2088565777343567],[0.20882841428404317],[0.20876929017193968],[0.20875996885197146],[0.20838308777615597],[0.2083764042016885],[0.20837022086006138],[0.20836316946957736],[0.20828070050390649],[0.20827426097634935],[0.20819112242280355],[0.20818642381440566],[0.20802567275145997],[0.20802042920417982],[0.20797686174392055],[0.20797322682658534],[0.20791884907056613],[0.20790595315821256],[0.20760794639565702],[0.20760158698893885],[0.20741458550240957],[0.20740723564126626],[0.20739250317539643],[0.20737903600576932],[0.20737492720836442],[0.20734895136041864],[0.20731982776940555],[0.20716333778558604],[0.2071451566409154],[0.20703961236678003],[0.20703696210830783],[0.20700948185911627],[0.20699710867456209],[0.20699095556002625],[0.20697939827618952],[0.20682928089029498],[0.2068274016911449],[0.20675910446908996],[0.20674504996756932],[0.20672500704609376],[0.2066960740302766],[0.2066823607582315],[0.20668159208783995],[0.2065502052674665],[0.20654687691012874],[0.2064739947139076],[0.20646797878864817],[0.2063401771196275],[0.20633887882048418],[0.20627832541573637],[0.20627022550860805],[0.20611644198473114],[0.20608821353354245],[0.20604964584240792],[0.20604834979942205],[0.20599876676568568],[0.20596058592303348],[0.20591066912707479],[0.20589532985741163],[0.20586486015624364],[0.20581185949649033],[0.20575766058523826],[0.20573264618204226],[0.2056259431056381],[0.2056207443419628],[0.20551737947404308],[0.2055150411915908],[0.20550808908613527],[0.20549379316545235],[0.20522033823552138],[0.20516910004614217],[0.20466851448742351],[0.20465551502899415],[0.20449004765331116],[0.20448072246997287],[0.20445002957436956],[0.20444169001531132],[0.20441505216130307],[0.20441040023102197],[0.20433071184503274],[0.20431132932231452],[0.2040431849043679],[0.2040195417867448],[0.20396488305775656],[0.20392307583666652],[0.20379869254135666],[0.2037914378661285],[0.20375380509771215],[0.20375095268398344],[0.20365644497961816],[0.20364669361628265],[0.20359270867864385],[0.20356326892208093],[0.20342513045751592],[0.20342253527722828],[0.20319615765374144],[0.20319084758564643],[0.20288272252820067],[0.20287737552537344],[0.20281656714462223],[0.20281265293958925],[0.20267814336595005],[0.20267394716702714],[0.20263706559243624],[0.20263594134699214],[0.20256019360684543],[0.2025096431333591],[0.20240323957606446],[0.2023971245982435],[0.20227167333117188],[0.20226377654672298],[0.20222558579480032],[0.20221950564631389],[0.20214073778897035],[0.20212348128790136],[0.20210503011235867],[0.20209665549523387],[0.2018713295062143],[0.2018710669220356],[0.2017281559950941],[0.2017209992085894],[0.20170856852720706],[0.20165650935973004],[0.20128603713207832],[0.20128459118062378],[0.20116724779278616],[0.20116386090736255],[0.20075465197345074],[0.20074214681897676],[0.2005605777822071],[0.20053544295561937],[0.20052733564007977],[0.2004846422568125],[0.20048080439772573],[0.20045112590549338],[0.20044805892325251],[0.20025855671584133],[0.20024790922005356],[0.20019839918351387],[0.20015668025601083],[0.20002472545764152],[0.1999835655462233],[0.19991214898012127],[0.19991054101525157],[0.19979227025208565],[0.19978601067793225],[0.1989624624283517],[0.19895145826876717],[0.1985457736322826],[0.19851448789697343],[0.19796067511961107],[0.19795922687334855],[0.19718461222958109],[0.19717364006600313],[0.19698640851574556],[0.19697019470274485],[0.19695009060480728],[0.19692495464617618],[0.1969182531566062],[0.1968929669068954],[0.19625588493830326],[0.19624359724657867],[0.1962066736073681],[0.19620099297753835],[0.19548721256047713],[0.19547878265664553],[0.19332005091965052],[0.19331616666737853],[0.1931632721451893],[0.19308628081163853],[0.19276997970728318],[0.19276232282420916],[0.19265937929185525],[0.19252594044792973],[0.16093742578478146],[0.15882964919269912],[0.15746652507593978],[0.15512900122071188],[0.15431413064830862],[0.1540184697429738],[0.15361340941798285],[0.15353341074892787],[0.15321299683832304],[0.15256300732110234],[0.15179892203128073],[0.15171831522503695],[0.1515064765200128],[0.1514825071709153],[0.15005206289779793],[0.14995723774444156],[0.1499242418962961],[0.14918605992631012],[0.1491451725491015],[0.14898721128366865],[0.14885025583292896],[0.14872105966633756],[0.1486170715346679],[0.14849245343038853],[0.14833503733987002],[0.14831214697095826],[0.14830302183189817],[0.14824354731686226],[0.14796998877694106],[0.14781644902960234],[0.14751532728160693],[0.14750152903532146],[0.1472819153345889],[0.14721454179871457],[0.146680759683946],[0.1461404765822547],[0.14610259353815913],[0.14603062701161673],[0.14594992904202903],[0.1458932068450235],[0.14574546514390538],[0.1455747267983256],[0.145571522215972],[0.14553944200269647],[0.1450342300638091],[0.14485015432363513],[0.14483571700961448],[0.14472206714650274],[0.14428233691140424],[0.14406143551622588],[0.14400203601736516],[0.14392667209017607],[0.1438247482217194],[0.1438021005562584],[0.1437493422142521],[0.14354969876224774],[0.1435244871149868],[0.14341369371931714],[0.1433927306191],[0.14332710278737432],[0.14299641620095468],[0.1429731498799679],[0.14270484116000007],[0.1426599638188169],[0.14241153472777132],[0.14222106297713763],[0.14203923026720092],[0.14202887698042246],[0.1419046423248969],[0.1418907015907166],[0.1418205454788825],[0.14171226630558262],[0.1416929362426804],[0.14168346255957215],[0.14167293598124628],[0.14156320542266843],[0.14142361382054397],[0.1414150323130678],[0.1412599203214164],[0.14124220430100054],[0.14118239178728406],[0.14115964339621317],[0.14103467183572774],[0.14095588875165554],[0.1405890749115616],[0.14056460428173018],[0.14053065065643772],[0.1404845405434243],[0.14018231825571023],[0.1401421041503654],[0.1400136096880816],[0.139928956850032],[0.13988307164393646],[0.13985561538747363],[0.13983959310826877],[0.13979685502045922],[0.13979171441652233],[0.13972700989493386],[0.13967507888941164],[0.1396579376793473],[0.13954205459834054],[0.1395371379264739],[0.13947469717971167],[0.1394745807773088],[0.1392368464176305],[0.13923525531867986],[0.13916151335413632],[0.13905885288065017],[0.13905664086186495],[0.13905574412297156],[0.13902256279214173],[0.13900267559623497],[0.138873047036589],[0.13881593348816762],[0.13878346881653175],[0.13877199770973972],[0.13868438722061707],[0.13867069647744512],[0.13866983670794858],[0.1386341096288079],[0.13843938848792525],[0.13842518105968568],[0.13840849844026748],[0.1383733187841426],[0.13832718727597246],[0.1383155974287014],[0.1383143312555058],[0.13825910469173341],[0.13819544736189543],[0.13819234586585677],[0.13818181234042642],[0.1381798334255086],[0.1379968872671663],[0.1379835341511283],[0.13796998455067172],[0.1379533434538688],[0.13792499462654592],[0.1379127831171839],[0.13790077389729932],[0.13789986824661582],[0.13788603606965602],[0.13788602089917995],[0.13772939432972872],[0.13770950061118759],[0.13769571607997957],[0.13768896914180204],[0.13764937838673852],[0.13762224051525107],[0.13727722855588015],[0.13726029119097558],[0.1372256565978346],[0.1372184672471329],[0.13716034257710802],[0.13714449286813712],[0.13710231733871253],[0.1370867171671419],[0.13706381817413865],[0.13704710022725647],[0.13701106639514343],[0.13700425697146373],[0.13698602082424038],[0.1369772172084115],[0.13688724803151125],[0.13686332661646],[0.13681555422899433],[0.1367559333800354],[0.13674322414421872],[0.13670580772059615],[0.13666907996770758],[0.13663514103377727],[0.1365692431042561],[0.13655574310817215],[0.13654025804245654],[0.13654004200178188],[0.136369336793019],[0.13635935811059857],[0.1363303567278263],[0.13631980462785886],[0.13619073095159057],[0.1361851504634899],[0.13616507601389344],[0.1361479678070326],[0.13613556492452009],[0.1360995293828144],[0.1360887179927343],[0.1360831760084428],[0.1360740179345111],[0.136071341161141],[0.13585982295926427],[0.1358531154191305],[0.13583777265275876],[0.1358372567135303],[0.13583218055946633],[0.13582758473916412],[0.1357827302486404],[0.13578270646232038],[0.1357770699883288],[0.1357629795823155],[0.1357340025529091],[0.13569993497427768],[0.13568107670393545],[0.13566995032143722],[0.13566150288473247],[0.13565322321478068],[0.13563455781785735],[0.13561304171705119],[0.1355554902476888],[0.13555383141452057],[0.13549065094182353],[0.13547088933789092],[0.13542549474016372],[0.13542212321144695],[0.13540873807542134],[0.13540641534758432],[0.1353622512072744],[0.13535540479589075],[0.13518331409939965],[0.13516926825763817],[0.1351604571606265],[0.13514916074205818],[0.13514172069540234],[0.1351077666469627],[0.13493319423428288],[0.13492792082782068],[0.13487027279354902],[0.13485356233149012],[0.13482761904347254],[0.13482341740316295],[0.1347941548248853],[0.13479171666983397],[0.13471445241405797],[0.13468727868818484],[0.13464023611054726],[0.1346107476849531],[0.13456922982723363],[0.1345664465059324],[0.13454077372226958],[0.13453818511968882],[0.13449065567682778],[0.13448779920088652],[0.13446654220637055],[0.13445821125180663],[0.1344411260878239],[0.13443659359850682],[0.1343485327950227],[0.13433879176667438],[0.13430708326035296],[0.13429968237199277],[0.13423465026987702],[0.13423163254567935],[0.13414368519213404],[0.1341281292466824],[0.13403327985905172],[0.13402635550715344],[0.13399664071988127],[0.1339957331163387],[0.1339508106266287],[0.13394544235809283],[0.13383653372765175],[0.13382381411001953],[0.13371927324692157],[0.13371867588387323],[0.1336884399355118],[0.1336779335766595],[0.13366011919387055],[0.13365407039726646],[0.13364235975458988],[0.13364058330463333],[0.13361851308304445],[0.13358638229187253],[0.133585403105271],[0.1335612690949597],[0.13354940754143585],[0.13354926877886272],[0.13353055163890926],[0.1334915562410164],[0.13348738981251912],[0.1334551545228582],[0.13343176359319983],[0.13341137820032897],[0.13339505896946463],[0.1333289703966306],[0.13331739591529382],[0.13323895156630164],[0.13322761012887638],[0.13320205819542164],[0.13319692688585424],[0.13315857846793241],[0.13313884759920902],[0.13312221539494531],[0.1331118074977779],[0.1330372286832886],[0.13303365793277755],[0.13293836200546255],[0.1329273799258954],[0.132901243771735],[0.13288362372123264],[0.13285199486891955],[0.13284845474820223],[0.1328056446628519],[0.13279987840248686],[0.13273185134433715],[0.13270832983300626],[0.13269749745540854],[0.13268378187752772],[0.13260832638092834],[0.1326046655291122],[0.1325704437593957],[0.13256512234322693],[0.13255666568564484],[0.132548508554979],[0.13254388061352518],[0.13253820425325274],[0.1323293954120035],[0.13232581685311795],[0.1322026928913992],[0.1322022687459465],[0.13208988997047907],[0.13207430390694483],[0.13204272720271576],[0.13203073202394236],[0.1320256084656548],[0.13202426528743857],[0.13200359345097512],[0.1319919821653097],[0.1319820734267753],[0.13197618063780805],[0.1319376999563564],[0.13192536943343489],[0.13179471732976392],[0.13179216913611208],[0.13177300193839575],[0.1317592063937543],[0.13171902037618965],[0.1317089498937087],[0.13168863178553425],[0.1316796895684872],[0.13167947699990465],[0.13167541518607545],[0.13165877050945676],[0.13165734342533988],[0.1316020625274393],[0.13158334124729706],[0.13150863757756462],[0.13147475796227098],[0.1314433028908577],[0.131423829642508],[0.13135637033113715],[0.13132790159088284],[0.1313048270123292],[0.13129620778606993],[0.13123326356797463],[0.13121156959302901],[0.13120937959363965],[0.1312051065756528],[0.13118928233004715],[0.13118912690791643],[0.13118834838809593],[0.13116809845851066],[0.13109036039230854],[0.13108263238748374],[0.13097569943228438],[0.13096712029897684],[0.130938746270195],[0.13091088536894988],[0.13090980651172593],[0.13079117619208985],[0.13078651377441552],[0.13075648603201664],[0.13074639808097624],[0.13065405980779649],[0.13065288336502587],[0.1306255092661586],[0.1306157964824053],[0.1305358199282404],[0.13052872007094998],[0.13040388250990892],[0.13039027409615067],[0.13034475507699791],[0.13033897818412293],[0.13030950139698913],[0.13028688794268073],[0.13020341348852965],[0.13020031833513998],[0.13010889165650955],[0.13009090443900956],[0.13007953379538553],[0.1300762868453132],[0.13004349372221566],[0.13003644674567655],[0.1300263614943284],[0.13001280102184148],[0.12980372742821492],[0.1297742440994989],[0.1297732183022741],[0.129771631093492],[0.1296692113388275],[0.1296579070357809],[0.1295968438183358],[0.1295871517068567],[0.12950983853337894],[0.12950780057520944],[0.12948695707626776],[0.12948550501623424],[0.12939923504834322],[0.12939503372357142],[0.1293744685088461],[0.1293659265293241],[0.12935819495928033],[0.12933869187679692],[0.12932915061374206],[0.12931321188422226],[0.12929281125219402],[0.12928845936418232],[0.12924598936562964],[0.12924564818078113],[0.12923866082751762],[0.1292378478485184],[0.1290870367904889],[0.12907925604712156],[0.12905893111322533],[0.12905753883455118],[0.12903410101743512],[0.1290243699747779],[0.12890459368658527],[0.12889927723232533],[0.12883279838151554],[0.12882820684500526],[0.12876106762850986],[0.12874654749261888],[0.12866824790342574],[0.1286633656347623],[0.12863573392700822],[0.12861771189940732],[0.12858841402981408],[0.12858833517741292],[0.1285874958631555],[0.12858554850756376],[0.12856304862194673],[0.12856299311073874],[0.12853385860860708],[0.12852254143323794],[0.12838510361485314],[0.1283844151239204],[0.1283485768014476],[0.1283477685962531],[0.12833645401367036],[0.12832642871594988],[0.1282912899806396],[0.12828033003037467],[0.12820591755661545],[0.1281911650158055],[0.12816683740830934],[0.12815778295252858],[0.12802221423733937],[0.12800107273845165],[0.12797808398195268],[0.12797163430272607],[0.12796259161317713],[0.1279379414613431],[0.12793083967429408],[0.12785504197333933],[0.1278492510612779],[0.12784086919056928],[0.1278286352976459],[0.12778730418468012],[0.12777441017831326],[0.12773512709385992],[0.12773029762593424],[0.12772290183816973],[0.12763995813263831],[0.12762763267103402],[0.12759483262424395],[0.12757231762751295],[0.12748389874954946],[0.12746782819061966],[0.12745314816444853],[0.12744767607439045],[0.12743323859982852],[0.12743065451704533],[0.12743040636618685],[0.1274080126602938],[0.12732050502042844],[0.1273158954976697],[0.12731059124245678],[0.127299950771972],[0.12729118895725847],[0.12727561613910304],[0.1272505245602688],[0.12722346608980709],[0.12705575606826036],[0.1270310265169844],[0.12702884053390945],[0.1268886558444795],[0.12688103192596636],[0.12687943131170482],[0.1268741313284707],[0.1267397230989756],[0.12672410062235423],[0.12654355142911278],[0.1265333078477424],[0.12647914467417634],[0.12646445486779215],[0.12624850727753],[0.1262398073632154],[0.12621941356449187],[0.12619581365960925],[0.12589978895193749],[0.12589703808448888],[0.1255778562647526],[0.12557579818647974],[0.12546812454734257],[0.12544892929330934],[0.12532823575897495],[0.1253072965805628],[0.1252677108906712],[0.12526741205433584],[0.1252446067103798],[0.12521422366201587],[0.1252050379899557],[0.12520219390421322],[0.1251987079985582],[0.12511930758654977],[0.12511107901809176],[0.12499268482332208],[0.12497133104047092],[0.12452870916908158],[0.12451357474114651],[0.12442195414812825],[0.12442100750560854],[0.12441312649927705],[0.12440493776940093],[0.12362160249649226],[0.12360626731383949],[0.12268100068357832],[0.1226794456084517],[0.12247247561666835],[0.1224637669364598],[0.12239485520837654],[0.12233807264967003],[0.1223138712433844],[0.12225153719936271],[0.12143902320235898],[0.12140063537317018],[0.12079586259753476],[0.12077162390217053],[0.11842649143877304],[0.11732966515365084],[0.1171333419735745]],\"hovertemplate\":\"fpr=%{x}\\u003cbr\\u003etpr=%{y}\\u003cbr\\u003ethresholds=%{customdata[0]}\\u003cextra\\u003e\\u003c\\u002fextra\\u003e\",\"legendgroup\":\"\",\"line\":{\"color\":\"#636efa\",\"dash\":\"solid\"},\"marker\":{\"symbol\":\"circle\"},\"mode\":\"lines\",\"name\":\"\",\"showlegend\":false,\"x\":[0.0,0.0,0.0,0.0002782415136338342,0.0002782415136338342,0.0008347245409015025,0.0008347245409015025,0.0011129660545353367,0.0011129660545353367,0.0013912075681691708,0.0013912075681691708,0.0019476905954368391,0.0019476905954368391,0.003060656649972176,0.003060656649972176,0.0038953811908736783,0.0038953811908736783,0.005008347245409015,0.005008347245409015,0.005843071786310518,0.005843071786310518,0.006399554813578186,0.006399554813578186,0.0077907623817473565,0.0077907623817473565,0.00862548692264886,0.00862548692264886,0.009738452977184196,0.009738452977184196,0.010294936004451864,0.010294936004451864,0.010851419031719533,0.010851419031719533,0.011129660545353366,0.011129660545353366,0.011686143572621035,0.011686143572621035,0.012520868113522538,0.012520868113522538,0.01335559265442404,0.01335559265442404,0.015025041736227046,0.015025041736227046,0.01530328324986088,0.01530328324986088,0.015581524763494713,0.015581524763494713,0.016138007790762382,0.016138007790762382,0.016416249304396217,0.016416249304396217,0.01725097384529772,0.01725097384529772,0.017529215358931552,0.017529215358931552,0.017807456872565387,0.017807456872565387,0.018920422927100722,0.018920422927100722,0.020311630495269895,0.020311630495269895,0.02142459654980523,0.02142459654980523,0.022259321090706732,0.022259321090706732,0.022537562604340568,0.022537562604340568,0.022815804117974403,0.022815804117974403,0.023094045631608235,0.023094045631608235,0.024207011686143573,0.024207011686143573,0.02448525319977741,0.02448525319977741,0.025598219254312743,0.025598219254312743,0.02615470228158041,0.02615470228158041,0.026989426822481913,0.026989426822481913,0.027545909849749584,0.027545909849749584,0.02810239287701725,0.02810239287701725,0.028658875904284918,0.028658875904284918,0.028937117417918753,0.028937117417918753,0.02949360044518642,0.02949360044518642,0.029771841958820256,0.029771841958820256,0.03060656649972176,0.03060656649972176,0.032832498608792435,0.032832498608792435,0.03311074012242626,0.03311074012242626,0.033667223149693934,0.033667223149693934,0.034223706176961605,0.034223706176961605,0.03478018920422927,0.03478018920422927,0.035058430717863104,0.035058430717863104,0.03589315525876461,0.03589315525876461,0.03728436282693378,0.03728436282693378,0.037562604340567615,0.037562604340567615,0.037840845854201444,0.037840845854201444,0.03811908736783528,0.03811908736783528,0.038953811908736785,0.038953811908736785,0.039788536449638284,0.039788536449638284,0.041736227045075125,0.041736227045075125,0.04201446855870896,0.04201446855870896,0.04257095158597663,0.04257095158597663,0.04340567612687813,0.04340567612687813,0.045075125208681135,0.045075125208681135,0.046466332776850305,0.046466332776850305,0.04674457429048414,0.04674457429048414,0.047857540345019475,0.047857540345019475,0.04897050639955482,0.04897050639955482,0.04952698942682248,0.04952698942682248,0.049805230940456316,0.049805230940456316,0.05036171396772399,0.05036171396772399,0.05091819699499165,0.05091819699499165,0.05203116304952699,0.05203116304952699,0.052587646076794656,0.052587646076794656,0.05286588759042849,0.05286588759042849,0.05370061213133,0.05370061213133,0.053978853644963826,0.053978853644963826,0.05481357818586533,0.05481357818586533,0.057317751808569836,0.057317751808569836,0.05787423483583751,0.05787423483583751,0.058708959376739006,0.058708959376739006,0.05954368391764051,0.05954368391764051,0.06037840845854201,0.06037840845854201,0.06176961602671119,0.06176961602671119,0.06399554813578186,0.06399554813578186,0.0642737896494157,0.0642737896494157,0.06455203116304953,0.06455203116304953,0.06622148024485253,0.06622148024485253,0.06733444629938787,0.06789092932665554,0.06844741235392321,0.06844741235392321,0.07067334446299388,0.07067334446299388,0.0709515859766277,0.0709515859766277,0.07150806900389538,0.07150806900389538,0.07262103505843072,0.07262103505843072,0.07289927657206455,0.07289927657206455,0.07623817473567056,0.07623817473567056,0.07762938230383973,0.07762938230383973,0.0790205898720089,0.0790205898720089,0.07985531441291041,0.07985531441291041,0.08319421257651642,0.08319421257651642,0.08375069560378408,0.08375069560378408,0.08402893711741792,0.08402893711741792,0.08597662771285476,0.08597662771285476,0.0895937673900946,0.0895937673900946,0.09237618252643294,0.09237618252643294,0.09321090706733445,0.09321090706733445,0.09404563160823595,0.09404563160823595,0.09599332220367279,0.09599332220367279,0.09682804674457429,0.09682804674457429,0.09821925431274346,0.09821925431274346,0.1001669449081803,0.1001669449081803,0.10267111853088481,0.10267111853088481,0.10656649972175848,0.10656649972175848,0.10795770728992765,0.10795770728992765,0.10851419031719532,0.10851419031719532,0.10962715637173066,0.10962715637173066,0.10990539788536449,0.10990539788536449,0.112409571508069,0.112409571508069,0.1132442960489705,0.1132442960489705,0.11380077907623817,0.11380077907623817,0.11407902058987202,0.11407902058987202,0.11630495269894268,0.11630495269894268,0.11713967723984418,0.11713967723984418,0.11908736783528102,0.11908736783528102,0.1196438508625487,0.1196438508625487,0.12020033388981637,0.12020033388981637,0.1213132999443517,0.1213132999443517,0.12186978297161936,0.12186978297161936,0.12326099053978853,0.12326099053978853,0.12353923205342238,0.12353923205342238,0.1238174735670562,0.1238174735670562,0.12437395659432388,0.12437395659432388,0.12520868113522537,0.12520868113522537,0.1285475792988314,0.1285475792988314,0.1343906510851419,0.1343906510851419,0.13466889259877574,0.13466889259877574,0.13494713411240958,0.13494713411240958,0.13606010016694492,0.13606010016694492,0.13717306622148023,0.13717306622148023,0.1407902058987201,0.1407902058987201,0.1416249304396216,0.1416249304396216,0.14273789649415694,0.14273789649415694,0.1432943795214246,0.1432943795214246,0.14357262103505844,0.14357262103505844,0.14552031163049528,0.14552031163049528,0.14718976071229828,0.14718976071229828,0.14774624373956594,0.14774624373956594,0.14997217584863662,0.14997217584863662,0.15025041736227046,0.15025041736227046,0.15275459098497496,0.15275459098497496,0.15498052309404564,0.15498052309404564,0.15581524763494714,0.15581524763494714,0.15748469671675014,0.15748469671675014,0.15859766277128548,0.15859766277128548,0.15998887033945464,0.15998887033945464,0.16054535336672232,0.16054535336672232,0.16082359488035614,0.16082359488035614,0.16416249304396216,0.16416249304396216,0.16722314969393434,0.16722314969393434,0.16805787423483584,0.16805787423483584,0.17139677239844184,0.17139677239844184,0.17390094602114636,0.17390094602114636,0.18030050083472454,0.18030050083472454,0.18196994991652754,0.18196994991652754,0.18363939899833054,0.18363939899833054,0.18391764051196438,0.18475236505286588,0.18475236505286588,0.18586533110740122,0.18586533110740122,0.1872565386755704,0.1872565386755704,0.18864774624373956,0.18864774624373956,0.19588202559821927,0.19588202559821927,0.19782971619365608,0.19782971619365608,0.19922092376182526,0.19922092376182526,0.2042292710072343,0.2042292710072343,0.20840289371174178,0.20895937673900947,0.2100723427935448,0.2100723427935448,0.21202003338898165,0.21202003338898165,0.21675013912075683,0.21675013912075683,0.21786310517529214,0.21786310517529214,0.223149693934335,0.223149693934335,0.22342793544796885,0.22342793544796885,0.22593210907067335,0.22593210907067335,0.22760155815247635,0.22760155815247635,0.23094045631608237,0.23094045631608237,0.23260990539788537,0.23260990539788537,0.2345575959933222,0.2345575959933222,0.2434613244296049,0.2434613244296049,0.24707846410684475,0.2476349471341124,0.2476349471341124,0.2490261547022816,0.2490261547022816,0.2498608792431831,0.2498608792431831,0.2540345019476906,0.2540345019476906,0.25626043405676124,0.25626043405676124,0.2573734001112966,0.2573734001112966,0.2579298831385643,0.2579298831385643,0.2607122982749026,0.2607122982749026,0.2629382303839733,0.2629382303839733,0.2640511964385086,0.2640511964385086,0.2646076794657763,0.2646076794657763,0.2679465776293823,0.2679465776293823,0.26905954368391766,0.26905954368391766,0.27462437395659434,0.27462437395659434,0.2760155815247635,0.2760155815247635,0.2793544796883695,0.2793544796883695,0.28046744574290483,0.28046744574290483,0.281858653311074,0.281858653311074,0.2826933778519755,0.2826933778519755,0.2832498608792432,0.2832498608792432,0.2846410684474123,0.2846410684474123,0.2879799666110184,0.2879799666110184,0.29354479688369506,0.29410127991096274,0.29465776293823037,0.29465776293823037,0.3038397328881469,0.3038397328881469,0.31775180856983865,0.31775180856983865,0.32164718976071227,0.32164718976071227,0.3233166388425153,0.3233166388425153,0.32470784641068445,0.32526432943795214,0.32776850306065664,0.32776850306065664,0.3352810239287702,0.3352810239287702,0.3361157484696717,0.3361157484696717,0.34140233722871455,0.34140233722871455,0.34251530328324986,0.34251530328324986,0.34474123539232054,0.34474123539232054,0.34641068447412354,0.34641068447412354,0.3500278241513634,0.3500278241513634,0.3553144129104062,0.3553144129104062,0.36533110740122426,0.36533110740122426,0.36616583194212576,0.36616583194212576,0.36867000556483026,0.36867000556483026,0.37089593767390094,0.37089593767390094,0.3722871452420701,0.3722871452420701,0.3745130773511408,0.3745130773511408,0.3770172509738453,0.3770172509738453,0.377573734001113,0.377573734001113,0.3797996661101836,0.3797996661101836,0.3803561491374513,0.3803561491374513,0.3845297718419588,0.3850862548692265,0.38981636060100167,0.38981636060100167,0.3900946021146355,0.3900946021146355,0.3973288814691152,0.3973288814691152,0.3998330550918197,0.3998330550918197,0.4076238174735671,0.4076238174735671,0.4120756816917084,0.41263216471897607,0.41263216471897607,0.4137451307735114,0.4137451307735114,0.41485809682804675,0.41541457985531444,0.41875347801892043,0.41875347801892043,0.4193099610461881,0.4193099610461881,0.42070116861435725,0.42070116861435725,0.4218141346688926,0.4218141346688926,0.4240400667779633,0.4245965498052309,0.44184752365052865,0.44184752365052865,0.4485253199777407,0.4485253199777407,0.46048970506399556,0.46048970506399556,0.47022815804117973,0.47022815804117973,0.47189760712298273,0.47189760712298273,0.4721758486366166,0.47273233166388423,0.4732888146911519,0.4732888146911519,0.48080133555926546,0.4813578185865331,0.4821925431274346,0.4827490261547023,0.49220923761825264,0.49220923761825264,0.5077907623817474,0.5077907623817474,0.5086254869226489,0.5089037284362827,0.5102949360044519,0.5102949360044519,0.5108514190317195,0.5114079020589872,0.5180856983861992,0.5180856983861992,0.5183639398998331,0.5183639398998331,0.5186421814134669,0.5186421814134669,0.5189204229271007,0.5189204229271007,0.5191986644407346,0.5191986644407346,0.5194769059543684,0.5194769059543684,0.5197551474680022,0.5197551474680022,0.5211463550361713,0.5211463550361713,0.5214245965498052,0.5214245965498052,0.5217028380634391,0.5217028380634391,0.5219810795770728,0.5219810795770728,0.5222593210907067,0.5222593210907067,0.523650528658876,0.523650528658876,0.5239287701725097,0.5239287701725097,0.5244852531997775,0.5244852531997775,0.5250417362270451,0.5250417362270451,0.525319977740679,0.525319977740679,0.5267111853088481,0.5267111853088481,0.526989426822482,0.526989426822482,0.5275459098497496,0.5275459098497496,0.5281023928770172,0.5281023928770172,0.5283806343906511,0.5283806343906511,0.5294936004451865,0.5294936004451865,0.5297718419588202,0.5297718419588202,0.5311630495269895,0.5311630495269895,0.5322760155815247,0.5322760155815247,0.5331107401224263,0.5331107401224263,0.5333889816360601,0.5333889816360601,0.533667223149694,0.533667223149694,0.5339454646633278,0.5339454646633278,0.535336672231497,0.535336672231497,0.5367278797996661,0.5367278797996661,0.5378408458542014,0.5378408458542014,0.5383973288814691,0.5383973288814691,0.5389538119087368,0.5389538119087368,0.5392320534223706,0.5392320534223706,0.5395102949360044,0.5395102949360044,0.5400667779632721,0.5400667779632721,0.5409015025041736,0.5409015025041736,0.5422927100723428,0.5422927100723428,0.5431274346132443,0.5431274346132443,0.5453533667223149,0.5453533667223149,0.5481357818586533,0.5481357818586533,0.5484140233722872,0.5484140233722872,0.5500834724540902,0.5500834724540902,0.5506399554813578,0.5506399554813578,0.5511964385086255,0.5511964385086255,0.5514746800222593,0.5514746800222593,0.5517529215358932,0.5517529215358932,0.5525876460767947,0.5525876460767947,0.5534223706176962,0.5534223706176962,0.5542570951585977,0.5542570951585977,0.5575959933222037,0.5575959933222037,0.558708959376739,0.558708959376739,0.5589872008903728,0.5589872008903728,0.5598219254312743,0.5598219254312743,0.5606566499721759,0.5606566499721759,0.5609348914858097,0.5609348914858097,0.5617696160267112,0.5617696160267112,0.562047857540345,0.562047857540345,0.5648302726766834,0.5648302726766834,0.565386755703951,0.565386755703951,0.5667779632721202,0.5667779632721202,0.567056204785754,0.567056204785754,0.5673344462993879,0.5673344462993879,0.5676126878130217,0.5676126878130217,0.5695603784084585,0.5695603784084585,0.5698386199220924,0.5698386199220924,0.57039510294936,0.57039510294936,0.5709515859766278,0.5709515859766278,0.5712298274902615,0.5712298274902615,0.5726210350584308,0.5726210350584308,0.5728992765720645,0.5728992765720645,0.5740122426265999,0.5740122426265999,0.5773511407902059,0.5773511407902059,0.5781858653311074,0.5781858653311074,0.5787423483583751,0.5787423483583751,0.5795770728992766,0.5795770728992766,0.5804117974401781,0.5804117974401781,0.5815247634947134,0.5815247634947134,0.5820812465219811,0.5820812465219811,0.5829159710628826,0.5829159710628826,0.5837506956037841,0.5837506956037841,0.5843071786310517,0.5843071786310517,0.5848636616583194,0.5848636616583194,0.5862548692264886,0.5862548692264886,0.5868113522537562,0.5868113522537562,0.5887590428491931,0.5887590428491931,0.5904284919309961,0.5904284919309961,0.594045631608236,0.594045631608236,0.5943238731218697,0.5943238731218697,0.5946021146355036,0.5946021146355036,0.5954368391764051,0.5954368391764051,0.5959933222036727,0.5959933222036727,0.5993322203672788,0.5993322203672788,0.5996104618809126,0.5996104618809126,0.5998887033945465,0.5998887033945465,0.6015581524763495,0.6015581524763495,0.6018363939899833,0.6018363939899833,0.602392877017251,0.602392877017251,0.6032276015581525,0.6032276015581525,0.6035058430717863,0.6035058430717863,0.6043405676126878,0.6043405676126878,0.6060100166944908,0.6060100166944908,0.6079577072899277,0.6079577072899277,0.6101836393989983,0.6101836393989983,0.6110183639398998,0.6110183639398998,0.6118530884808013,0.6118530884808013,0.6154702281580412,0.6154702281580412,0.6157484696716751,0.6157484696716751,0.6160267111853088,0.6160267111853088,0.6215915414579856,0.6215915414579856,0.6227045075125208,0.6227045075125208,0.6235392320534223,0.6235392320534223,0.6246521981079577,0.6252086811352254,0.6268781302170284,0.6268781302170284,0.6279910962715637,0.6279910962715637,0.6293823038397329,0.6293823038397329,0.6299387868670006,0.6299387868670006,0.6313299944351697,0.6313299944351697,0.6321647189760712,0.6321647189760712,0.6332776850306066,0.6332776850306066,0.6346688925987758,0.6352253756260434,0.635781858653311,0.635781858653311,0.6368948247078464,0.637451307735114,0.64079020589872,0.64079020589872,0.6430161380077908,0.6430161380077908,0.6432943795214245,0.6432943795214245,0.6449638286032277,0.6449638286032277,0.6483027267668336,0.6483027267668336,0.6499721758486366,0.6499721758486366,0.6513633834168058,0.6513633834168058,0.6516416249304396,0.6521981079577073,0.6521981079577073,0.6524763494713411,0.6524763494713411,0.6535893155258765,0.6535893155258765,0.6549805230940456,0.6549805230940456,0.6555370061213133,0.6555370061213133,0.6574846967167501,0.6574846967167501,0.6588759042849193,0.659432387312187,0.6599888703394546,0.6599888703394546,0.6622148024485254,0.6622148024485254,0.6655537006121314,0.6655537006121314,0.6669449081803005,0.6669449081803005,0.6683361157484696,0.6683361157484696,0.669449081803005,0.669449081803005,0.672787979966611,0.6730662214802449,0.6772398441847524,0.6772398441847524,0.6780745687256539,0.6780745687256539,0.6803005008347245,0.6803005008347245,0.6808569838619922,0.6808569838619922,0.6825264329437952,0.6825264329437952,0.6830829159710629,0.6830829159710629,0.6855870895937674,0.6855870895937674,0.6872565386755703,0.6872565386755703,0.6878130217028381,0.6878130217028381,0.6880912632164718,0.6880912632164718,0.6933778519755147,0.6933778519755147,0.69810795770729,0.69810795770729,0.7006121313299944,0.7006121313299944,0.7022815804117974,0.7022815804117974,0.7028380634390651,0.7028380634390651,0.7042292710072343,0.7042292710072343,0.7047857540345019,0.7047857540345019,0.7070116861435726,0.7070116861435726,0.7145242070116862,0.7148024485253199,0.7159154145798553,0.7159154145798553,0.7173066221480244,0.7173066221480244,0.718141346688926,0.718141346688926,0.7184195882025598,0.7184195882025598,0.719810795770729,0.719810795770729,0.7228714524207012,0.7228714524207012,0.7253756260434057,0.7253756260434057,0.726488592097941,0.726488592097941,0.7289927657206455,0.7289927657206455,0.7301057317751809,0.7301057317751809,0.73149693934335,0.73149693934335,0.7317751808569839,0.7317751808569839,0.7340011129660545,0.7340011129660545,0.7342793544796884,0.7342793544796884,0.7378964941569283,0.7378964941569283,0.7462437395659433,0.7462437395659433,0.7468002225932109,0.7476349471341124,0.7476349471341124,0.7548692264885921,0.7548692264885921,0.7557039510294936,0.7557039510294936,0.7595993322203672,0.7595993322203672,0.7615470228158041,0.7615470228158041,0.7657206455203116,0.7657206455203116,0.7712854757929883,0.7712854757929883,0.773511407902059,0.7740678909293267,0.7757373400111297,0.7757373400111297,0.778519755147468,0.778519755147468,0.7829716193656093,0.7840845854201447,0.7843628269337786,0.7843628269337786,0.7851975514746801,0.7851975514746801,0.7860322760155816,0.7860322760155816,0.7921535893155259,0.7921535893155259,0.7924318308291597,0.7924318308291597,0.7971619365609349,0.7971619365609349,0.8005008347245409,0.8005008347245409,0.8030050083472454,0.8030050083472454,0.8038397328881469,0.8038397328881469,0.8077351140790205,0.8077351140790205,0.8091263216471898,0.8091263216471898,0.8094045631608235,0.8094045631608235,0.8099610461880913,0.8099610461880913,0.8113522537562604,0.8113522537562604,0.8138564273789649,0.8138564273789649,0.8146911519198664,0.8146911519198664,0.8194212576516416,0.8194212576516416,0.820534223706177,0.820534223706177,0.8213689482470785,0.8213689482470785,0.8269337785197551,0.8269337785197551,0.8299944351697274,0.8299944351697274,0.8327768503060656,0.8327768503060656,0.8369504730105731,0.8369504730105731,0.8380634390651085,0.8386199220923762,0.8394546466332777,0.8394546466332777,0.8397328881469115,0.8397328881469115,0.8414023372287145,0.8414023372287145,0.8436282693377852,0.8436282693377852,0.8472454090150251,0.8472454090150251,0.8478018920422927,0.8478018920422927,0.8486366165831942,0.8486366165831942,0.8500278241513634,0.8500278241513634,0.8522537562604341,0.8522537562604341,0.8533667223149694,0.8533667223149694,0.8586533110740122,0.8586533110740122,0.8597662771285476,0.8603227601558152,0.8603227601558152,0.8617139677239845,0.8617139677239845,0.864218141346689,0.8647746243739566,0.8650528658875904,0.8661658319421258,0.8672787979966611,0.8678352810239288,0.8697829716193656,0.8697829716193656,0.8706176961602671,0.8734001112966054,0.8739565943238731,0.8753478018920423,0.8759042849193099,0.8781302170283807,0.8781302170283807,0.8786867000556483,0.8786867000556483,0.8789649415692822,0.8789649415692822,0.8792431830829159,0.8792431830829159,0.8814691151919867,0.8814691151919867,0.8817473567056204,0.8817473567056204,0.8825820812465219,0.8825820812465219,0.8834168057874234,0.8834168057874234,0.8898163606010017,0.8898163606010017,0.8903728436282693,0.8934335002782415,0.8934335002782415,0.8937117417918754,0.8937117417918754,0.899276572064552,0.899276572064552,0.9045631608235949,0.9045631608235949,0.9070673344462994,0.9070673344462994,0.9148580968280468,0.9148580968280468,0.9154145798553144,0.9154145798553144,0.9226488592097941,0.9226488592097941,0.9309961046188091,0.9309961046188091,0.9326655537006121,0.932943795214246,0.9365609348914858,0.9365609348914858,0.9371174179187535,0.9373956594323873,0.937952142459655,0.9382303839732888,0.9382303839732888,0.9385086254869226,0.9385086254869226,0.9404563160823595,0.9410127991096272,0.9460211463550362,0.9460211463550362,0.9582637729549248,0.9582637729549248,0.9596549805230941,0.9596549805230941,0.9599332220367279,0.9604897050639956,0.9721758486366165,0.9721758486366165,0.9830272676683361,0.9830272676683361,0.9841402337228714,0.9841402337228714,0.9852531997774068,0.9852531997774068,0.9860879243183083,0.9860879243183083,0.9930439621591541,0.9930439621591541,0.9963828603227601,0.9963828603227601,0.9997217584863661,0.9997217584863661,1.0],\"xaxis\":\"x\",\"y\":[0.0,0.0015527950310559005,0.003105590062111801,0.003105590062111801,0.007763975155279503,0.007763975155279503,0.009316770186335404,0.009316770186335404,0.010869565217391304,0.010869565217391304,0.012422360248447204,0.012422360248447204,0.013975155279503106,0.013975155279503106,0.015527950310559006,0.015527950310559006,0.017080745341614908,0.017080745341614908,0.020186335403726708,0.020186335403726708,0.021739130434782608,0.021739130434782608,0.024844720496894408,0.024844720496894408,0.026397515527950312,0.026397515527950312,0.029503105590062112,0.029503105590062112,0.03260869565217391,0.03260869565217391,0.03571428571428571,0.03571428571428571,0.037267080745341616,0.037267080745341616,0.03881987577639751,0.03881987577639751,0.040372670807453416,0.040372670807453416,0.046583850931677016,0.046583850931677016,0.04813664596273292,0.04813664596273292,0.049689440993788817,0.049689440993788817,0.05124223602484472,0.05124223602484472,0.05745341614906832,0.05745341614906832,0.06366459627329192,0.06366459627329192,0.06677018633540373,0.06677018633540373,0.06832298136645963,0.06832298136645963,0.06987577639751552,0.06987577639751552,0.07142857142857142,0.07142857142857142,0.07298136645962733,0.07298136645962733,0.07453416149068323,0.07453416149068323,0.07608695652173914,0.07608695652173914,0.07763975155279502,0.07763975155279502,0.07919254658385093,0.07919254658385093,0.08229813664596274,0.08229813664596274,0.08385093167701864,0.08385093167701864,0.08695652173913043,0.08695652173913043,0.08850931677018634,0.08850931677018634,0.09161490683229814,0.09161490683229814,0.09316770186335403,0.09316770186335403,0.09627329192546584,0.09627329192546584,0.09782608695652174,0.09782608695652174,0.10093167701863354,0.10093167701863354,0.10248447204968944,0.10248447204968944,0.10559006211180125,0.10559006211180125,0.10714285714285714,0.10714285714285714,0.10869565217391304,0.10869565217391304,0.11024844720496894,0.11024844720496894,0.11180124223602485,0.11180124223602485,0.11490683229813664,0.11490683229813664,0.11645962732919254,0.11645962732919254,0.11801242236024845,0.11801242236024845,0.12111801242236025,0.12111801242236025,0.12422360248447205,0.12422360248447205,0.12732919254658384,0.12732919254658384,0.12888198757763975,0.12888198757763975,0.13198757763975155,0.13198757763975155,0.13354037267080746,0.13354037267080746,0.13509316770186336,0.13509316770186336,0.13664596273291926,0.13664596273291926,0.13819875776397517,0.13819875776397517,0.14285714285714285,0.14285714285714285,0.14440993788819875,0.14440993788819875,0.14906832298136646,0.14906832298136646,0.15062111801242237,0.15062111801242237,0.15217391304347827,0.15217391304347827,0.15372670807453417,0.15372670807453417,0.15527950310559005,0.15527950310559005,0.15683229813664595,0.15683229813664595,0.15838509316770186,0.15838509316770186,0.15993788819875776,0.15993788819875776,0.16304347826086957,0.16304347826086957,0.16459627329192547,0.16459627329192547,0.16614906832298137,0.16614906832298137,0.16770186335403728,0.16770186335403728,0.16925465838509315,0.16925465838509315,0.17391304347826086,0.17391304347826086,0.17546583850931677,0.17546583850931677,0.17701863354037267,0.17701863354037267,0.17857142857142858,0.17857142857142858,0.18012422360248448,0.18012422360248448,0.18167701863354038,0.18167701863354038,0.18322981366459629,0.18322981366459629,0.18478260869565216,0.18478260869565216,0.18633540372670807,0.18633540372670807,0.18788819875776397,0.18788819875776397,0.18944099378881987,0.18944099378881987,0.19099378881987578,0.19099378881987578,0.19254658385093168,0.19254658385093168,0.19409937888198758,0.19409937888198758,0.19409937888198758,0.19409937888198758,0.1956521739130435,0.1956521739130435,0.1972049689440994,0.1972049689440994,0.19875776397515527,0.19875776397515527,0.20186335403726707,0.20186335403726707,0.20341614906832298,0.20341614906832298,0.2096273291925466,0.2096273291925466,0.2111801242236025,0.2111801242236025,0.2127329192546584,0.2127329192546584,0.21428571428571427,0.21428571428571427,0.21583850931677018,0.21583850931677018,0.21739130434782608,0.21739130434782608,0.2204968944099379,0.2204968944099379,0.2220496894409938,0.2220496894409938,0.2236024844720497,0.2236024844720497,0.2267080745341615,0.2267080745341615,0.22826086956521738,0.22826086956521738,0.22981366459627328,0.22981366459627328,0.23136645962732919,0.23136645962732919,0.2329192546583851,0.2329192546583851,0.234472049689441,0.234472049689441,0.2360248447204969,0.2360248447204969,0.2375776397515528,0.2375776397515528,0.2391304347826087,0.2391304347826087,0.2406832298136646,0.2406832298136646,0.2453416149068323,0.2453416149068323,0.2468944099378882,0.2468944099378882,0.2484472049689441,0.2484472049689441,0.25,0.25,0.2515527950310559,0.2515527950310559,0.2562111801242236,0.2562111801242236,0.2593167701863354,0.2593167701863354,0.26242236024844723,0.26242236024844723,0.2639751552795031,0.2639751552795031,0.265527950310559,0.265527950310559,0.2670807453416149,0.2670807453416149,0.2686335403726708,0.2686335403726708,0.2701863354037267,0.2701863354037267,0.2732919254658385,0.2732919254658385,0.27639751552795033,0.27639751552795033,0.2779503105590062,0.2779503105590062,0.2795031055900621,0.2795031055900621,0.281055900621118,0.281055900621118,0.2826086956521739,0.2826086956521739,0.2841614906832298,0.2841614906832298,0.2857142857142857,0.2857142857142857,0.28726708074534163,0.28726708074534163,0.2919254658385093,0.2919254658385093,0.29347826086956524,0.29347826086956524,0.296583850931677,0.296583850931677,0.2981366459627329,0.2981366459627329,0.2996894409937888,0.2996894409937888,0.30124223602484473,0.30124223602484473,0.3027950310559006,0.3027950310559006,0.30434782608695654,0.30434782608695654,0.3059006211180124,0.3059006211180124,0.30745341614906835,0.30745341614906835,0.3090062111801242,0.3090062111801242,0.3105590062111801,0.3105590062111801,0.31211180124223603,0.31211180124223603,0.3136645962732919,0.3136645962732919,0.31521739130434784,0.31521739130434784,0.3167701863354037,0.3167701863354037,0.31832298136645965,0.31832298136645965,0.3198757763975155,0.3198757763975155,0.32142857142857145,0.32142857142857145,0.3245341614906832,0.3245341614906832,0.32608695652173914,0.32608695652173914,0.327639751552795,0.327639751552795,0.32919254658385094,0.32919254658385094,0.33229813664596275,0.33229813664596275,0.33540372670807456,0.33540372670807456,0.33695652173913043,0.33695652173913043,0.3385093167701863,0.3385093167701863,0.34006211180124224,0.34006211180124224,0.3416149068322981,0.3416149068322981,0.34316770186335405,0.3447204968944099,0.3447204968944099,0.34627329192546585,0.34627329192546585,0.34782608695652173,0.34782608695652173,0.34937888198757766,0.34937888198757766,0.35093167701863354,0.35093167701863354,0.3555900621118012,0.3555900621118012,0.35714285714285715,0.35714285714285715,0.358695652173913,0.358695652173913,0.36024844720496896,0.36024844720496896,0.36024844720496896,0.36024844720496896,0.36180124223602483,0.36180124223602483,0.36335403726708076,0.36335403726708076,0.36490683229813664,0.36490683229813664,0.36645962732919257,0.36645962732919257,0.36801242236024845,0.36801242236024845,0.3695652173913043,0.3695652173913043,0.37111801242236025,0.37111801242236025,0.37267080745341613,0.37267080745341613,0.37422360248447206,0.37422360248447206,0.37577639751552794,0.37577639751552794,0.37888198757763975,0.37888198757763975,0.3804347826086957,0.3804347826086957,0.3804347826086957,0.38198757763975155,0.38198757763975155,0.38354037267080743,0.38354037267080743,0.38664596273291924,0.38664596273291924,0.38819875776397517,0.38819875776397517,0.38975155279503104,0.38975155279503104,0.39285714285714285,0.39285714285714285,0.3944099378881988,0.3944099378881988,0.39596273291925466,0.39596273291925466,0.39751552795031053,0.39751552795031053,0.39906832298136646,0.39906832298136646,0.40062111801242234,0.40062111801242234,0.40217391304347827,0.40217391304347827,0.40372670807453415,0.40372670807453415,0.4052795031055901,0.4052795031055901,0.4083850931677019,0.4083850931677019,0.4114906832298137,0.4114906832298137,0.41304347826086957,0.41304347826086957,0.41459627329192544,0.41459627329192544,0.4161490683229814,0.4161490683229814,0.41770186335403725,0.41770186335403725,0.422360248447205,0.422360248447205,0.42391304347826086,0.42391304347826086,0.42391304347826086,0.42391304347826086,0.42701863354037267,0.42701863354037267,0.43167701863354035,0.43167701863354035,0.4332298136645963,0.4332298136645963,0.43478260869565216,0.43478260869565216,0.43788819875776397,0.43788819875776397,0.43788819875776397,0.43788819875776397,0.4394409937888199,0.4394409937888199,0.4440993788819876,0.4440993788819876,0.44875776397515527,0.44875776397515527,0.4503105590062112,0.4503105590062112,0.4518633540372671,0.4518633540372671,0.453416149068323,0.453416149068323,0.4549689440993789,0.4549689440993789,0.45652173913043476,0.45652173913043476,0.4580745341614907,0.4580745341614907,0.45962732919254656,0.45962732919254656,0.4611801242236025,0.4611801242236025,0.46273291925465837,0.46273291925465837,0.4642857142857143,0.4642857142857143,0.4658385093167702,0.4658385093167702,0.4673913043478261,0.4673913043478261,0.468944099378882,0.468944099378882,0.4704968944099379,0.4704968944099379,0.4720496894409938,0.4720496894409938,0.47360248447204967,0.47360248447204967,0.47360248447204967,0.47360248447204967,0.4751552795031056,0.4751552795031056,0.4767080745341615,0.4767080745341615,0.4782608695652174,0.4782608695652174,0.4798136645962733,0.4798136645962733,0.4829192546583851,0.4829192546583851,0.4829192546583851,0.484472049689441,0.484472049689441,0.4860248447204969,0.4860248447204969,0.4860248447204969,0.4860248447204969,0.4891304347826087,0.4891304347826087,0.4922360248447205,0.4922360248447205,0.4937888198757764,0.4937888198757764,0.4953416149068323,0.4953416149068323,0.4953416149068323,0.4953416149068323,0.4968944099378882,0.4968944099378882,0.4984472049689441,0.4984472049689441,0.5,0.5,0.5015527950310559,0.5015527950310559,0.5031055900621118,0.5031055900621118,0.5031055900621118,0.5031055900621118,0.5046583850931677,0.5046583850931677,0.5046583850931677,0.5046583850931677,0.5046583850931677,0.5046583850931677,0.5062111801242236,0.5062111801242236,0.5077639751552795,0.5077639751552795,0.5093167701863354,0.5093167701863354,0.5108695652173914,0.5108695652173914,0.5108695652173914,0.5108695652173914,0.5139751552795031,0.5139751552795031,0.5170807453416149,0.5170807453416149,0.5186335403726708,0.5186335403726708,0.5201863354037267,0.5201863354037267,0.5217391304347826,0.5217391304347826,0.5232919254658385,0.5232919254658385,0.5248447204968945,0.5248447204968945,0.5263975155279503,0.5263975155279503,0.531055900621118,0.531055900621118,0.532608695652174,0.532608695652174,0.5341614906832298,0.5341614906832298,0.5357142857142857,0.5357142857142857,0.5372670807453416,0.5372670807453416,0.5388198757763976,0.5388198757763976,0.5419254658385093,0.5419254658385093,0.5434782608695652,0.5434782608695652,0.5450310559006211,0.5450310559006211,0.5481366459627329,0.5481366459627329,0.5496894409937888,0.5496894409937888,0.5512422360248447,0.5512422360248447,0.5527950310559007,0.5527950310559007,0.5543478260869565,0.5543478260869565,0.5590062111801242,0.5590062111801242,0.5605590062111802,0.5605590062111802,0.5652173913043478,0.5652173913043478,0.5683229813664596,0.5683229813664596,0.5698757763975155,0.5698757763975155,0.5745341614906833,0.5745341614906833,0.577639751552795,0.577639751552795,0.5791925465838509,0.5791925465838509,0.5807453416149069,0.5807453416149069,0.5822981366459627,0.5822981366459627,0.5854037267080745,0.5854037267080745,0.5869565217391305,0.5869565217391305,0.5885093167701864,0.5885093167701864,0.593167701863354,0.593167701863354,0.5962732919254659,0.5962732919254659,0.5993788819875776,0.5993788819875776,0.6009316770186336,0.6009316770186336,0.6024844720496895,0.6024844720496895,0.6040372670807453,0.6040372670807453,0.6086956521739131,0.6086956521739131,0.610248447204969,0.610248447204969,0.6118012422360248,0.6118012422360248,0.6164596273291926,0.6164596273291926,0.6195652173913043,0.6195652173913043,0.6211180124223602,0.6211180124223602,0.6226708074534162,0.6226708074534162,0.6257763975155279,0.6257763975155279,0.6273291925465838,0.6273291925465838,0.6288819875776398,0.6288819875776398,0.6304347826086957,0.6304347826086957,0.6319875776397516,0.6319875776397516,0.6350931677018633,0.6350931677018633,0.6366459627329193,0.6366459627329193,0.639751552795031,0.639751552795031,0.6444099378881988,0.6444099378881988,0.6459627329192547,0.6459627329192547,0.6475155279503105,0.6475155279503105,0.6490683229813664,0.6490683229813664,0.6506211180124224,0.6506211180124224,0.6521739130434783,0.6521739130434783,0.6537267080745341,0.6537267080745341,0.65527950310559,0.65527950310559,0.656832298136646,0.656832298136646,0.6583850931677019,0.6583850931677019,0.6599378881987578,0.6599378881987578,0.6614906832298136,0.6614906832298136,0.6630434782608695,0.6630434782608695,0.6645962732919255,0.6645962732919255,0.6661490683229814,0.6661490683229814,0.6677018633540373,0.6677018633540373,0.6692546583850931,0.6692546583850931,0.6708074534161491,0.6708074534161491,0.672360248447205,0.672360248447205,0.6739130434782609,0.6739130434782609,0.6754658385093167,0.6754658385093167,0.6785714285714286,0.6785714285714286,0.6801242236024845,0.6801242236024845,0.6816770186335404,0.6816770186335404,0.6832298136645962,0.6832298136645962,0.6847826086956522,0.6847826086956522,0.6863354037267081,0.6863354037267081,0.6909937888198758,0.6909937888198758,0.6940993788819876,0.6940993788819876,0.6956521739130435,0.6956521739130435,0.6972049689440993,0.6972049689440993,0.6987577639751553,0.6987577639751553,0.7003105590062112,0.7003105590062112,0.7018633540372671,0.7018633540372671,0.7049689440993789,0.7049689440993789,0.7065217391304348,0.7065217391304348,0.7096273291925466,0.7096273291925466,0.7111801242236024,0.7111801242236024,0.7127329192546584,0.7127329192546584,0.7142857142857143,0.7142857142857143,0.7158385093167702,0.7158385093167702,0.717391304347826,0.717391304347826,0.718944099378882,0.718944099378882,0.7220496894409938,0.7220496894409938,0.7236024844720497,0.7236024844720497,0.7251552795031055,0.7251552795031055,0.7267080745341615,0.7267080745341615,0.7282608695652174,0.7282608695652174,0.7313664596273292,0.7313664596273292,0.7329192546583851,0.7329192546583851,0.734472049689441,0.734472049689441,0.7360248447204969,0.7360248447204969,0.7375776397515528,0.7375776397515528,0.7391304347826086,0.7391304347826086,0.7453416149068323,0.7453416149068323,0.7484472049689441,0.7484472049689441,0.75,0.75,0.7531055900621118,0.7531055900621118,0.7531055900621118,0.7531055900621118,0.7546583850931677,0.7546583850931677,0.7577639751552795,0.7577639751552795,0.7593167701863354,0.7593167701863354,0.7608695652173914,0.7608695652173914,0.7624223602484472,0.7624223602484472,0.7639751552795031,0.7639751552795031,0.765527950310559,0.765527950310559,0.765527950310559,0.765527950310559,0.7670807453416149,0.7670807453416149,0.7670807453416149,0.7670807453416149,0.7701863354037267,0.7701863354037267,0.7717391304347826,0.7717391304347826,0.7748447204968945,0.7748447204968945,0.7763975155279503,0.7763975155279503,0.781055900621118,0.781055900621118,0.782608695652174,0.782608695652174,0.7857142857142857,0.7857142857142857,0.7857142857142857,0.7872670807453416,0.7872670807453416,0.7888198757763976,0.7888198757763976,0.7903726708074534,0.7903726708074534,0.7934782608695652,0.7934782608695652,0.7950310559006211,0.7950310559006211,0.796583850931677,0.796583850931677,0.796583850931677,0.796583850931677,0.7981366459627329,0.7981366459627329,0.7996894409937888,0.7996894409937888,0.8012422360248447,0.8012422360248447,0.8027950310559007,0.8027950310559007,0.8043478260869565,0.8043478260869565,0.8059006211180124,0.8059006211180124,0.8074534161490683,0.8074534161490683,0.8105590062111802,0.8105590062111802,0.812111801242236,0.812111801242236,0.8136645962732919,0.8136645962732919,0.8152173913043478,0.8152173913043478,0.8167701863354038,0.8167701863354038,0.8198757763975155,0.8198757763975155,0.8214285714285714,0.8214285714285714,0.8229813664596274,0.8229813664596274,0.8245341614906833,0.8245341614906833,0.8260869565217391,0.8260869565217391,0.827639751552795,0.827639751552795,0.8291925465838509,0.8291925465838509,0.8307453416149069,0.8307453416149069,0.8322981366459627,0.8322981366459627,0.8338509316770186,0.8338509316770186,0.8354037267080745,0.8354037267080745,0.8369565217391305,0.8369565217391305,0.8385093167701864,0.8385093167701864,0.8400621118012422,0.8400621118012422,0.8416149068322981,0.8416149068322981,0.843167701863354,0.843167701863354,0.84472049689441,0.84472049689441,0.8462732919254659,0.8462732919254659,0.8478260869565217,0.8478260869565217,0.8493788819875776,0.8493788819875776,0.8509316770186336,0.8509316770186336,0.8540372670807453,0.8540372670807453,0.8555900621118012,0.8555900621118012,0.8571428571428571,0.8571428571428571,0.8586956521739131,0.8586956521739131,0.860248447204969,0.860248447204969,0.8618012422360248,0.8618012422360248,0.8633540372670807,0.8633540372670807,0.8649068322981367,0.8649068322981367,0.8664596273291926,0.8664596273291926,0.8664596273291926,0.8680124223602484,0.8680124223602484,0.8695652173913043,0.8695652173913043,0.8711180124223602,0.8711180124223602,0.8726708074534162,0.8726708074534162,0.8742236024844721,0.8742236024844721,0.8757763975155279,0.8757763975155279,0.8773291925465838,0.8773291925465838,0.8773291925465838,0.8773291925465838,0.8804347826086957,0.8804347826086957,0.8819875776397516,0.8819875776397516,0.8819875776397516,0.8819875776397516,0.8835403726708074,0.8835403726708074,0.8850931677018633,0.8850931677018633,0.8866459627329193,0.8866459627329193,0.8881987577639752,0.8881987577639752,0.889751552795031,0.889751552795031,0.8944099378881988,0.8944099378881988,0.8959627329192547,0.8959627329192547,0.8975155279503105,0.8975155279503105,0.8990683229813664,0.8990683229813664,0.9006211180124224,0.9006211180124224,0.9021739130434783,0.9021739130434783,0.9037267080745341,0.9037267080745341,0.90527950310559,0.90527950310559,0.906832298136646,0.906832298136646,0.9083850931677019,0.9083850931677019,0.9099378881987578,0.9099378881987578,0.9114906832298136,0.9114906832298136,0.9130434782608695,0.9130434782608695,0.9145962732919255,0.9145962732919255,0.9161490683229814,0.9161490683229814,0.9177018633540373,0.9177018633540373,0.9208074534161491,0.9208074534161491,0.922360248447205,0.922360248447205,0.922360248447205,0.922360248447205,0.9239130434782609,0.9239130434782609,0.9254658385093167,0.9254658385093167,0.9270186335403726,0.9270186335403726,0.9285714285714286,0.9285714285714286,0.9301242236024845,0.9301242236024845,0.9316770186335404,0.9316770186335404,0.9332298136645962,0.9332298136645962,0.9363354037267081,0.9363354037267081,0.937888198757764,0.937888198757764,0.9394409937888198,0.9394409937888198,0.9409937888198758,0.9409937888198758,0.9409937888198758,0.9440993788819876,0.9440993788819876,0.9456521739130435,0.9456521739130435,0.9456521739130435,0.9456521739130435,0.9456521739130435,0.9456521739130435,0.9456521739130435,0.9456521739130435,0.9472049689440993,0.9472049689440993,0.9472049689440993,0.9472049689440993,0.9472049689440993,0.9472049689440993,0.9472049689440993,0.9487577639751553,0.9487577639751553,0.9503105590062112,0.9503105590062112,0.9518633540372671,0.9518633540372671,0.953416149068323,0.953416149068323,0.9549689440993789,0.9549689440993789,0.9565217391304348,0.9565217391304348,0.9580745341614907,0.9580745341614907,0.9596273291925466,0.9596273291925466,0.9611801242236024,0.9611801242236024,0.9611801242236024,0.9627329192546584,0.9627329192546584,0.9642857142857143,0.9642857142857143,0.9658385093167702,0.9658385093167702,0.967391304347826,0.967391304347826,0.968944099378882,0.968944099378882,0.9704968944099379,0.9704968944099379,0.9720496894409938,0.9720496894409938,0.9736024844720497,0.9736024844720497,0.9751552795031055,0.9751552795031055,0.9767080745341615,0.9767080745341615,0.9782608695652174,0.9782608695652174,0.9798136645962733,0.9798136645962733,0.9798136645962733,0.9813664596273292,0.9813664596273292,0.9829192546583851,0.9829192546583851,0.9829192546583851,0.9829192546583851,0.984472049689441,0.984472049689441,0.9860248447204969,0.9860248447204969,0.9875776397515528,0.9875776397515528,0.9875776397515528,0.9875776397515528,0.9891304347826086,0.9891304347826086,0.9906832298136646,0.9906832298136646,0.9922360248447205,0.9922360248447205,0.9937888198757764,0.9937888198757764,0.9953416149068323,0.9953416149068323,0.9968944099378882,0.9968944099378882,0.9984472049689441,0.9984472049689441,1.0,1.0],\"yaxis\":\"y\",\"type\":\"scattergl\"}],                        {\"template\":{\"data\":{\"histogram2dcontour\":[{\"type\":\"histogram2dcontour\",\"colorbar\":{\"outlinewidth\":0,\"ticks\":\"\"},\"colorscale\":[[0.0,\"#0d0887\"],[0.1111111111111111,\"#46039f\"],[0.2222222222222222,\"#7201a8\"],[0.3333333333333333,\"#9c179e\"],[0.4444444444444444,\"#bd3786\"],[0.5555555555555556,\"#d8576b\"],[0.6666666666666666,\"#ed7953\"],[0.7777777777777778,\"#fb9f3a\"],[0.8888888888888888,\"#fdca26\"],[1.0,\"#f0f921\"]]}],\"choropleth\":[{\"type\":\"choropleth\",\"colorbar\":{\"outlinewidth\":0,\"ticks\":\"\"}}],\"histogram2d\":[{\"type\":\"histogram2d\",\"colorbar\":{\"outlinewidth\":0,\"ticks\":\"\"},\"colorscale\":[[0.0,\"#0d0887\"],[0.1111111111111111,\"#46039f\"],[0.2222222222222222,\"#7201a8\"],[0.3333333333333333,\"#9c179e\"],[0.4444444444444444,\"#bd3786\"],[0.5555555555555556,\"#d8576b\"],[0.6666666666666666,\"#ed7953\"],[0.7777777777777778,\"#fb9f3a\"],[0.8888888888888888,\"#fdca26\"],[1.0,\"#f0f921\"]]}],\"heatmap\":[{\"type\":\"heatmap\",\"colorbar\":{\"outlinewidth\":0,\"ticks\":\"\"},\"colorscale\":[[0.0,\"#0d0887\"],[0.1111111111111111,\"#46039f\"],[0.2222222222222222,\"#7201a8\"],[0.3333333333333333,\"#9c179e\"],[0.4444444444444444,\"#bd3786\"],[0.5555555555555556,\"#d8576b\"],[0.6666666666666666,\"#ed7953\"],[0.7777777777777778,\"#fb9f3a\"],[0.8888888888888888,\"#fdca26\"],[1.0,\"#f0f921\"]]}],\"heatmapgl\":[{\"type\":\"heatmapgl\",\"colorbar\":{\"outlinewidth\":0,\"ticks\":\"\"},\"colorscale\":[[0.0,\"#0d0887\"],[0.1111111111111111,\"#46039f\"],[0.2222222222222222,\"#7201a8\"],[0.3333333333333333,\"#9c179e\"],[0.4444444444444444,\"#bd3786\"],[0.5555555555555556,\"#d8576b\"],[0.6666666666666666,\"#ed7953\"],[0.7777777777777778,\"#fb9f3a\"],[0.8888888888888888,\"#fdca26\"],[1.0,\"#f0f921\"]]}],\"contourcarpet\":[{\"type\":\"contourcarpet\",\"colorbar\":{\"outlinewidth\":0,\"ticks\":\"\"}}],\"contour\":[{\"type\":\"contour\",\"colorbar\":{\"outlinewidth\":0,\"ticks\":\"\"},\"colorscale\":[[0.0,\"#0d0887\"],[0.1111111111111111,\"#46039f\"],[0.2222222222222222,\"#7201a8\"],[0.3333333333333333,\"#9c179e\"],[0.4444444444444444,\"#bd3786\"],[0.5555555555555556,\"#d8576b\"],[0.6666666666666666,\"#ed7953\"],[0.7777777777777778,\"#fb9f3a\"],[0.8888888888888888,\"#fdca26\"],[1.0,\"#f0f921\"]]}],\"surface\":[{\"type\":\"surface\",\"colorbar\":{\"outlinewidth\":0,\"ticks\":\"\"},\"colorscale\":[[0.0,\"#0d0887\"],[0.1111111111111111,\"#46039f\"],[0.2222222222222222,\"#7201a8\"],[0.3333333333333333,\"#9c179e\"],[0.4444444444444444,\"#bd3786\"],[0.5555555555555556,\"#d8576b\"],[0.6666666666666666,\"#ed7953\"],[0.7777777777777778,\"#fb9f3a\"],[0.8888888888888888,\"#fdca26\"],[1.0,\"#f0f921\"]]}],\"mesh3d\":[{\"type\":\"mesh3d\",\"colorbar\":{\"outlinewidth\":0,\"ticks\":\"\"}}],\"scatter\":[{\"fillpattern\":{\"fillmode\":\"overlay\",\"size\":10,\"solidity\":0.2},\"type\":\"scatter\"}],\"parcoords\":[{\"type\":\"parcoords\",\"line\":{\"colorbar\":{\"outlinewidth\":0,\"ticks\":\"\"}}}],\"scatterpolargl\":[{\"type\":\"scatterpolargl\",\"marker\":{\"colorbar\":{\"outlinewidth\":0,\"ticks\":\"\"}}}],\"bar\":[{\"error_x\":{\"color\":\"#2a3f5f\"},\"error_y\":{\"color\":\"#2a3f5f\"},\"marker\":{\"line\":{\"color\":\"#E5ECF6\",\"width\":0.5},\"pattern\":{\"fillmode\":\"overlay\",\"size\":10,\"solidity\":0.2}},\"type\":\"bar\"}],\"scattergeo\":[{\"type\":\"scattergeo\",\"marker\":{\"colorbar\":{\"outlinewidth\":0,\"ticks\":\"\"}}}],\"scatterpolar\":[{\"type\":\"scatterpolar\",\"marker\":{\"colorbar\":{\"outlinewidth\":0,\"ticks\":\"\"}}}],\"histogram\":[{\"marker\":{\"pattern\":{\"fillmode\":\"overlay\",\"size\":10,\"solidity\":0.2}},\"type\":\"histogram\"}],\"scattergl\":[{\"type\":\"scattergl\",\"marker\":{\"colorbar\":{\"outlinewidth\":0,\"ticks\":\"\"}}}],\"scatter3d\":[{\"type\":\"scatter3d\",\"line\":{\"colorbar\":{\"outlinewidth\":0,\"ticks\":\"\"}},\"marker\":{\"colorbar\":{\"outlinewidth\":0,\"ticks\":\"\"}}}],\"scattermapbox\":[{\"type\":\"scattermapbox\",\"marker\":{\"colorbar\":{\"outlinewidth\":0,\"ticks\":\"\"}}}],\"scatterternary\":[{\"type\":\"scatterternary\",\"marker\":{\"colorbar\":{\"outlinewidth\":0,\"ticks\":\"\"}}}],\"scattercarpet\":[{\"type\":\"scattercarpet\",\"marker\":{\"colorbar\":{\"outlinewidth\":0,\"ticks\":\"\"}}}],\"carpet\":[{\"aaxis\":{\"endlinecolor\":\"#2a3f5f\",\"gridcolor\":\"white\",\"linecolor\":\"white\",\"minorgridcolor\":\"white\",\"startlinecolor\":\"#2a3f5f\"},\"baxis\":{\"endlinecolor\":\"#2a3f5f\",\"gridcolor\":\"white\",\"linecolor\":\"white\",\"minorgridcolor\":\"white\",\"startlinecolor\":\"#2a3f5f\"},\"type\":\"carpet\"}],\"table\":[{\"cells\":{\"fill\":{\"color\":\"#EBF0F8\"},\"line\":{\"color\":\"white\"}},\"header\":{\"fill\":{\"color\":\"#C8D4E3\"},\"line\":{\"color\":\"white\"}},\"type\":\"table\"}],\"barpolar\":[{\"marker\":{\"line\":{\"color\":\"#E5ECF6\",\"width\":0.5},\"pattern\":{\"fillmode\":\"overlay\",\"size\":10,\"solidity\":0.2}},\"type\":\"barpolar\"}],\"pie\":[{\"automargin\":true,\"type\":\"pie\"}]},\"layout\":{\"autotypenumbers\":\"strict\",\"colorway\":[\"#636efa\",\"#EF553B\",\"#00cc96\",\"#ab63fa\",\"#FFA15A\",\"#19d3f3\",\"#FF6692\",\"#B6E880\",\"#FF97FF\",\"#FECB52\"],\"font\":{\"color\":\"#2a3f5f\"},\"hovermode\":\"closest\",\"hoverlabel\":{\"align\":\"left\"},\"paper_bgcolor\":\"white\",\"plot_bgcolor\":\"#E5ECF6\",\"polar\":{\"bgcolor\":\"#E5ECF6\",\"angularaxis\":{\"gridcolor\":\"white\",\"linecolor\":\"white\",\"ticks\":\"\"},\"radialaxis\":{\"gridcolor\":\"white\",\"linecolor\":\"white\",\"ticks\":\"\"}},\"ternary\":{\"bgcolor\":\"#E5ECF6\",\"aaxis\":{\"gridcolor\":\"white\",\"linecolor\":\"white\",\"ticks\":\"\"},\"baxis\":{\"gridcolor\":\"white\",\"linecolor\":\"white\",\"ticks\":\"\"},\"caxis\":{\"gridcolor\":\"white\",\"linecolor\":\"white\",\"ticks\":\"\"}},\"coloraxis\":{\"colorbar\":{\"outlinewidth\":0,\"ticks\":\"\"}},\"colorscale\":{\"sequential\":[[0.0,\"#0d0887\"],[0.1111111111111111,\"#46039f\"],[0.2222222222222222,\"#7201a8\"],[0.3333333333333333,\"#9c179e\"],[0.4444444444444444,\"#bd3786\"],[0.5555555555555556,\"#d8576b\"],[0.6666666666666666,\"#ed7953\"],[0.7777777777777778,\"#fb9f3a\"],[0.8888888888888888,\"#fdca26\"],[1.0,\"#f0f921\"]],\"sequentialminus\":[[0.0,\"#0d0887\"],[0.1111111111111111,\"#46039f\"],[0.2222222222222222,\"#7201a8\"],[0.3333333333333333,\"#9c179e\"],[0.4444444444444444,\"#bd3786\"],[0.5555555555555556,\"#d8576b\"],[0.6666666666666666,\"#ed7953\"],[0.7777777777777778,\"#fb9f3a\"],[0.8888888888888888,\"#fdca26\"],[1.0,\"#f0f921\"]],\"diverging\":[[0,\"#8e0152\"],[0.1,\"#c51b7d\"],[0.2,\"#de77ae\"],[0.3,\"#f1b6da\"],[0.4,\"#fde0ef\"],[0.5,\"#f7f7f7\"],[0.6,\"#e6f5d0\"],[0.7,\"#b8e186\"],[0.8,\"#7fbc41\"],[0.9,\"#4d9221\"],[1,\"#276419\"]]},\"xaxis\":{\"gridcolor\":\"white\",\"linecolor\":\"white\",\"ticks\":\"\",\"title\":{\"standoff\":15},\"zerolinecolor\":\"white\",\"automargin\":true,\"zerolinewidth\":2},\"yaxis\":{\"gridcolor\":\"white\",\"linecolor\":\"white\",\"ticks\":\"\",\"title\":{\"standoff\":15},\"zerolinecolor\":\"white\",\"automargin\":true,\"zerolinewidth\":2},\"scene\":{\"xaxis\":{\"backgroundcolor\":\"#E5ECF6\",\"gridcolor\":\"white\",\"linecolor\":\"white\",\"showbackground\":true,\"ticks\":\"\",\"zerolinecolor\":\"white\",\"gridwidth\":2},\"yaxis\":{\"backgroundcolor\":\"#E5ECF6\",\"gridcolor\":\"white\",\"linecolor\":\"white\",\"showbackground\":true,\"ticks\":\"\",\"zerolinecolor\":\"white\",\"gridwidth\":2},\"zaxis\":{\"backgroundcolor\":\"#E5ECF6\",\"gridcolor\":\"white\",\"linecolor\":\"white\",\"showbackground\":true,\"ticks\":\"\",\"zerolinecolor\":\"white\",\"gridwidth\":2}},\"shapedefaults\":{\"line\":{\"color\":\"#2a3f5f\"}},\"annotationdefaults\":{\"arrowcolor\":\"#2a3f5f\",\"arrowhead\":0,\"arrowwidth\":1},\"geo\":{\"bgcolor\":\"white\",\"landcolor\":\"#E5ECF6\",\"subunitcolor\":\"white\",\"showland\":true,\"showlakes\":true,\"lakecolor\":\"white\"},\"title\":{\"x\":0.05},\"mapbox\":{\"style\":\"light\"}}},\"xaxis\":{\"anchor\":\"y\",\"domain\":[0.0,1.0],\"title\":{\"text\":\"fpr\"}},\"yaxis\":{\"anchor\":\"x\",\"domain\":[0.0,1.0],\"title\":{\"text\":\"tpr\"}},\"legend\":{\"tracegroupgap\":0},\"margin\":{\"t\":60}},                        {\"responsive\": true}                    ).then(function(){\n",
       "                            \n",
       "var gd = document.getElementById('b52f6ce7-ce65-4188-80c8-9b1c9ec5694e');\n",
       "var x = new MutationObserver(function (mutations, observer) {{\n",
       "        var display = window.getComputedStyle(gd).display;\n",
       "        if (!display || display === 'none') {{\n",
       "            console.log([gd, 'removed!']);\n",
       "            Plotly.purge(gd);\n",
       "            observer.disconnect();\n",
       "        }}\n",
       "}});\n",
       "\n",
       "// Listen for the removal of the full notebook cells\n",
       "var notebookContainer = gd.closest('#notebook-container');\n",
       "if (notebookContainer) {{\n",
       "    x.observe(notebookContainer, {childList: true});\n",
       "}}\n",
       "\n",
       "// Listen for the clearing of the current output cell\n",
       "var outputEl = gd.closest('.output');\n",
       "if (outputEl) {{\n",
       "    x.observe(outputEl, {childList: true});\n",
       "}}\n",
       "\n",
       "                        })                };                });            </script>        </div>"
      ]
     },
     "metadata": {},
     "output_type": "display_data"
    }
   ],
   "source": [
    "exp.line(df_roc, x= 'fpr', y='tpr', hover_data='thresholds')"
   ]
  },
  {
   "cell_type": "code",
   "execution_count": 85,
   "id": "786499fa-1e3e-4e80-b936-a081343bcaf8",
   "metadata": {},
   "outputs": [],
   "source": [
    "cmd = ConfusionMatrixDisplay(confusion_matrix(Y, A >= 0.23))"
   ]
  },
  {
   "cell_type": "code",
   "execution_count": 86,
   "id": "c9f3a80a-435a-494e-b992-9da0f4fff693",
   "metadata": {},
   "outputs": [
    {
     "data": {
      "text/plain": [
       "<sklearn.metrics._plot.confusion_matrix.ConfusionMatrixDisplay at 0x7f9bdd8b9030>"
      ]
     },
     "execution_count": 86,
     "metadata": {},
     "output_type": "execute_result"
    },
    {
     "data": {
      "image/png": "[encoded data removed]",
      "text/plain": [
       "<Figure size 640x480 with 2 Axes>"
      ]
     },
     "metadata": {},
     "output_type": "display_data"
    }
   ],
   "source": [
    "cmd.plot()"
   ]
  },
  {
   "cell_type": "code",
   "execution_count": 88,
   "id": "37180cfe-823a-4100-ad62-584f9ea4f681",
   "metadata": {},
   "outputs": [
    {
     "data": {
      "text/plain": [
       "0.17067307692307693"
      ]
     },
     "execution_count": 88,
     "metadata": {},
     "output_type": "execute_result"
    }
   ],
   "source": [
    "f1_score(Y, A >= 0.23)"
   ]
  },
  {
   "cell_type": "code",
   "execution_count": 78,
   "id": "d7c3c727-344e-4d2f-a2fc-7caeddaeecec",
   "metadata": {},
   "outputs": [],
   "source": [
    "from sklearn.linear_model import LogisticRegression"
   ]
  },
  {
   "cell_type": "code",
   "execution_count": 79,
   "id": "54017410-7703-4c41-b325-f4f8d954a6eb",
   "metadata": {},
   "outputs": [],
   "source": [
    "lr = LogisticRegression(penalty=None)"
   ]
  },
  {
   "cell_type": "code",
   "execution_count": 80,
   "id": "afbba05d-b376-4716-88aa-4864928a58bb",
   "metadata": {},
   "outputs": [
    {
     "data": {
      "text/html": [
       "<style>#sk-container-id-2 {\n",
       "  /* Definition of color scheme common for light and dark mode */\n",
       "  --sklearn-color-text: black;\n",
       "  --sklearn-color-line: gray;\n",
       "  /* Definition of color scheme for unfitted estimators */\n",
       "  --sklearn-color-unfitted-level-0: #fff5e6;\n",
       "  --sklearn-color-unfitted-level-1: #f6e4d2;\n",
       "  --sklearn-color-unfitted-level-2: #ffe0b3;\n",
       "  --sklearn-color-unfitted-level-3: chocolate;\n",
       "  /* Definition of color scheme for fitted estimators */\n",
       "  --sklearn-color-fitted-level-0: #f0f8ff;\n",
       "  --sklearn-color-fitted-level-1: #d4ebff;\n",
       "  --sklearn-color-fitted-level-2: #b3dbfd;\n",
       "  --sklearn-color-fitted-level-3: cornflowerblue;\n",
       "\n",
       "  /* Specific color for light theme */\n",
       "  --sklearn-color-text-on-default-background: var(--sg-text-color, var(--theme-code-foreground, var(--jp-content-font-color1, black)));\n",
       "  --sklearn-color-background: var(--sg-background-color, var(--theme-background, var(--jp-layout-color0, white)));\n",
       "  --sklearn-color-border-box: var(--sg-text-color, var(--theme-code-foreground, var(--jp-content-font-color1, black)));\n",
       "  --sklearn-color-icon: #696969;\n",
       "\n",
       "  @media (prefers-color-scheme: dark) {\n",
       "    /* Redefinition of color scheme for dark theme */\n",
       "    --sklearn-color-text-on-default-background: var(--sg-text-color, var(--theme-code-foreground, var(--jp-content-font-color1, white)));\n",
       "    --sklearn-color-background: var(--sg-background-color, var(--theme-background, var(--jp-layout-color0, #111)));\n",
       "    --sklearn-color-border-box: var(--sg-text-color, var(--theme-code-foreground, var(--jp-content-font-color1, white)));\n",
       "    --sklearn-color-icon: #878787;\n",
       "  }\n",
       "}\n",
       "\n",
       "#sk-container-id-2 {\n",
       "  color: var(--sklearn-color-text);\n",
       "}\n",
       "\n",
       "#sk-container-id-2 pre {\n",
       "  padding: 0;\n",
       "}\n",
       "\n",
       "#sk-container-id-2 input.sk-hidden--visually {\n",
       "  border: 0;\n",
       "  clip: rect(1px 1px 1px 1px);\n",
       "  clip: rect(1px, 1px, 1px, 1px);\n",
       "  height: 1px;\n",
       "  margin: -1px;\n",
       "  overflow: hidden;\n",
       "  padding: 0;\n",
       "  position: absolute;\n",
       "  width: 1px;\n",
       "}\n",
       "\n",
       "#sk-container-id-2 div.sk-dashed-wrapped {\n",
       "  border: 1px dashed var(--sklearn-color-line);\n",
       "  margin: 0 0.4em 0.5em 0.4em;\n",
       "  box-sizing: border-box;\n",
       "  padding-bottom: 0.4em;\n",
       "  background-color: var(--sklearn-color-background);\n",
       "}\n",
       "\n",
       "#sk-container-id-2 div.sk-container {\n",
       "  /* jupyter's `normalize.less` sets `[hidden] { display: none; }`\n",
       "     but bootstrap.min.css set `[hidden] { display: none !important; }`\n",
       "     so we also need the `!important` here to be able to override the\n",
       "     default hidden behavior on the sphinx rendered scikit-learn.org.\n",
       "     See: https://github.com/scikit-learn/scikit-learn/issues/21755 */\n",
       "  display: inline-block !important;\n",
       "  position: relative;\n",
       "}\n",
       "\n",
       "#sk-container-id-2 div.sk-text-repr-fallback {\n",
       "  display: none;\n",
       "}\n",
       "\n",
       "div.sk-parallel-item,\n",
       "div.sk-serial,\n",
       "div.sk-item {\n",
       "  /* draw centered vertical line to link estimators */\n",
       "  background-image: linear-gradient(var(--sklearn-color-text-on-default-background), var(--sklearn-color-text-on-default-background));\n",
       "  background-size: 2px 100%;\n",
       "  background-repeat: no-repeat;\n",
       "  background-position: center center;\n",
       "}\n",
       "\n",
       "/* Parallel-specific style estimator block */\n",
       "\n",
       "#sk-container-id-2 div.sk-parallel-item::after {\n",
       "  content: \"\";\n",
       "  width: 100%;\n",
       "  border-bottom: 2px solid var(--sklearn-color-text-on-default-background);\n",
       "  flex-grow: 1;\n",
       "}\n",
       "\n",
       "#sk-container-id-2 div.sk-parallel {\n",
       "  display: flex;\n",
       "  align-items: stretch;\n",
       "  justify-content: center;\n",
       "  background-color: var(--sklearn-color-background);\n",
       "  position: relative;\n",
       "}\n",
       "\n",
       "#sk-container-id-2 div.sk-parallel-item {\n",
       "  display: flex;\n",
       "  flex-direction: column;\n",
       "}\n",
       "\n",
       "#sk-container-id-2 div.sk-parallel-item:first-child::after {\n",
       "  align-self: flex-end;\n",
       "  width: 50%;\n",
       "}\n",
       "\n",
       "#sk-container-id-2 div.sk-parallel-item:last-child::after {\n",
       "  align-self: flex-start;\n",
       "  width: 50%;\n",
       "}\n",
       "\n",
       "#sk-container-id-2 div.sk-parallel-item:only-child::after {\n",
       "  width: 0;\n",
       "}\n",
       "\n",
       "/* Serial-specific style estimator block */\n",
       "\n",
       "#sk-container-id-2 div.sk-serial {\n",
       "  display: flex;\n",
       "  flex-direction: column;\n",
       "  align-items: center;\n",
       "  background-color: var(--sklearn-color-background);\n",
       "  padding-right: 1em;\n",
       "  padding-left: 1em;\n",
       "}\n",
       "\n",
       "\n",
       "/* Toggleable style: style used for estimator/Pipeline/ColumnTransformer box that is\n",
       "clickable and can be expanded/collapsed.\n",
       "- Pipeline and ColumnTransformer use this feature and define the default style\n",
       "- Estimators will overwrite some part of the style using the `sk-estimator` class\n",
       "*/\n",
       "\n",
       "/* Pipeline and ColumnTransformer style (default) */\n",
       "\n",
       "#sk-container-id-2 div.sk-toggleable {\n",
       "  /* Default theme specific background. It is overwritten whether we have a\n",
       "  specific estimator or a Pipeline/ColumnTransformer */\n",
       "  background-color: var(--sklearn-color-background);\n",
       "}\n",
       "\n",
       "/* Toggleable label */\n",
       "#sk-container-id-2 label.sk-toggleable__label {\n",
       "  cursor: pointer;\n",
       "  display: block;\n",
       "  width: 100%;\n",
       "  margin-bottom: 0;\n",
       "  padding: 0.5em;\n",
       "  box-sizing: border-box;\n",
       "  text-align: center;\n",
       "}\n",
       "\n",
       "#sk-container-id-2 label.sk-toggleable__label-arrow:before {\n",
       "  /* Arrow on the left of the label */\n",
       "  content: \"▸\";\n",
       "  float: left;\n",
       "  margin-right: 0.25em;\n",
       "  color: var(--sklearn-color-icon);\n",
       "}\n",
       "\n",
       "#sk-container-id-2 label.sk-toggleable__label-arrow:hover:before {\n",
       "  color: var(--sklearn-color-text);\n",
       "}\n",
       "\n",
       "/* Toggleable content - dropdown */\n",
       "\n",
       "#sk-container-id-2 div.sk-toggleable__content {\n",
       "  max-height: 0;\n",
       "  max-width: 0;\n",
       "  overflow: hidden;\n",
       "  text-align: left;\n",
       "  /* unfitted */\n",
       "  background-color: var(--sklearn-color-unfitted-level-0);\n",
       "}\n",
       "\n",
       "#sk-container-id-2 div.sk-toggleable__content.fitted {\n",
       "  /* fitted */\n",
       "  background-color: var(--sklearn-color-fitted-level-0);\n",
       "}\n",
       "\n",
       "#sk-container-id-2 div.sk-toggleable__content pre {\n",
       "  margin: 0.2em;\n",
       "  border-radius: 0.25em;\n",
       "  color: var(--sklearn-color-text);\n",
       "  /* unfitted */\n",
       "  background-color: var(--sklearn-color-unfitted-level-0);\n",
       "}\n",
       "\n",
       "#sk-container-id-2 div.sk-toggleable__content.fitted pre {\n",
       "  /* unfitted */\n",
       "  background-color: var(--sklearn-color-fitted-level-0);\n",
       "}\n",
       "\n",
       "#sk-container-id-2 input.sk-toggleable__control:checked~div.sk-toggleable__content {\n",
       "  /* Expand drop-down */\n",
       "  max-height: 200px;\n",
       "  max-width: 100%;\n",
       "  overflow: auto;\n",
       "}\n",
       "\n",
       "#sk-container-id-2 input.sk-toggleable__control:checked~label.sk-toggleable__label-arrow:before {\n",
       "  content: \"▾\";\n",
       "}\n",
       "\n",
       "/* Pipeline/ColumnTransformer-specific style */\n",
       "\n",
       "#sk-container-id-2 div.sk-label input.sk-toggleable__control:checked~label.sk-toggleable__label {\n",
       "  color: var(--sklearn-color-text);\n",
       "  background-color: var(--sklearn-color-unfitted-level-2);\n",
       "}\n",
       "\n",
       "#sk-container-id-2 div.sk-label.fitted input.sk-toggleable__control:checked~label.sk-toggleable__label {\n",
       "  background-color: var(--sklearn-color-fitted-level-2);\n",
       "}\n",
       "\n",
       "/* Estimator-specific style */\n",
       "\n",
       "/* Colorize estimator box */\n",
       "#sk-container-id-2 div.sk-estimator input.sk-toggleable__control:checked~label.sk-toggleable__label {\n",
       "  /* unfitted */\n",
       "  background-color: var(--sklearn-color-unfitted-level-2);\n",
       "}\n",
       "\n",
       "#sk-container-id-2 div.sk-estimator.fitted input.sk-toggleable__control:checked~label.sk-toggleable__label {\n",
       "  /* fitted */\n",
       "  background-color: var(--sklearn-color-fitted-level-2);\n",
       "}\n",
       "\n",
       "#sk-container-id-2 div.sk-label label.sk-toggleable__label,\n",
       "#sk-container-id-2 div.sk-label label {\n",
       "  /* The background is the default theme color */\n",
       "  color: var(--sklearn-color-text-on-default-background);\n",
       "}\n",
       "\n",
       "/* On hover, darken the color of the background */\n",
       "#sk-container-id-2 div.sk-label:hover label.sk-toggleable__label {\n",
       "  color: var(--sklearn-color-text);\n",
       "  background-color: var(--sklearn-color-unfitted-level-2);\n",
       "}\n",
       "\n",
       "/* Label box, darken color on hover, fitted */\n",
       "#sk-container-id-2 div.sk-label.fitted:hover label.sk-toggleable__label.fitted {\n",
       "  color: var(--sklearn-color-text);\n",
       "  background-color: var(--sklearn-color-fitted-level-2);\n",
       "}\n",
       "\n",
       "/* Estimator label */\n",
       "\n",
       "#sk-container-id-2 div.sk-label label {\n",
       "  font-family: monospace;\n",
       "  font-weight: bold;\n",
       "  display: inline-block;\n",
       "  line-height: 1.2em;\n",
       "}\n",
       "\n",
       "#sk-container-id-2 div.sk-label-container {\n",
       "  text-align: center;\n",
       "}\n",
       "\n",
       "/* Estimator-specific */\n",
       "#sk-container-id-2 div.sk-estimator {\n",
       "  font-family: monospace;\n",
       "  border: 1px dotted var(--sklearn-color-border-box);\n",
       "  border-radius: 0.25em;\n",
       "  box-sizing: border-box;\n",
       "  margin-bottom: 0.5em;\n",
       "  /* unfitted */\n",
       "  background-color: var(--sklearn-color-unfitted-level-0);\n",
       "}\n",
       "\n",
       "#sk-container-id-2 div.sk-estimator.fitted {\n",
       "  /* fitted */\n",
       "  background-color: var(--sklearn-color-fitted-level-0);\n",
       "}\n",
       "\n",
       "/* on hover */\n",
       "#sk-container-id-2 div.sk-estimator:hover {\n",
       "  /* unfitted */\n",
       "  background-color: var(--sklearn-color-unfitted-level-2);\n",
       "}\n",
       "\n",
       "#sk-container-id-2 div.sk-estimator.fitted:hover {\n",
       "  /* fitted */\n",
       "  background-color: var(--sklearn-color-fitted-level-2);\n",
       "}\n",
       "\n",
       "/* Specification for estimator info (e.g. \"i\" and \"?\") */\n",
       "\n",
       "/* Common style for \"i\" and \"?\" */\n",
       "\n",
       ".sk-estimator-doc-link,\n",
       "a:link.sk-estimator-doc-link,\n",
       "a:visited.sk-estimator-doc-link {\n",
       "  float: right;\n",
       "  font-size: smaller;\n",
       "  line-height: 1em;\n",
       "  font-family: monospace;\n",
       "  background-color: var(--sklearn-color-background);\n",
       "  border-radius: 1em;\n",
       "  height: 1em;\n",
       "  width: 1em;\n",
       "  text-decoration: none !important;\n",
       "  margin-left: 1ex;\n",
       "  /* unfitted */\n",
       "  border: var(--sklearn-color-unfitted-level-1) 1pt solid;\n",
       "  color: var(--sklearn-color-unfitted-level-1);\n",
       "}\n",
       "\n",
       ".sk-estimator-doc-link.fitted,\n",
       "a:link.sk-estimator-doc-link.fitted,\n",
       "a:visited.sk-estimator-doc-link.fitted {\n",
       "  /* fitted */\n",
       "  border: var(--sklearn-color-fitted-level-1) 1pt solid;\n",
       "  color: var(--sklearn-color-fitted-level-1);\n",
       "}\n",
       "\n",
       "/* On hover */\n",
       "div.sk-estimator:hover .sk-estimator-doc-link:hover,\n",
       ".sk-estimator-doc-link:hover,\n",
       "div.sk-label-container:hover .sk-estimator-doc-link:hover,\n",
       ".sk-estimator-doc-link:hover {\n",
       "  /* unfitted */\n",
       "  background-color: var(--sklearn-color-unfitted-level-3);\n",
       "  color: var(--sklearn-color-background);\n",
       "  text-decoration: none;\n",
       "}\n",
       "\n",
       "div.sk-estimator.fitted:hover .sk-estimator-doc-link.fitted:hover,\n",
       ".sk-estimator-doc-link.fitted:hover,\n",
       "div.sk-label-container:hover .sk-estimator-doc-link.fitted:hover,\n",
       ".sk-estimator-doc-link.fitted:hover {\n",
       "  /* fitted */\n",
       "  background-color: var(--sklearn-color-fitted-level-3);\n",
       "  color: var(--sklearn-color-background);\n",
       "  text-decoration: none;\n",
       "}\n",
       "\n",
       "/* Span, style for the box shown on hovering the info icon */\n",
       ".sk-estimator-doc-link span {\n",
       "  display: none;\n",
       "  z-index: 9999;\n",
       "  position: relative;\n",
       "  font-weight: normal;\n",
       "  right: .2ex;\n",
       "  padding: .5ex;\n",
       "  margin: .5ex;\n",
       "  width: min-content;\n",
       "  min-width: 20ex;\n",
       "  max-width: 50ex;\n",
       "  color: var(--sklearn-color-text);\n",
       "  box-shadow: 2pt 2pt 4pt #999;\n",
       "  /* unfitted */\n",
       "  background: var(--sklearn-color-unfitted-level-0);\n",
       "  border: .5pt solid var(--sklearn-color-unfitted-level-3);\n",
       "}\n",
       "\n",
       ".sk-estimator-doc-link.fitted span {\n",
       "  /* fitted */\n",
       "  background: var(--sklearn-color-fitted-level-0);\n",
       "  border: var(--sklearn-color-fitted-level-3);\n",
       "}\n",
       "\n",
       ".sk-estimator-doc-link:hover span {\n",
       "  display: block;\n",
       "}\n",
       "\n",
       "/* \"?\"-specific style due to the `<a>` HTML tag */\n",
       "\n",
       "#sk-container-id-2 a.estimator_doc_link {\n",
       "  float: right;\n",
       "  font-size: 1rem;\n",
       "  line-height: 1em;\n",
       "  font-family: monospace;\n",
       "  background-color: var(--sklearn-color-background);\n",
       "  border-radius: 1rem;\n",
       "  height: 1rem;\n",
       "  width: 1rem;\n",
       "  text-decoration: none;\n",
       "  /* unfitted */\n",
       "  color: var(--sklearn-color-unfitted-level-1);\n",
       "  border: var(--sklearn-color-unfitted-level-1) 1pt solid;\n",
       "}\n",
       "\n",
       "#sk-container-id-2 a.estimator_doc_link.fitted {\n",
       "  /* fitted */\n",
       "  border: var(--sklearn-color-fitted-level-1) 1pt solid;\n",
       "  color: var(--sklearn-color-fitted-level-1);\n",
       "}\n",
       "\n",
       "/* On hover */\n",
       "#sk-container-id-2 a.estimator_doc_link:hover {\n",
       "  /* unfitted */\n",
       "  background-color: var(--sklearn-color-unfitted-level-3);\n",
       "  color: var(--sklearn-color-background);\n",
       "  text-decoration: none;\n",
       "}\n",
       "\n",
       "#sk-container-id-2 a.estimator_doc_link.fitted:hover {\n",
       "  /* fitted */\n",
       "  background-color: var(--sklearn-color-fitted-level-3);\n",
       "}\n",
       "</style><div id=\"sk-container-id-2\" class=\"sk-top-container\"><div class=\"sk-text-repr-fallback\"><pre>LogisticRegression(penalty=None)</pre><b>In a Jupyter environment, please rerun this cell to show the HTML representation or trust the notebook. <br />On GitHub, the HTML representation is unable to render, please try loading this page with nbviewer.org.</b></div><div class=\"sk-container\" hidden><div class=\"sk-item\"><div class=\"sk-estimator fitted sk-toggleable\"><input class=\"sk-toggleable__control sk-hidden--visually\" id=\"sk-estimator-id-2\" type=\"checkbox\" checked><label for=\"sk-estimator-id-2\" class=\"sk-toggleable__label fitted sk-toggleable__label-arrow fitted\">&nbsp;&nbsp;LogisticRegression<a class=\"sk-estimator-doc-link fitted\" rel=\"noreferrer\" target=\"_blank\" href=\"https://scikit-learn.org/1.5/modules/generated/sklearn.linear_model.LogisticRegression.html\">?<span>Documentation for LogisticRegression</span></a><span class=\"sk-estimator-doc-link fitted\">i<span>Fitted</span></span></label><div class=\"sk-toggleable__content fitted\"><pre>LogisticRegression(penalty=None)</pre></div> </div></div></div></div>"
      ],
      "text/plain": [
       "LogisticRegression(penalty=None)"
      ]
     },
     "execution_count": 80,
     "metadata": {},
     "output_type": "execute_result"
    }
   ],
   "source": [
    "lr.fit(scaled_X, Y.reshape(-1))"
   ]
  },
  {
   "cell_type": "code",
   "execution_count": 81,
   "id": "a850a45c-878f-4dec-ba57-38e244e1388c",
   "metadata": {},
   "outputs": [],
   "source": [
    "Y_hat= lr.predict(scaled_X)"
   ]
  },
  {
   "cell_type": "code",
   "execution_count": 82,
   "id": "2d584cf2-c04d-4906-ba20-2729fab295dc",
   "metadata": {},
   "outputs": [
    {
     "data": {
      "text/plain": [
       "(4238,)"
      ]
     },
     "execution_count": 82,
     "metadata": {},
     "output_type": "execute_result"
    }
   ],
   "source": [
    "Y_hat.shape"
   ]
  },
  {
   "cell_type": "code",
   "execution_count": 83,
   "id": "2a516fd5-2a16-433c-8c02-47c342d61141",
   "metadata": {},
   "outputs": [
    {
     "data": {
      "text/plain": [
       "<sklearn.metrics._plot.confusion_matrix.ConfusionMatrixDisplay at 0x7f9bdcda2fe0>"
      ]
     },
     "execution_count": 83,
     "metadata": {},
     "output_type": "execute_result"
    },
    {
     "data": {
      "image/png": "[encoded data removed]",
      "text/plain": [
       "<Figure size 640x480 with 2 Axes>"
      ]
     },
     "metadata": {},
     "output_type": "display_data"
    }
   ],
   "source": [
    "ConfusionMatrixDisplay(confusion_matrix(Y, Y_hat)).plot()"
   ]
  },
  {
   "cell_type": "code",
   "execution_count": 84,
   "id": "ead9716b-0c35-404a-b521-e5257d38ae45",
   "metadata": {},
   "outputs": [
    {
     "data": {
      "text/plain": [
       "0.10644257703081232"
      ]
     },
     "execution_count": 84,
     "metadata": {},
     "output_type": "execute_result"
    }
   ],
   "source": [
    "f1_score(Y, Y_hat)"
   ]
  },
  {
   "cell_type": "code",
   "execution_count": 148,
   "id": "014eb4fe-9044-4ec4-83e3-ab9c116493ec",
   "metadata": {},
   "outputs": [
    {
     "data": {
      "text/plain": [
       "array([[ 0.5698393 ,  2.35142838,  0.38536738,  1.02219196,  0.2450085 ,\n",
       "         0.77726714,  3.30483632, -0.34003255]])"
      ]
     },
     "execution_count": 148,
     "metadata": {},
     "output_type": "execute_result"
    }
   ],
   "source": [
    "lr.coef_"
   ]
  },
  {
   "cell_type": "code",
   "execution_count": 149,
   "id": "211440aa-2853-4a64-8c09-96baf4bb5d80",
   "metadata": {},
   "outputs": [
    {
     "data": {
      "text/plain": [
       "array([[ 0.06932836],\n",
       "       [-0.24589683],\n",
       "       [-0.07926608],\n",
       "       [ 0.62730107],\n",
       "       [ 0.15190231],\n",
       "       [ 0.02514242],\n",
       "       [ 0.46152773],\n",
       "       [-0.60755636]])"
      ]
     },
     "execution_count": 149,
     "metadata": {},
     "output_type": "execute_result"
    }
   ],
   "source": [
    "W"
   ]
  },
  {
   "cell_type": "code",
   "execution_count": null,
   "id": "b580074d-8498-4dca-9f27-04508afd5409",
   "metadata": {},
   "outputs": [],
   "source": []
  }
 ],
 "metadata": {
  "kernelspec": {
   "display_name": "Python 3 (ipykernel)",
   "language": "python",
   "name": "python3"
  },
  "language_info": {
   "codemirror_mode": {
    "name": "ipython",
    "version": 3
   },
   "file_extension": ".py",
   "mimetype": "text/x-python",
   "name": "python",
   "nbconvert_exporter": "python",
   "pygments_lexer": "ipython3",
   "version": "3.10.0"
  }
 },
 "nbformat": 4,
 "nbformat_minor": 5
}
